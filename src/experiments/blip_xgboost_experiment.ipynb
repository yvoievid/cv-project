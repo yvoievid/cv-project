{
 "cells": [
  {
   "cell_type": "code",
   "execution_count": 4,
   "metadata": {},
   "outputs": [],
   "source": [
    "from sklearn.model_selection import train_test_split\n",
    "from sklearn.metrics import accuracy_score, classification_report, f1_score, recall_score, precision_score\n",
    "import wandb\n",
    "import xgboost as xgb"
   ]
  },
  {
   "cell_type": "code",
   "execution_count": 1,
   "metadata": {},
   "outputs": [
    {
     "data": {
      "application/vnd.jupyter.widget-view+json": {
       "model_id": "033687732b34434691acbf5cfa8cb76e",
       "version_major": 2,
       "version_minor": 0
      },
      "text/plain": [
       "config.json:   0%|          | 0.00/1.03k [00:00<?, ?B/s]"
      ]
     },
     "metadata": {},
     "output_type": "display_data"
    },
    {
     "data": {
      "application/vnd.jupyter.widget-view+json": {
       "model_id": "8936f33e5c5e4ed7b0ed9c2f52c0e610",
       "version_major": 2,
       "version_minor": 0
      },
      "text/plain": [
       "model.safetensors.index.json:   0%|          | 0.00/122k [00:00<?, ?B/s]"
      ]
     },
     "metadata": {},
     "output_type": "display_data"
    },
    {
     "data": {
      "application/vnd.jupyter.widget-view+json": {
       "model_id": "803be94a3f0b43449aa7457b8436988f",
       "version_major": 2,
       "version_minor": 0
      },
      "text/plain": [
       "Downloading shards:   0%|          | 0/2 [00:00<?, ?it/s]"
      ]
     },
     "metadata": {},
     "output_type": "display_data"
    },
    {
     "data": {
      "application/vnd.jupyter.widget-view+json": {
       "model_id": "8e954e8d593e41119f876c4f0b50bccb",
       "version_major": 2,
       "version_minor": 0
      },
      "text/plain": [
       "model-00001-of-00002.safetensors:   0%|          | 0.00/10.0G [00:00<?, ?B/s]"
      ]
     },
     "metadata": {},
     "output_type": "display_data"
    },
    {
     "data": {
      "application/vnd.jupyter.widget-view+json": {
       "model_id": "a4eab41f9e314368a3defba2538de92d",
       "version_major": 2,
       "version_minor": 0
      },
      "text/plain": [
       "model-00002-of-00002.safetensors:   0%|          | 0.00/4.98G [00:00<?, ?B/s]"
      ]
     },
     "metadata": {},
     "output_type": "display_data"
    },
    {
     "data": {
      "application/vnd.jupyter.widget-view+json": {
       "model_id": "fd8cd51a4f734423a3012ae876ef10df",
       "version_major": 2,
       "version_minor": 0
      },
      "text/plain": [
       "Loading checkpoint shards:   0%|          | 0/2 [00:00<?, ?it/s]"
      ]
     },
     "metadata": {},
     "output_type": "display_data"
    },
    {
     "data": {
      "application/vnd.jupyter.widget-view+json": {
       "model_id": "8ce467b9c7824113846c459f52b9ae05",
       "version_major": 2,
       "version_minor": 0
      },
      "text/plain": [
       "preprocessor_config.json:   0%|          | 0.00/432 [00:00<?, ?B/s]"
      ]
     },
     "metadata": {},
     "output_type": "display_data"
    },
    {
     "data": {
      "application/vnd.jupyter.widget-view+json": {
       "model_id": "0c51c38a655f4f95948a5dac2e7df6cb",
       "version_major": 2,
       "version_minor": 0
      },
      "text/plain": [
       "tokenizer_config.json:   0%|          | 0.00/882 [00:00<?, ?B/s]"
      ]
     },
     "metadata": {},
     "output_type": "display_data"
    },
    {
     "data": {
      "application/vnd.jupyter.widget-view+json": {
       "model_id": "9a635e3275d544d2a335f7332bb008c9",
       "version_major": 2,
       "version_minor": 0
      },
      "text/plain": [
       "vocab.json:   0%|          | 0.00/798k [00:00<?, ?B/s]"
      ]
     },
     "metadata": {},
     "output_type": "display_data"
    },
    {
     "data": {
      "application/vnd.jupyter.widget-view+json": {
       "model_id": "14125e3a1f6c4c41922bcf7fe267718a",
       "version_major": 2,
       "version_minor": 0
      },
      "text/plain": [
       "merges.txt:   0%|          | 0.00/456k [00:00<?, ?B/s]"
      ]
     },
     "metadata": {},
     "output_type": "display_data"
    },
    {
     "data": {
      "application/vnd.jupyter.widget-view+json": {
       "model_id": "e2ae06b8b82b494ea540ec6e8067b891",
       "version_major": 2,
       "version_minor": 0
      },
      "text/plain": [
       "tokenizer.json:   0%|          | 0.00/3.56M [00:00<?, ?B/s]"
      ]
     },
     "metadata": {},
     "output_type": "display_data"
    },
    {
     "data": {
      "application/vnd.jupyter.widget-view+json": {
       "model_id": "efffea3bfb28488aba8bf5b933a67443",
       "version_major": 2,
       "version_minor": 0
      },
      "text/plain": [
       "added_tokens.json:   0%|          | 0.00/23.0 [00:00<?, ?B/s]"
      ]
     },
     "metadata": {},
     "output_type": "display_data"
    },
    {
     "data": {
      "application/vnd.jupyter.widget-view+json": {
       "model_id": "6be0e30c0efb417c8cffd899c12b6092",
       "version_major": 2,
       "version_minor": 0
      },
      "text/plain": [
       "special_tokens_map.json:   0%|          | 0.00/548 [00:00<?, ?B/s]"
      ]
     },
     "metadata": {},
     "output_type": "display_data"
    },
    {
     "data": {
      "application/vnd.jupyter.widget-view+json": {
       "model_id": "90ecc710ed244538af8181d758cc752f",
       "version_major": 2,
       "version_minor": 0
      },
      "text/plain": [
       "processor_config.json:   0%|          | 0.00/68.0 [00:00<?, ?B/s]"
      ]
     },
     "metadata": {},
     "output_type": "display_data"
    },
    {
     "ename": "FileNotFoundError",
     "evalue": "[Errno 2] No such file or directory: 'path_to_your_dataset'",
     "output_type": "error",
     "traceback": [
      "\u001b[0;31m---------------------------------------------------------------------------\u001b[0m",
      "\u001b[0;31mFileNotFoundError\u001b[0m                         Traceback (most recent call last)",
      "Cell \u001b[0;32mIn[1], line 49\u001b[0m\n\u001b[1;32m     47\u001b[0m \u001b[38;5;66;03m# Create dataset and dataloader\u001b[39;00m\n\u001b[1;32m     48\u001b[0m dataset_path \u001b[38;5;241m=\u001b[39m \u001b[38;5;124m\"\u001b[39m\u001b[38;5;124mpath_to_your_dataset\u001b[39m\u001b[38;5;124m\"\u001b[39m\n\u001b[0;32m---> 49\u001b[0m ui_dataset_all \u001b[38;5;241m=\u001b[39m \u001b[43mUIDataset\u001b[49m\u001b[43m(\u001b[49m\u001b[43mroot_dir\u001b[49m\u001b[38;5;241;43m=\u001b[39;49m\u001b[43mdataset_path\u001b[49m\u001b[43m,\u001b[49m\u001b[43m \u001b[49m\u001b[43mprocessor\u001b[49m\u001b[38;5;241;43m=\u001b[39;49m\u001b[43mprocessor\u001b[49m\u001b[43m)\u001b[49m\n\u001b[1;32m     50\u001b[0m ui_dataset_all_dataloader \u001b[38;5;241m=\u001b[39m DataLoader(ui_dataset_all, batch_size\u001b[38;5;241m=\u001b[39m\u001b[38;5;241m32\u001b[39m, shuffle\u001b[38;5;241m=\u001b[39m\u001b[38;5;28;01mFalse\u001b[39;00m)\n\u001b[1;32m     52\u001b[0m \u001b[38;5;66;03m# Extract image embeddings using BLIP-2 vision encoder\u001b[39;00m\n",
      "Cell \u001b[0;32mIn[1], line 24\u001b[0m, in \u001b[0;36mUIDataset.__init__\u001b[0;34m(self, root_dir, processor)\u001b[0m\n\u001b[1;32m     21\u001b[0m \u001b[38;5;28mself\u001b[39m\u001b[38;5;241m.\u001b[39mprocessor \u001b[38;5;241m=\u001b[39m processor\n\u001b[1;32m     22\u001b[0m \u001b[38;5;28mself\u001b[39m\u001b[38;5;241m.\u001b[39mimage_paths \u001b[38;5;241m=\u001b[39m []\n\u001b[0;32m---> 24\u001b[0m \u001b[38;5;28;01mfor\u001b[39;00m label \u001b[38;5;129;01min\u001b[39;00m \u001b[43mos\u001b[49m\u001b[38;5;241;43m.\u001b[39;49m\u001b[43mlistdir\u001b[49m\u001b[43m(\u001b[49m\u001b[38;5;28;43mself\u001b[39;49m\u001b[38;5;241;43m.\u001b[39;49m\u001b[43mroot_dir\u001b[49m\u001b[43m)\u001b[49m:\n\u001b[1;32m     25\u001b[0m     subdir_path \u001b[38;5;241m=\u001b[39m os\u001b[38;5;241m.\u001b[39mpath\u001b[38;5;241m.\u001b[39mjoin(\u001b[38;5;28mself\u001b[39m\u001b[38;5;241m.\u001b[39mroot_dir, label)\n\u001b[1;32m     26\u001b[0m     \u001b[38;5;28;01mif\u001b[39;00m os\u001b[38;5;241m.\u001b[39mpath\u001b[38;5;241m.\u001b[39misdir(subdir_path):\n",
      "\u001b[0;31mFileNotFoundError\u001b[0m: [Errno 2] No such file or directory: 'path_to_your_dataset'"
     ]
    }
   ],
   "source": [
    "import os\n",
    "import torch\n",
    "import numpy as np\n",
    "from tqdm import tqdm\n",
    "from PIL import Image\n",
    "from torch.utils.data import Dataset, DataLoader\n",
    "from transformers import Blip2Processor, Blip2Model\n",
    "\n",
    "# Set device\n",
    "device = \"cuda\" if torch.cuda.is_available() else \"mps\" if torch.backends.mps.is_available() else \"cpu\"\n",
    "\n",
    "# Load BLIP-2 model and processor\n",
    "model_id = \"Salesforce/blip2-opt-2.7b\"  # You can use a different BLIP-2 model variant\n",
    "blip_model = Blip2Model.from_pretrained(model_id).to(device)\n",
    "processor = Blip2Processor.from_pretrained(model_id)\n",
    "\n",
    "# Define custom dataset\n",
    "class UIDataset(Dataset):\n",
    "    def __init__(self, root_dir, processor=None):\n",
    "        self.root_dir = root_dir\n",
    "        self.processor = processor\n",
    "        self.image_paths = []\n",
    "\n",
    "        for label in os.listdir(self.root_dir):\n",
    "            subdir_path = os.path.join(self.root_dir, label)\n",
    "            if os.path.isdir(subdir_path):\n",
    "                for filename in os.listdir(subdir_path):\n",
    "                    if filename.lower().endswith(('.png', '.jpg', '.jpeg', '.bmp', '.gif', '.tiff', '.webp')):\n",
    "                        file_path = os.path.join(subdir_path, filename)\n",
    "                        self.image_paths.append((file_path, label))  # Store (image path, label)\n",
    "\n",
    "    def __len__(self):\n",
    "        return len(self.image_paths)\n",
    "\n",
    "    def __getitem__(self, index):\n",
    "        file_path, label = self.image_paths[index]\n",
    "\n",
    "        image = Image.open(file_path).convert(\"RGB\")  \n",
    "\n",
    "        if self.processor:\n",
    "            inputs = self.processor(images=image, return_tensors=\"pt\")\n",
    "            image_tensor = inputs[\"pixel_values\"].squeeze(0)  # Extract processed image tensor\n",
    "\n",
    "        return image_tensor, label\n"
   ]
  },
  {
   "cell_type": "code",
   "execution_count": 2,
   "metadata": {},
   "outputs": [
    {
     "name": "stderr",
     "output_type": "stream",
     "text": [
      " 45%|████▍     | 58/130 [03:46<05:02,  4.20s/it]/Users/yuriivoievidka/.pyenv/versions/3.12.7/envs/torch/lib/python3.12/site-packages/PIL/Image.py:1054: UserWarning: Palette images with Transparency expressed in bytes should be converted to RGBA images\n",
      "  warnings.warn(\n",
      "100%|██████████| 130/130 [07:54<00:00,  3.65s/it]"
     ]
    },
    {
     "name": "stdout",
     "output_type": "stream",
     "text": [
      "Embeddings shape: torch.Size([4149, 1408])\n"
     ]
    },
    {
     "name": "stderr",
     "output_type": "stream",
     "text": [
      "\n"
     ]
    }
   ],
   "source": [
    "# Create dataset and dataloader\n",
    "dataset_path = \"/Users/yuriivoievidka/UCU/CV/cv-project/data\"\n",
    "ui_dataset_all = UIDataset(root_dir=dataset_path, processor=processor)\n",
    "ui_dataset_all_dataloader = DataLoader(ui_dataset_all, batch_size=32, shuffle=False)\n",
    "\n",
    "# Extract image embeddings using BLIP-2 vision encoder\n",
    "with torch.no_grad():\n",
    "    all_embeddings = []\n",
    "    for batch in tqdm(ui_dataset_all_dataloader):\n",
    "        images, labels = batch\n",
    "        images = images.to(device)\n",
    "\n",
    "        embeddings = blip_model.vision_model(images)  # Extract features from BLIP-2 vision encoder\n",
    "        embeddings = embeddings.pooler_output  # Take the pooled output if needed\n",
    "\n",
    "        embeddings /= embeddings.norm(dim=-1, keepdim=True)  # Normalize embeddings\n",
    "\n",
    "        all_embeddings.append(embeddings.cpu())\n",
    "\n",
    "    all_embeddings = torch.cat(all_embeddings, dim=0)\n",
    "\n",
    "print(\"Embeddings shape:\", all_embeddings.shape)\n",
    "\n",
    "# Convert embeddings to numpy\n",
    "all_embeddings_np = all_embeddings.numpy()\n",
    "\n",
    "# Encode labels as integers\n",
    "label_to_index = {label: idx for idx, label in enumerate(set(label for _, label in ui_dataset_all.image_paths))}\n",
    "all_labels_np = np.array([label_to_index[label] for _, label in ui_dataset_all.image_paths])\n",
    "\n",
    "# Save embeddings and labels\n",
    "np.save(\"blip2_embeddings.npy\", all_embeddings_np)\n",
    "np.save(\"blip2_labels.npy\", all_labels_np)"
   ]
  },
  {
   "cell_type": "code",
   "execution_count": 6,
   "metadata": {},
   "outputs": [],
   "source": [
    "embeddings = np.load(\"blip2_embeddings.npy\")  \n",
    "labels = np.load(\"blip2_labels.npy\")  \n",
    "\n",
    "X_train, X_test, y_train, y_test = train_test_split(embeddings, labels, test_size=0.3, random_state=42)"
   ]
  },
  {
   "cell_type": "code",
   "execution_count": 7,
   "metadata": {},
   "outputs": [],
   "source": [
    "sweep_config = {\n",
    "    \"method\": \"random\", \n",
    "    \"metric\": {\n",
    "      \"name\": \"accuracy\",\n",
    "      \"goal\": \"maximize\"   \n",
    "    },\n",
    "    \"parameters\": {\n",
    "        \"booster\": {\n",
    "            \"values\": [\"gbtree\",\"gblinear\"]\n",
    "        },\n",
    "        \"max_depth\": {\n",
    "            \"values\": [3, 6, 9, 12]\n",
    "        },\n",
    "        \"learning_rate\": {\n",
    "            \"values\": [0.1, 0.05, 0.2]\n",
    "        },\n",
    "        \"subsample\": {\n",
    "            \"values\": [1, 0.5, 0.3]\n",
    "        }\n",
    "    }\n",
    "}"
   ]
  },
  {
   "cell_type": "code",
   "execution_count": 10,
   "metadata": {},
   "outputs": [
    {
     "name": "stderr",
     "output_type": "stream",
     "text": [
      "\u001b[34m\u001b[1mwandb\u001b[0m: Using wandb-core as the SDK backend.  Please refer to https://wandb.me/wandb-core for more information.\n"
     ]
    },
    {
     "name": "stdout",
     "output_type": "stream",
     "text": [
      "Create sweep with ID: fjdy11wf\n",
      "Sweep URL: https://wandb.ai/urik-voevidka-ukrainian-catholic-university/ui-classification-experiments/sweeps/fjdy11wf\n"
     ]
    }
   ],
   "source": [
    "sweep_id = wandb.sweep(sweep_config, project=\"ui-classification-experiments\")"
   ]
  },
  {
   "cell_type": "code",
   "execution_count": 11,
   "metadata": {},
   "outputs": [],
   "source": [
    "def train():\n",
    "  config={\n",
    "        \"learning_rate\": 0.02,\n",
    "        \"architecture\": \"XGBoost\",\n",
    "        \"dataset\": \"DesktopUI\",\n",
    "        \"epochs\": 100,\n",
    "        \"model\": \"XGBoost\",\n",
    "        \"test_size\": 0.3,\n",
    "        \"random_state\": 42\n",
    "    }\n",
    "\n",
    "  wandb.init(config=config)  # defaults are over-ridden during the sweep\n",
    "  config = wandb.config\n",
    "\n",
    "  model = xgb.XGBClassifier(objective=\"multi:softmax\", booster=config.booster, max_depth=config.max_depth,\n",
    "                        learning_rate=config.learning_rate, subsample=config.subsample)\n",
    "  model.fit(X_train, y_train)\n",
    "\n",
    "  y_pred = model.predict(X_test)\n",
    "  predictions = [round(value) for value in y_pred]\n",
    "\n",
    "  accuracy = accuracy_score(y_test, predictions)\n",
    "  \n",
    "  f1 = f1_score(y_test, predictions, average=\"weighted\")\n",
    "  recall = recall_score(y_test, predictions, average=\"weighted\")\n",
    "  precision = precision_score(y_test, predictions, average=\"weighted\")\n",
    "\n",
    "  wandb.log({\n",
    "      \"accuracy\": accuracy,\n",
    "      \"f1_score\": f1,\n",
    "      \"recall\": recall, \n",
    "      \"precision\": precision,\n",
    "      \"classification_report\": classification_report(y_test, predictions, output_dict=True)\n",
    "  })\n",
    "  "
   ]
  },
  {
   "cell_type": "code",
   "execution_count": 12,
   "metadata": {},
   "outputs": [
    {
     "name": "stderr",
     "output_type": "stream",
     "text": [
      "\u001b[34m\u001b[1mwandb\u001b[0m: Agent Starting Run: c6k7o7eg with config:\n",
      "\u001b[34m\u001b[1mwandb\u001b[0m: \tbooster: gblinear\n",
      "\u001b[34m\u001b[1mwandb\u001b[0m: \tlearning_rate: 0.2\n",
      "\u001b[34m\u001b[1mwandb\u001b[0m: \tmax_depth: 6\n",
      "\u001b[34m\u001b[1mwandb\u001b[0m: \tsubsample: 0.3\n",
      "\u001b[34m\u001b[1mwandb\u001b[0m: Currently logged in as: \u001b[33murik-voevidka\u001b[0m (\u001b[33murik-voevidka-ukrainian-catholic-university\u001b[0m) to \u001b[32mhttps://api.wandb.ai\u001b[0m. Use \u001b[1m`wandb login --relogin`\u001b[0m to force relogin\n"
     ]
    },
    {
     "data": {
      "text/html": [
       "Tracking run with wandb version 0.19.7"
      ],
      "text/plain": [
       "<IPython.core.display.HTML object>"
      ]
     },
     "metadata": {},
     "output_type": "display_data"
    },
    {
     "data": {
      "text/html": [
       "Run data is saved locally in <code>/Users/yuriivoievidka/UCU/CV/cv-project/src/experiments/wandb/run-20250223_155423-c6k7o7eg</code>"
      ],
      "text/plain": [
       "<IPython.core.display.HTML object>"
      ]
     },
     "metadata": {},
     "output_type": "display_data"
    },
    {
     "data": {
      "text/html": [
       "Syncing run <strong><a href='https://wandb.ai/urik-voevidka-ukrainian-catholic-university/ui-classification-experiments/runs/c6k7o7eg' target=\"_blank\">atomic-sweep-1</a></strong> to <a href='https://wandb.ai/urik-voevidka-ukrainian-catholic-university/ui-classification-experiments' target=\"_blank\">Weights & Biases</a> (<a href='https://wandb.me/developer-guide' target=\"_blank\">docs</a>)<br>Sweep page: <a href='https://wandb.ai/urik-voevidka-ukrainian-catholic-university/ui-classification-experiments/sweeps/fjdy11wf' target=\"_blank\">https://wandb.ai/urik-voevidka-ukrainian-catholic-university/ui-classification-experiments/sweeps/fjdy11wf</a>"
      ],
      "text/plain": [
       "<IPython.core.display.HTML object>"
      ]
     },
     "metadata": {},
     "output_type": "display_data"
    },
    {
     "data": {
      "text/html": [
       " View project at <a href='https://wandb.ai/urik-voevidka-ukrainian-catholic-university/ui-classification-experiments' target=\"_blank\">https://wandb.ai/urik-voevidka-ukrainian-catholic-university/ui-classification-experiments</a>"
      ],
      "text/plain": [
       "<IPython.core.display.HTML object>"
      ]
     },
     "metadata": {},
     "output_type": "display_data"
    },
    {
     "data": {
      "text/html": [
       " View sweep at <a href='https://wandb.ai/urik-voevidka-ukrainian-catholic-university/ui-classification-experiments/sweeps/fjdy11wf' target=\"_blank\">https://wandb.ai/urik-voevidka-ukrainian-catholic-university/ui-classification-experiments/sweeps/fjdy11wf</a>"
      ],
      "text/plain": [
       "<IPython.core.display.HTML object>"
      ]
     },
     "metadata": {},
     "output_type": "display_data"
    },
    {
     "data": {
      "text/html": [
       " View run at <a href='https://wandb.ai/urik-voevidka-ukrainian-catholic-university/ui-classification-experiments/runs/c6k7o7eg' target=\"_blank\">https://wandb.ai/urik-voevidka-ukrainian-catholic-university/ui-classification-experiments/runs/c6k7o7eg</a>"
      ],
      "text/plain": [
       "<IPython.core.display.HTML object>"
      ]
     },
     "metadata": {},
     "output_type": "display_data"
    },
    {
     "name": "stderr",
     "output_type": "stream",
     "text": [
      "[15:54:23] WARNING: /Users/runner/work/xgboost/xgboost/src/learner.cc:740: \n",
      "Parameters: { \"max_depth\", \"subsample\" } are not used.\n",
      "\n"
     ]
    },
    {
     "data": {
      "text/html": [],
      "text/plain": [
       "<IPython.core.display.HTML object>"
      ]
     },
     "metadata": {},
     "output_type": "display_data"
    },
    {
     "data": {
      "text/html": [
       "<br>    <style><br>        .wandb-row {<br>            display: flex;<br>            flex-direction: row;<br>            flex-wrap: wrap;<br>            justify-content: flex-start;<br>            width: 100%;<br>        }<br>        .wandb-col {<br>            display: flex;<br>            flex-direction: column;<br>            flex-basis: 100%;<br>            flex: 1;<br>            padding: 10px;<br>        }<br>    </style><br><div class=\"wandb-row\"><div class=\"wandb-col\"><h3>Run history:</h3><br/><table class=\"wandb\"><tr><td>accuracy</td><td>▁</td></tr><tr><td>f1_score</td><td>▁</td></tr><tr><td>precision</td><td>▁</td></tr><tr><td>recall</td><td>▁</td></tr></table><br/></div><div class=\"wandb-col\"><h3>Run summary:</h3><br/><table class=\"wandb\"><tr><td>accuracy</td><td>0.84578</td></tr><tr><td>f1_score</td><td>0.84659</td></tr><tr><td>precision</td><td>0.84891</td></tr><tr><td>recall</td><td>0.84578</td></tr></table><br/></div></div>"
      ],
      "text/plain": [
       "<IPython.core.display.HTML object>"
      ]
     },
     "metadata": {},
     "output_type": "display_data"
    },
    {
     "data": {
      "text/html": [
       " View run <strong style=\"color:#cdcd00\">atomic-sweep-1</strong> at: <a href='https://wandb.ai/urik-voevidka-ukrainian-catholic-university/ui-classification-experiments/runs/c6k7o7eg' target=\"_blank\">https://wandb.ai/urik-voevidka-ukrainian-catholic-university/ui-classification-experiments/runs/c6k7o7eg</a><br> View project at: <a href='https://wandb.ai/urik-voevidka-ukrainian-catholic-university/ui-classification-experiments' target=\"_blank\">https://wandb.ai/urik-voevidka-ukrainian-catholic-university/ui-classification-experiments</a><br>Synced 5 W&B file(s), 0 media file(s), 0 artifact file(s) and 0 other file(s)"
      ],
      "text/plain": [
       "<IPython.core.display.HTML object>"
      ]
     },
     "metadata": {},
     "output_type": "display_data"
    },
    {
     "data": {
      "text/html": [
       "Find logs at: <code>./wandb/run-20250223_155423-c6k7o7eg/logs</code>"
      ],
      "text/plain": [
       "<IPython.core.display.HTML object>"
      ]
     },
     "metadata": {},
     "output_type": "display_data"
    },
    {
     "name": "stderr",
     "output_type": "stream",
     "text": [
      "\u001b[34m\u001b[1mwandb\u001b[0m: Sweep Agent: Waiting for job.\n",
      "\u001b[34m\u001b[1mwandb\u001b[0m: Job received.\n",
      "\u001b[34m\u001b[1mwandb\u001b[0m: Agent Starting Run: h3aravin with config:\n",
      "\u001b[34m\u001b[1mwandb\u001b[0m: \tbooster: gbtree\n",
      "\u001b[34m\u001b[1mwandb\u001b[0m: \tlearning_rate: 0.05\n",
      "\u001b[34m\u001b[1mwandb\u001b[0m: \tmax_depth: 3\n",
      "\u001b[34m\u001b[1mwandb\u001b[0m: \tsubsample: 1\n"
     ]
    },
    {
     "data": {
      "text/html": [
       "Tracking run with wandb version 0.19.7"
      ],
      "text/plain": [
       "<IPython.core.display.HTML object>"
      ]
     },
     "metadata": {},
     "output_type": "display_data"
    },
    {
     "data": {
      "text/html": [
       "Run data is saved locally in <code>/Users/yuriivoievidka/UCU/CV/cv-project/src/experiments/wandb/run-20250223_155438-h3aravin</code>"
      ],
      "text/plain": [
       "<IPython.core.display.HTML object>"
      ]
     },
     "metadata": {},
     "output_type": "display_data"
    },
    {
     "data": {
      "text/html": [
       "Syncing run <strong><a href='https://wandb.ai/urik-voevidka-ukrainian-catholic-university/ui-classification-experiments/runs/h3aravin' target=\"_blank\">fanciful-sweep-2</a></strong> to <a href='https://wandb.ai/urik-voevidka-ukrainian-catholic-university/ui-classification-experiments' target=\"_blank\">Weights & Biases</a> (<a href='https://wandb.me/developer-guide' target=\"_blank\">docs</a>)<br>Sweep page: <a href='https://wandb.ai/urik-voevidka-ukrainian-catholic-university/ui-classification-experiments/sweeps/fjdy11wf' target=\"_blank\">https://wandb.ai/urik-voevidka-ukrainian-catholic-university/ui-classification-experiments/sweeps/fjdy11wf</a>"
      ],
      "text/plain": [
       "<IPython.core.display.HTML object>"
      ]
     },
     "metadata": {},
     "output_type": "display_data"
    },
    {
     "data": {
      "text/html": [
       " View project at <a href='https://wandb.ai/urik-voevidka-ukrainian-catholic-university/ui-classification-experiments' target=\"_blank\">https://wandb.ai/urik-voevidka-ukrainian-catholic-university/ui-classification-experiments</a>"
      ],
      "text/plain": [
       "<IPython.core.display.HTML object>"
      ]
     },
     "metadata": {},
     "output_type": "display_data"
    },
    {
     "data": {
      "text/html": [
       " View sweep at <a href='https://wandb.ai/urik-voevidka-ukrainian-catholic-university/ui-classification-experiments/sweeps/fjdy11wf' target=\"_blank\">https://wandb.ai/urik-voevidka-ukrainian-catholic-university/ui-classification-experiments/sweeps/fjdy11wf</a>"
      ],
      "text/plain": [
       "<IPython.core.display.HTML object>"
      ]
     },
     "metadata": {},
     "output_type": "display_data"
    },
    {
     "data": {
      "text/html": [
       " View run at <a href='https://wandb.ai/urik-voevidka-ukrainian-catholic-university/ui-classification-experiments/runs/h3aravin' target=\"_blank\">https://wandb.ai/urik-voevidka-ukrainian-catholic-university/ui-classification-experiments/runs/h3aravin</a>"
      ],
      "text/plain": [
       "<IPython.core.display.HTML object>"
      ]
     },
     "metadata": {},
     "output_type": "display_data"
    },
    {
     "data": {
      "text/html": [],
      "text/plain": [
       "<IPython.core.display.HTML object>"
      ]
     },
     "metadata": {},
     "output_type": "display_data"
    },
    {
     "data": {
      "text/html": [
       "<br>    <style><br>        .wandb-row {<br>            display: flex;<br>            flex-direction: row;<br>            flex-wrap: wrap;<br>            justify-content: flex-start;<br>            width: 100%;<br>        }<br>        .wandb-col {<br>            display: flex;<br>            flex-direction: column;<br>            flex-basis: 100%;<br>            flex: 1;<br>            padding: 10px;<br>        }<br>    </style><br><div class=\"wandb-row\"><div class=\"wandb-col\"><h3>Run history:</h3><br/><table class=\"wandb\"><tr><td>accuracy</td><td>▁</td></tr><tr><td>f1_score</td><td>▁</td></tr><tr><td>precision</td><td>▁</td></tr><tr><td>recall</td><td>▁</td></tr></table><br/></div><div class=\"wandb-col\"><h3>Run summary:</h3><br/><table class=\"wandb\"><tr><td>accuracy</td><td>0.78474</td></tr><tr><td>f1_score</td><td>0.77823</td></tr><tr><td>precision</td><td>0.78898</td></tr><tr><td>recall</td><td>0.78474</td></tr></table><br/></div></div>"
      ],
      "text/plain": [
       "<IPython.core.display.HTML object>"
      ]
     },
     "metadata": {},
     "output_type": "display_data"
    },
    {
     "data": {
      "text/html": [
       " View run <strong style=\"color:#cdcd00\">fanciful-sweep-2</strong> at: <a href='https://wandb.ai/urik-voevidka-ukrainian-catholic-university/ui-classification-experiments/runs/h3aravin' target=\"_blank\">https://wandb.ai/urik-voevidka-ukrainian-catholic-university/ui-classification-experiments/runs/h3aravin</a><br> View project at: <a href='https://wandb.ai/urik-voevidka-ukrainian-catholic-university/ui-classification-experiments' target=\"_blank\">https://wandb.ai/urik-voevidka-ukrainian-catholic-university/ui-classification-experiments</a><br>Synced 5 W&B file(s), 0 media file(s), 0 artifact file(s) and 0 other file(s)"
      ],
      "text/plain": [
       "<IPython.core.display.HTML object>"
      ]
     },
     "metadata": {},
     "output_type": "display_data"
    },
    {
     "data": {
      "text/html": [
       "Find logs at: <code>./wandb/run-20250223_155438-h3aravin/logs</code>"
      ],
      "text/plain": [
       "<IPython.core.display.HTML object>"
      ]
     },
     "metadata": {},
     "output_type": "display_data"
    },
    {
     "name": "stderr",
     "output_type": "stream",
     "text": [
      "\u001b[34m\u001b[1mwandb\u001b[0m: Agent Starting Run: 760qoeuy with config:\n",
      "\u001b[34m\u001b[1mwandb\u001b[0m: \tbooster: gbtree\n",
      "\u001b[34m\u001b[1mwandb\u001b[0m: \tlearning_rate: 0.05\n",
      "\u001b[34m\u001b[1mwandb\u001b[0m: \tmax_depth: 3\n",
      "\u001b[34m\u001b[1mwandb\u001b[0m: \tsubsample: 1\n"
     ]
    },
    {
     "data": {
      "text/html": [
       "Tracking run with wandb version 0.19.7"
      ],
      "text/plain": [
       "<IPython.core.display.HTML object>"
      ]
     },
     "metadata": {},
     "output_type": "display_data"
    },
    {
     "data": {
      "text/html": [
       "Run data is saved locally in <code>/Users/yuriivoievidka/UCU/CV/cv-project/src/experiments/wandb/run-20250223_155449-760qoeuy</code>"
      ],
      "text/plain": [
       "<IPython.core.display.HTML object>"
      ]
     },
     "metadata": {},
     "output_type": "display_data"
    },
    {
     "data": {
      "text/html": [
       "Syncing run <strong><a href='https://wandb.ai/urik-voevidka-ukrainian-catholic-university/ui-classification-experiments/runs/760qoeuy' target=\"_blank\">breezy-sweep-3</a></strong> to <a href='https://wandb.ai/urik-voevidka-ukrainian-catholic-university/ui-classification-experiments' target=\"_blank\">Weights & Biases</a> (<a href='https://wandb.me/developer-guide' target=\"_blank\">docs</a>)<br>Sweep page: <a href='https://wandb.ai/urik-voevidka-ukrainian-catholic-university/ui-classification-experiments/sweeps/fjdy11wf' target=\"_blank\">https://wandb.ai/urik-voevidka-ukrainian-catholic-university/ui-classification-experiments/sweeps/fjdy11wf</a>"
      ],
      "text/plain": [
       "<IPython.core.display.HTML object>"
      ]
     },
     "metadata": {},
     "output_type": "display_data"
    },
    {
     "data": {
      "text/html": [
       " View project at <a href='https://wandb.ai/urik-voevidka-ukrainian-catholic-university/ui-classification-experiments' target=\"_blank\">https://wandb.ai/urik-voevidka-ukrainian-catholic-university/ui-classification-experiments</a>"
      ],
      "text/plain": [
       "<IPython.core.display.HTML object>"
      ]
     },
     "metadata": {},
     "output_type": "display_data"
    },
    {
     "data": {
      "text/html": [
       " View sweep at <a href='https://wandb.ai/urik-voevidka-ukrainian-catholic-university/ui-classification-experiments/sweeps/fjdy11wf' target=\"_blank\">https://wandb.ai/urik-voevidka-ukrainian-catholic-university/ui-classification-experiments/sweeps/fjdy11wf</a>"
      ],
      "text/plain": [
       "<IPython.core.display.HTML object>"
      ]
     },
     "metadata": {},
     "output_type": "display_data"
    },
    {
     "data": {
      "text/html": [
       " View run at <a href='https://wandb.ai/urik-voevidka-ukrainian-catholic-university/ui-classification-experiments/runs/760qoeuy' target=\"_blank\">https://wandb.ai/urik-voevidka-ukrainian-catholic-university/ui-classification-experiments/runs/760qoeuy</a>"
      ],
      "text/plain": [
       "<IPython.core.display.HTML object>"
      ]
     },
     "metadata": {},
     "output_type": "display_data"
    },
    {
     "data": {
      "text/html": [],
      "text/plain": [
       "<IPython.core.display.HTML object>"
      ]
     },
     "metadata": {},
     "output_type": "display_data"
    },
    {
     "data": {
      "text/html": [
       "<br>    <style><br>        .wandb-row {<br>            display: flex;<br>            flex-direction: row;<br>            flex-wrap: wrap;<br>            justify-content: flex-start;<br>            width: 100%;<br>        }<br>        .wandb-col {<br>            display: flex;<br>            flex-direction: column;<br>            flex-basis: 100%;<br>            flex: 1;<br>            padding: 10px;<br>        }<br>    </style><br><div class=\"wandb-row\"><div class=\"wandb-col\"><h3>Run history:</h3><br/><table class=\"wandb\"><tr><td>accuracy</td><td>▁</td></tr><tr><td>f1_score</td><td>▁</td></tr><tr><td>precision</td><td>▁</td></tr><tr><td>recall</td><td>▁</td></tr></table><br/></div><div class=\"wandb-col\"><h3>Run summary:</h3><br/><table class=\"wandb\"><tr><td>accuracy</td><td>0.78474</td></tr><tr><td>f1_score</td><td>0.77823</td></tr><tr><td>precision</td><td>0.78898</td></tr><tr><td>recall</td><td>0.78474</td></tr></table><br/></div></div>"
      ],
      "text/plain": [
       "<IPython.core.display.HTML object>"
      ]
     },
     "metadata": {},
     "output_type": "display_data"
    },
    {
     "data": {
      "text/html": [
       " View run <strong style=\"color:#cdcd00\">breezy-sweep-3</strong> at: <a href='https://wandb.ai/urik-voevidka-ukrainian-catholic-university/ui-classification-experiments/runs/760qoeuy' target=\"_blank\">https://wandb.ai/urik-voevidka-ukrainian-catholic-university/ui-classification-experiments/runs/760qoeuy</a><br> View project at: <a href='https://wandb.ai/urik-voevidka-ukrainian-catholic-university/ui-classification-experiments' target=\"_blank\">https://wandb.ai/urik-voevidka-ukrainian-catholic-university/ui-classification-experiments</a><br>Synced 5 W&B file(s), 0 media file(s), 0 artifact file(s) and 0 other file(s)"
      ],
      "text/plain": [
       "<IPython.core.display.HTML object>"
      ]
     },
     "metadata": {},
     "output_type": "display_data"
    },
    {
     "data": {
      "text/html": [
       "Find logs at: <code>./wandb/run-20250223_155449-760qoeuy/logs</code>"
      ],
      "text/plain": [
       "<IPython.core.display.HTML object>"
      ]
     },
     "metadata": {},
     "output_type": "display_data"
    },
    {
     "name": "stderr",
     "output_type": "stream",
     "text": [
      "\u001b[34m\u001b[1mwandb\u001b[0m: Agent Starting Run: kgtyqipr with config:\n",
      "\u001b[34m\u001b[1mwandb\u001b[0m: \tbooster: gbtree\n",
      "\u001b[34m\u001b[1mwandb\u001b[0m: \tlearning_rate: 0.1\n",
      "\u001b[34m\u001b[1mwandb\u001b[0m: \tmax_depth: 3\n",
      "\u001b[34m\u001b[1mwandb\u001b[0m: \tsubsample: 1\n"
     ]
    },
    {
     "data": {
      "text/html": [
       "Tracking run with wandb version 0.19.7"
      ],
      "text/plain": [
       "<IPython.core.display.HTML object>"
      ]
     },
     "metadata": {},
     "output_type": "display_data"
    },
    {
     "data": {
      "text/html": [
       "Run data is saved locally in <code>/Users/yuriivoievidka/UCU/CV/cv-project/src/experiments/wandb/run-20250223_155500-kgtyqipr</code>"
      ],
      "text/plain": [
       "<IPython.core.display.HTML object>"
      ]
     },
     "metadata": {},
     "output_type": "display_data"
    },
    {
     "data": {
      "text/html": [
       "Syncing run <strong><a href='https://wandb.ai/urik-voevidka-ukrainian-catholic-university/ui-classification-experiments/runs/kgtyqipr' target=\"_blank\">resilient-sweep-4</a></strong> to <a href='https://wandb.ai/urik-voevidka-ukrainian-catholic-university/ui-classification-experiments' target=\"_blank\">Weights & Biases</a> (<a href='https://wandb.me/developer-guide' target=\"_blank\">docs</a>)<br>Sweep page: <a href='https://wandb.ai/urik-voevidka-ukrainian-catholic-university/ui-classification-experiments/sweeps/fjdy11wf' target=\"_blank\">https://wandb.ai/urik-voevidka-ukrainian-catholic-university/ui-classification-experiments/sweeps/fjdy11wf</a>"
      ],
      "text/plain": [
       "<IPython.core.display.HTML object>"
      ]
     },
     "metadata": {},
     "output_type": "display_data"
    },
    {
     "data": {
      "text/html": [
       " View project at <a href='https://wandb.ai/urik-voevidka-ukrainian-catholic-university/ui-classification-experiments' target=\"_blank\">https://wandb.ai/urik-voevidka-ukrainian-catholic-university/ui-classification-experiments</a>"
      ],
      "text/plain": [
       "<IPython.core.display.HTML object>"
      ]
     },
     "metadata": {},
     "output_type": "display_data"
    },
    {
     "data": {
      "text/html": [
       " View sweep at <a href='https://wandb.ai/urik-voevidka-ukrainian-catholic-university/ui-classification-experiments/sweeps/fjdy11wf' target=\"_blank\">https://wandb.ai/urik-voevidka-ukrainian-catholic-university/ui-classification-experiments/sweeps/fjdy11wf</a>"
      ],
      "text/plain": [
       "<IPython.core.display.HTML object>"
      ]
     },
     "metadata": {},
     "output_type": "display_data"
    },
    {
     "data": {
      "text/html": [
       " View run at <a href='https://wandb.ai/urik-voevidka-ukrainian-catholic-university/ui-classification-experiments/runs/kgtyqipr' target=\"_blank\">https://wandb.ai/urik-voevidka-ukrainian-catholic-university/ui-classification-experiments/runs/kgtyqipr</a>"
      ],
      "text/plain": [
       "<IPython.core.display.HTML object>"
      ]
     },
     "metadata": {},
     "output_type": "display_data"
    },
    {
     "data": {
      "text/html": [],
      "text/plain": [
       "<IPython.core.display.HTML object>"
      ]
     },
     "metadata": {},
     "output_type": "display_data"
    },
    {
     "data": {
      "text/html": [
       "<br>    <style><br>        .wandb-row {<br>            display: flex;<br>            flex-direction: row;<br>            flex-wrap: wrap;<br>            justify-content: flex-start;<br>            width: 100%;<br>        }<br>        .wandb-col {<br>            display: flex;<br>            flex-direction: column;<br>            flex-basis: 100%;<br>            flex: 1;<br>            padding: 10px;<br>        }<br>    </style><br><div class=\"wandb-row\"><div class=\"wandb-col\"><h3>Run history:</h3><br/><table class=\"wandb\"><tr><td>accuracy</td><td>▁</td></tr><tr><td>f1_score</td><td>▁</td></tr><tr><td>precision</td><td>▁</td></tr><tr><td>recall</td><td>▁</td></tr></table><br/></div><div class=\"wandb-col\"><h3>Run summary:</h3><br/><table class=\"wandb\"><tr><td>accuracy</td><td>0.80803</td></tr><tr><td>f1_score</td><td>0.80438</td></tr><tr><td>precision</td><td>0.80865</td></tr><tr><td>recall</td><td>0.80803</td></tr></table><br/></div></div>"
      ],
      "text/plain": [
       "<IPython.core.display.HTML object>"
      ]
     },
     "metadata": {},
     "output_type": "display_data"
    },
    {
     "data": {
      "text/html": [
       " View run <strong style=\"color:#cdcd00\">resilient-sweep-4</strong> at: <a href='https://wandb.ai/urik-voevidka-ukrainian-catholic-university/ui-classification-experiments/runs/kgtyqipr' target=\"_blank\">https://wandb.ai/urik-voevidka-ukrainian-catholic-university/ui-classification-experiments/runs/kgtyqipr</a><br> View project at: <a href='https://wandb.ai/urik-voevidka-ukrainian-catholic-university/ui-classification-experiments' target=\"_blank\">https://wandb.ai/urik-voevidka-ukrainian-catholic-university/ui-classification-experiments</a><br>Synced 5 W&B file(s), 0 media file(s), 0 artifact file(s) and 0 other file(s)"
      ],
      "text/plain": [
       "<IPython.core.display.HTML object>"
      ]
     },
     "metadata": {},
     "output_type": "display_data"
    },
    {
     "data": {
      "text/html": [
       "Find logs at: <code>./wandb/run-20250223_155500-kgtyqipr/logs</code>"
      ],
      "text/plain": [
       "<IPython.core.display.HTML object>"
      ]
     },
     "metadata": {},
     "output_type": "display_data"
    },
    {
     "name": "stderr",
     "output_type": "stream",
     "text": [
      "\u001b[34m\u001b[1mwandb\u001b[0m: Agent Starting Run: 25j8c4p3 with config:\n",
      "\u001b[34m\u001b[1mwandb\u001b[0m: \tbooster: gbtree\n",
      "\u001b[34m\u001b[1mwandb\u001b[0m: \tlearning_rate: 0.1\n",
      "\u001b[34m\u001b[1mwandb\u001b[0m: \tmax_depth: 12\n",
      "\u001b[34m\u001b[1mwandb\u001b[0m: \tsubsample: 1\n"
     ]
    },
    {
     "data": {
      "text/html": [
       "Tracking run with wandb version 0.19.7"
      ],
      "text/plain": [
       "<IPython.core.display.HTML object>"
      ]
     },
     "metadata": {},
     "output_type": "display_data"
    },
    {
     "data": {
      "text/html": [
       "Run data is saved locally in <code>/Users/yuriivoievidka/UCU/CV/cv-project/src/experiments/wandb/run-20250223_155510-25j8c4p3</code>"
      ],
      "text/plain": [
       "<IPython.core.display.HTML object>"
      ]
     },
     "metadata": {},
     "output_type": "display_data"
    },
    {
     "data": {
      "text/html": [
       "Syncing run <strong><a href='https://wandb.ai/urik-voevidka-ukrainian-catholic-university/ui-classification-experiments/runs/25j8c4p3' target=\"_blank\">drawn-sweep-5</a></strong> to <a href='https://wandb.ai/urik-voevidka-ukrainian-catholic-university/ui-classification-experiments' target=\"_blank\">Weights & Biases</a> (<a href='https://wandb.me/developer-guide' target=\"_blank\">docs</a>)<br>Sweep page: <a href='https://wandb.ai/urik-voevidka-ukrainian-catholic-university/ui-classification-experiments/sweeps/fjdy11wf' target=\"_blank\">https://wandb.ai/urik-voevidka-ukrainian-catholic-university/ui-classification-experiments/sweeps/fjdy11wf</a>"
      ],
      "text/plain": [
       "<IPython.core.display.HTML object>"
      ]
     },
     "metadata": {},
     "output_type": "display_data"
    },
    {
     "data": {
      "text/html": [
       " View project at <a href='https://wandb.ai/urik-voevidka-ukrainian-catholic-university/ui-classification-experiments' target=\"_blank\">https://wandb.ai/urik-voevidka-ukrainian-catholic-university/ui-classification-experiments</a>"
      ],
      "text/plain": [
       "<IPython.core.display.HTML object>"
      ]
     },
     "metadata": {},
     "output_type": "display_data"
    },
    {
     "data": {
      "text/html": [
       " View sweep at <a href='https://wandb.ai/urik-voevidka-ukrainian-catholic-university/ui-classification-experiments/sweeps/fjdy11wf' target=\"_blank\">https://wandb.ai/urik-voevidka-ukrainian-catholic-university/ui-classification-experiments/sweeps/fjdy11wf</a>"
      ],
      "text/plain": [
       "<IPython.core.display.HTML object>"
      ]
     },
     "metadata": {},
     "output_type": "display_data"
    },
    {
     "data": {
      "text/html": [
       " View run at <a href='https://wandb.ai/urik-voevidka-ukrainian-catholic-university/ui-classification-experiments/runs/25j8c4p3' target=\"_blank\">https://wandb.ai/urik-voevidka-ukrainian-catholic-university/ui-classification-experiments/runs/25j8c4p3</a>"
      ],
      "text/plain": [
       "<IPython.core.display.HTML object>"
      ]
     },
     "metadata": {},
     "output_type": "display_data"
    },
    {
     "data": {
      "text/html": [],
      "text/plain": [
       "<IPython.core.display.HTML object>"
      ]
     },
     "metadata": {},
     "output_type": "display_data"
    },
    {
     "data": {
      "text/html": [
       "<br>    <style><br>        .wandb-row {<br>            display: flex;<br>            flex-direction: row;<br>            flex-wrap: wrap;<br>            justify-content: flex-start;<br>            width: 100%;<br>        }<br>        .wandb-col {<br>            display: flex;<br>            flex-direction: column;<br>            flex-basis: 100%;<br>            flex: 1;<br>            padding: 10px;<br>        }<br>    </style><br><div class=\"wandb-row\"><div class=\"wandb-col\"><h3>Run history:</h3><br/><table class=\"wandb\"><tr><td>accuracy</td><td>▁</td></tr><tr><td>f1_score</td><td>▁</td></tr><tr><td>precision</td><td>▁</td></tr><tr><td>recall</td><td>▁</td></tr></table><br/></div><div class=\"wandb-col\"><h3>Run summary:</h3><br/><table class=\"wandb\"><tr><td>accuracy</td><td>0.8241</td></tr><tr><td>f1_score</td><td>0.82005</td></tr><tr><td>precision</td><td>0.82523</td></tr><tr><td>recall</td><td>0.8241</td></tr></table><br/></div></div>"
      ],
      "text/plain": [
       "<IPython.core.display.HTML object>"
      ]
     },
     "metadata": {},
     "output_type": "display_data"
    },
    {
     "data": {
      "text/html": [
       " View run <strong style=\"color:#cdcd00\">drawn-sweep-5</strong> at: <a href='https://wandb.ai/urik-voevidka-ukrainian-catholic-university/ui-classification-experiments/runs/25j8c4p3' target=\"_blank\">https://wandb.ai/urik-voevidka-ukrainian-catholic-university/ui-classification-experiments/runs/25j8c4p3</a><br> View project at: <a href='https://wandb.ai/urik-voevidka-ukrainian-catholic-university/ui-classification-experiments' target=\"_blank\">https://wandb.ai/urik-voevidka-ukrainian-catholic-university/ui-classification-experiments</a><br>Synced 5 W&B file(s), 0 media file(s), 0 artifact file(s) and 0 other file(s)"
      ],
      "text/plain": [
       "<IPython.core.display.HTML object>"
      ]
     },
     "metadata": {},
     "output_type": "display_data"
    },
    {
     "data": {
      "text/html": [
       "Find logs at: <code>./wandb/run-20250223_155510-25j8c4p3/logs</code>"
      ],
      "text/plain": [
       "<IPython.core.display.HTML object>"
      ]
     },
     "metadata": {},
     "output_type": "display_data"
    },
    {
     "name": "stderr",
     "output_type": "stream",
     "text": [
      "\u001b[34m\u001b[1mwandb\u001b[0m: Sweep Agent: Waiting for job.\n",
      "\u001b[34m\u001b[1mwandb\u001b[0m: Job received.\n",
      "\u001b[34m\u001b[1mwandb\u001b[0m: Agent Starting Run: o3vbyqyv with config:\n",
      "\u001b[34m\u001b[1mwandb\u001b[0m: \tbooster: gblinear\n",
      "\u001b[34m\u001b[1mwandb\u001b[0m: \tlearning_rate: 0.2\n",
      "\u001b[34m\u001b[1mwandb\u001b[0m: \tmax_depth: 9\n",
      "\u001b[34m\u001b[1mwandb\u001b[0m: \tsubsample: 0.5\n"
     ]
    },
    {
     "data": {
      "text/html": [
       "Tracking run with wandb version 0.19.7"
      ],
      "text/plain": [
       "<IPython.core.display.HTML object>"
      ]
     },
     "metadata": {},
     "output_type": "display_data"
    },
    {
     "data": {
      "text/html": [
       "Run data is saved locally in <code>/Users/yuriivoievidka/UCU/CV/cv-project/src/experiments/wandb/run-20250223_155541-o3vbyqyv</code>"
      ],
      "text/plain": [
       "<IPython.core.display.HTML object>"
      ]
     },
     "metadata": {},
     "output_type": "display_data"
    },
    {
     "data": {
      "text/html": [
       "Syncing run <strong><a href='https://wandb.ai/urik-voevidka-ukrainian-catholic-university/ui-classification-experiments/runs/o3vbyqyv' target=\"_blank\">lyric-sweep-6</a></strong> to <a href='https://wandb.ai/urik-voevidka-ukrainian-catholic-university/ui-classification-experiments' target=\"_blank\">Weights & Biases</a> (<a href='https://wandb.me/developer-guide' target=\"_blank\">docs</a>)<br>Sweep page: <a href='https://wandb.ai/urik-voevidka-ukrainian-catholic-university/ui-classification-experiments/sweeps/fjdy11wf' target=\"_blank\">https://wandb.ai/urik-voevidka-ukrainian-catholic-university/ui-classification-experiments/sweeps/fjdy11wf</a>"
      ],
      "text/plain": [
       "<IPython.core.display.HTML object>"
      ]
     },
     "metadata": {},
     "output_type": "display_data"
    },
    {
     "data": {
      "text/html": [
       " View project at <a href='https://wandb.ai/urik-voevidka-ukrainian-catholic-university/ui-classification-experiments' target=\"_blank\">https://wandb.ai/urik-voevidka-ukrainian-catholic-university/ui-classification-experiments</a>"
      ],
      "text/plain": [
       "<IPython.core.display.HTML object>"
      ]
     },
     "metadata": {},
     "output_type": "display_data"
    },
    {
     "data": {
      "text/html": [
       " View sweep at <a href='https://wandb.ai/urik-voevidka-ukrainian-catholic-university/ui-classification-experiments/sweeps/fjdy11wf' target=\"_blank\">https://wandb.ai/urik-voevidka-ukrainian-catholic-university/ui-classification-experiments/sweeps/fjdy11wf</a>"
      ],
      "text/plain": [
       "<IPython.core.display.HTML object>"
      ]
     },
     "metadata": {},
     "output_type": "display_data"
    },
    {
     "data": {
      "text/html": [
       " View run at <a href='https://wandb.ai/urik-voevidka-ukrainian-catholic-university/ui-classification-experiments/runs/o3vbyqyv' target=\"_blank\">https://wandb.ai/urik-voevidka-ukrainian-catholic-university/ui-classification-experiments/runs/o3vbyqyv</a>"
      ],
      "text/plain": [
       "<IPython.core.display.HTML object>"
      ]
     },
     "metadata": {},
     "output_type": "display_data"
    },
    {
     "name": "stderr",
     "output_type": "stream",
     "text": [
      "[15:55:42] WARNING: /Users/runner/work/xgboost/xgboost/src/learner.cc:740: \n",
      "Parameters: { \"max_depth\", \"subsample\" } are not used.\n",
      "\n"
     ]
    },
    {
     "data": {
      "text/html": [],
      "text/plain": [
       "<IPython.core.display.HTML object>"
      ]
     },
     "metadata": {},
     "output_type": "display_data"
    },
    {
     "data": {
      "text/html": [
       "<br>    <style><br>        .wandb-row {<br>            display: flex;<br>            flex-direction: row;<br>            flex-wrap: wrap;<br>            justify-content: flex-start;<br>            width: 100%;<br>        }<br>        .wandb-col {<br>            display: flex;<br>            flex-direction: column;<br>            flex-basis: 100%;<br>            flex: 1;<br>            padding: 10px;<br>        }<br>    </style><br><div class=\"wandb-row\"><div class=\"wandb-col\"><h3>Run history:</h3><br/><table class=\"wandb\"><tr><td>accuracy</td><td>▁</td></tr><tr><td>f1_score</td><td>▁</td></tr><tr><td>precision</td><td>▁</td></tr><tr><td>recall</td><td>▁</td></tr></table><br/></div><div class=\"wandb-col\"><h3>Run summary:</h3><br/><table class=\"wandb\"><tr><td>accuracy</td><td>0.84578</td></tr><tr><td>f1_score</td><td>0.84659</td></tr><tr><td>precision</td><td>0.84891</td></tr><tr><td>recall</td><td>0.84578</td></tr></table><br/></div></div>"
      ],
      "text/plain": [
       "<IPython.core.display.HTML object>"
      ]
     },
     "metadata": {},
     "output_type": "display_data"
    },
    {
     "data": {
      "text/html": [
       " View run <strong style=\"color:#cdcd00\">lyric-sweep-6</strong> at: <a href='https://wandb.ai/urik-voevidka-ukrainian-catholic-university/ui-classification-experiments/runs/o3vbyqyv' target=\"_blank\">https://wandb.ai/urik-voevidka-ukrainian-catholic-university/ui-classification-experiments/runs/o3vbyqyv</a><br> View project at: <a href='https://wandb.ai/urik-voevidka-ukrainian-catholic-university/ui-classification-experiments' target=\"_blank\">https://wandb.ai/urik-voevidka-ukrainian-catholic-university/ui-classification-experiments</a><br>Synced 5 W&B file(s), 0 media file(s), 0 artifact file(s) and 0 other file(s)"
      ],
      "text/plain": [
       "<IPython.core.display.HTML object>"
      ]
     },
     "metadata": {},
     "output_type": "display_data"
    },
    {
     "data": {
      "text/html": [
       "Find logs at: <code>./wandb/run-20250223_155541-o3vbyqyv/logs</code>"
      ],
      "text/plain": [
       "<IPython.core.display.HTML object>"
      ]
     },
     "metadata": {},
     "output_type": "display_data"
    },
    {
     "name": "stderr",
     "output_type": "stream",
     "text": [
      "\u001b[34m\u001b[1mwandb\u001b[0m: Agent Starting Run: vnvpl2yr with config:\n",
      "\u001b[34m\u001b[1mwandb\u001b[0m: \tbooster: gbtree\n",
      "\u001b[34m\u001b[1mwandb\u001b[0m: \tlearning_rate: 0.2\n",
      "\u001b[34m\u001b[1mwandb\u001b[0m: \tmax_depth: 6\n",
      "\u001b[34m\u001b[1mwandb\u001b[0m: \tsubsample: 1\n"
     ]
    },
    {
     "data": {
      "text/html": [
       "Tracking run with wandb version 0.19.7"
      ],
      "text/plain": [
       "<IPython.core.display.HTML object>"
      ]
     },
     "metadata": {},
     "output_type": "display_data"
    },
    {
     "data": {
      "text/html": [
       "Run data is saved locally in <code>/Users/yuriivoievidka/UCU/CV/cv-project/src/experiments/wandb/run-20250223_155547-vnvpl2yr</code>"
      ],
      "text/plain": [
       "<IPython.core.display.HTML object>"
      ]
     },
     "metadata": {},
     "output_type": "display_data"
    },
    {
     "data": {
      "text/html": [
       "Syncing run <strong><a href='https://wandb.ai/urik-voevidka-ukrainian-catholic-university/ui-classification-experiments/runs/vnvpl2yr' target=\"_blank\">olive-sweep-7</a></strong> to <a href='https://wandb.ai/urik-voevidka-ukrainian-catholic-university/ui-classification-experiments' target=\"_blank\">Weights & Biases</a> (<a href='https://wandb.me/developer-guide' target=\"_blank\">docs</a>)<br>Sweep page: <a href='https://wandb.ai/urik-voevidka-ukrainian-catholic-university/ui-classification-experiments/sweeps/fjdy11wf' target=\"_blank\">https://wandb.ai/urik-voevidka-ukrainian-catholic-university/ui-classification-experiments/sweeps/fjdy11wf</a>"
      ],
      "text/plain": [
       "<IPython.core.display.HTML object>"
      ]
     },
     "metadata": {},
     "output_type": "display_data"
    },
    {
     "data": {
      "text/html": [
       " View project at <a href='https://wandb.ai/urik-voevidka-ukrainian-catholic-university/ui-classification-experiments' target=\"_blank\">https://wandb.ai/urik-voevidka-ukrainian-catholic-university/ui-classification-experiments</a>"
      ],
      "text/plain": [
       "<IPython.core.display.HTML object>"
      ]
     },
     "metadata": {},
     "output_type": "display_data"
    },
    {
     "data": {
      "text/html": [
       " View sweep at <a href='https://wandb.ai/urik-voevidka-ukrainian-catholic-university/ui-classification-experiments/sweeps/fjdy11wf' target=\"_blank\">https://wandb.ai/urik-voevidka-ukrainian-catholic-university/ui-classification-experiments/sweeps/fjdy11wf</a>"
      ],
      "text/plain": [
       "<IPython.core.display.HTML object>"
      ]
     },
     "metadata": {},
     "output_type": "display_data"
    },
    {
     "data": {
      "text/html": [
       " View run at <a href='https://wandb.ai/urik-voevidka-ukrainian-catholic-university/ui-classification-experiments/runs/vnvpl2yr' target=\"_blank\">https://wandb.ai/urik-voevidka-ukrainian-catholic-university/ui-classification-experiments/runs/vnvpl2yr</a>"
      ],
      "text/plain": [
       "<IPython.core.display.HTML object>"
      ]
     },
     "metadata": {},
     "output_type": "display_data"
    },
    {
     "data": {
      "text/html": [],
      "text/plain": [
       "<IPython.core.display.HTML object>"
      ]
     },
     "metadata": {},
     "output_type": "display_data"
    },
    {
     "data": {
      "text/html": [
       "<br>    <style><br>        .wandb-row {<br>            display: flex;<br>            flex-direction: row;<br>            flex-wrap: wrap;<br>            justify-content: flex-start;<br>            width: 100%;<br>        }<br>        .wandb-col {<br>            display: flex;<br>            flex-direction: column;<br>            flex-basis: 100%;<br>            flex: 1;<br>            padding: 10px;<br>        }<br>    </style><br><div class=\"wandb-row\"><div class=\"wandb-col\"><h3>Run history:</h3><br/><table class=\"wandb\"><tr><td>accuracy</td><td>▁</td></tr><tr><td>f1_score</td><td>▁</td></tr><tr><td>precision</td><td>▁</td></tr><tr><td>recall</td><td>▁</td></tr></table><br/></div><div class=\"wandb-col\"><h3>Run summary:</h3><br/><table class=\"wandb\"><tr><td>accuracy</td><td>0.83614</td></tr><tr><td>f1_score</td><td>0.8337</td></tr><tr><td>precision</td><td>0.836</td></tr><tr><td>recall</td><td>0.83614</td></tr></table><br/></div></div>"
      ],
      "text/plain": [
       "<IPython.core.display.HTML object>"
      ]
     },
     "metadata": {},
     "output_type": "display_data"
    },
    {
     "data": {
      "text/html": [
       " View run <strong style=\"color:#cdcd00\">olive-sweep-7</strong> at: <a href='https://wandb.ai/urik-voevidka-ukrainian-catholic-university/ui-classification-experiments/runs/vnvpl2yr' target=\"_blank\">https://wandb.ai/urik-voevidka-ukrainian-catholic-university/ui-classification-experiments/runs/vnvpl2yr</a><br> View project at: <a href='https://wandb.ai/urik-voevidka-ukrainian-catholic-university/ui-classification-experiments' target=\"_blank\">https://wandb.ai/urik-voevidka-ukrainian-catholic-university/ui-classification-experiments</a><br>Synced 5 W&B file(s), 0 media file(s), 0 artifact file(s) and 0 other file(s)"
      ],
      "text/plain": [
       "<IPython.core.display.HTML object>"
      ]
     },
     "metadata": {},
     "output_type": "display_data"
    },
    {
     "data": {
      "text/html": [
       "Find logs at: <code>./wandb/run-20250223_155547-vnvpl2yr/logs</code>"
      ],
      "text/plain": [
       "<IPython.core.display.HTML object>"
      ]
     },
     "metadata": {},
     "output_type": "display_data"
    },
    {
     "name": "stderr",
     "output_type": "stream",
     "text": [
      "\u001b[34m\u001b[1mwandb\u001b[0m: Agent Starting Run: 1q4bepst with config:\n",
      "\u001b[34m\u001b[1mwandb\u001b[0m: \tbooster: gbtree\n",
      "\u001b[34m\u001b[1mwandb\u001b[0m: \tlearning_rate: 0.05\n",
      "\u001b[34m\u001b[1mwandb\u001b[0m: \tmax_depth: 3\n",
      "\u001b[34m\u001b[1mwandb\u001b[0m: \tsubsample: 0.5\n"
     ]
    },
    {
     "data": {
      "text/html": [
       "Tracking run with wandb version 0.19.7"
      ],
      "text/plain": [
       "<IPython.core.display.HTML object>"
      ]
     },
     "metadata": {},
     "output_type": "display_data"
    },
    {
     "data": {
      "text/html": [
       "Run data is saved locally in <code>/Users/yuriivoievidka/UCU/CV/cv-project/src/experiments/wandb/run-20250223_155603-1q4bepst</code>"
      ],
      "text/plain": [
       "<IPython.core.display.HTML object>"
      ]
     },
     "metadata": {},
     "output_type": "display_data"
    },
    {
     "data": {
      "text/html": [
       "Syncing run <strong><a href='https://wandb.ai/urik-voevidka-ukrainian-catholic-university/ui-classification-experiments/runs/1q4bepst' target=\"_blank\">different-sweep-8</a></strong> to <a href='https://wandb.ai/urik-voevidka-ukrainian-catholic-university/ui-classification-experiments' target=\"_blank\">Weights & Biases</a> (<a href='https://wandb.me/developer-guide' target=\"_blank\">docs</a>)<br>Sweep page: <a href='https://wandb.ai/urik-voevidka-ukrainian-catholic-university/ui-classification-experiments/sweeps/fjdy11wf' target=\"_blank\">https://wandb.ai/urik-voevidka-ukrainian-catholic-university/ui-classification-experiments/sweeps/fjdy11wf</a>"
      ],
      "text/plain": [
       "<IPython.core.display.HTML object>"
      ]
     },
     "metadata": {},
     "output_type": "display_data"
    },
    {
     "data": {
      "text/html": [
       " View project at <a href='https://wandb.ai/urik-voevidka-ukrainian-catholic-university/ui-classification-experiments' target=\"_blank\">https://wandb.ai/urik-voevidka-ukrainian-catholic-university/ui-classification-experiments</a>"
      ],
      "text/plain": [
       "<IPython.core.display.HTML object>"
      ]
     },
     "metadata": {},
     "output_type": "display_data"
    },
    {
     "data": {
      "text/html": [
       " View sweep at <a href='https://wandb.ai/urik-voevidka-ukrainian-catholic-university/ui-classification-experiments/sweeps/fjdy11wf' target=\"_blank\">https://wandb.ai/urik-voevidka-ukrainian-catholic-university/ui-classification-experiments/sweeps/fjdy11wf</a>"
      ],
      "text/plain": [
       "<IPython.core.display.HTML object>"
      ]
     },
     "metadata": {},
     "output_type": "display_data"
    },
    {
     "data": {
      "text/html": [
       " View run at <a href='https://wandb.ai/urik-voevidka-ukrainian-catholic-university/ui-classification-experiments/runs/1q4bepst' target=\"_blank\">https://wandb.ai/urik-voevidka-ukrainian-catholic-university/ui-classification-experiments/runs/1q4bepst</a>"
      ],
      "text/plain": [
       "<IPython.core.display.HTML object>"
      ]
     },
     "metadata": {},
     "output_type": "display_data"
    },
    {
     "data": {
      "text/html": [],
      "text/plain": [
       "<IPython.core.display.HTML object>"
      ]
     },
     "metadata": {},
     "output_type": "display_data"
    },
    {
     "data": {
      "text/html": [
       "<br>    <style><br>        .wandb-row {<br>            display: flex;<br>            flex-direction: row;<br>            flex-wrap: wrap;<br>            justify-content: flex-start;<br>            width: 100%;<br>        }<br>        .wandb-col {<br>            display: flex;<br>            flex-direction: column;<br>            flex-basis: 100%;<br>            flex: 1;<br>            padding: 10px;<br>        }<br>    </style><br><div class=\"wandb-row\"><div class=\"wandb-col\"><h3>Run history:</h3><br/><table class=\"wandb\"><tr><td>accuracy</td><td>▁</td></tr><tr><td>f1_score</td><td>▁</td></tr><tr><td>precision</td><td>▁</td></tr><tr><td>recall</td><td>▁</td></tr></table><br/></div><div class=\"wandb-col\"><h3>Run summary:</h3><br/><table class=\"wandb\"><tr><td>accuracy</td><td>0.78956</td></tr><tr><td>f1_score</td><td>0.78277</td></tr><tr><td>precision</td><td>0.79142</td></tr><tr><td>recall</td><td>0.78956</td></tr></table><br/></div></div>"
      ],
      "text/plain": [
       "<IPython.core.display.HTML object>"
      ]
     },
     "metadata": {},
     "output_type": "display_data"
    },
    {
     "data": {
      "text/html": [
       " View run <strong style=\"color:#cdcd00\">different-sweep-8</strong> at: <a href='https://wandb.ai/urik-voevidka-ukrainian-catholic-university/ui-classification-experiments/runs/1q4bepst' target=\"_blank\">https://wandb.ai/urik-voevidka-ukrainian-catholic-university/ui-classification-experiments/runs/1q4bepst</a><br> View project at: <a href='https://wandb.ai/urik-voevidka-ukrainian-catholic-university/ui-classification-experiments' target=\"_blank\">https://wandb.ai/urik-voevidka-ukrainian-catholic-university/ui-classification-experiments</a><br>Synced 5 W&B file(s), 0 media file(s), 0 artifact file(s) and 0 other file(s)"
      ],
      "text/plain": [
       "<IPython.core.display.HTML object>"
      ]
     },
     "metadata": {},
     "output_type": "display_data"
    },
    {
     "data": {
      "text/html": [
       "Find logs at: <code>./wandb/run-20250223_155603-1q4bepst/logs</code>"
      ],
      "text/plain": [
       "<IPython.core.display.HTML object>"
      ]
     },
     "metadata": {},
     "output_type": "display_data"
    },
    {
     "name": "stderr",
     "output_type": "stream",
     "text": [
      "\u001b[34m\u001b[1mwandb\u001b[0m: Agent Starting Run: 2nndupue with config:\n",
      "\u001b[34m\u001b[1mwandb\u001b[0m: \tbooster: gblinear\n",
      "\u001b[34m\u001b[1mwandb\u001b[0m: \tlearning_rate: 0.05\n",
      "\u001b[34m\u001b[1mwandb\u001b[0m: \tmax_depth: 9\n",
      "\u001b[34m\u001b[1mwandb\u001b[0m: \tsubsample: 1\n"
     ]
    },
    {
     "data": {
      "text/html": [
       "Tracking run with wandb version 0.19.7"
      ],
      "text/plain": [
       "<IPython.core.display.HTML object>"
      ]
     },
     "metadata": {},
     "output_type": "display_data"
    },
    {
     "data": {
      "text/html": [
       "Run data is saved locally in <code>/Users/yuriivoievidka/UCU/CV/cv-project/src/experiments/wandb/run-20250223_155614-2nndupue</code>"
      ],
      "text/plain": [
       "<IPython.core.display.HTML object>"
      ]
     },
     "metadata": {},
     "output_type": "display_data"
    },
    {
     "data": {
      "text/html": [
       "Syncing run <strong><a href='https://wandb.ai/urik-voevidka-ukrainian-catholic-university/ui-classification-experiments/runs/2nndupue' target=\"_blank\">cosmic-sweep-9</a></strong> to <a href='https://wandb.ai/urik-voevidka-ukrainian-catholic-university/ui-classification-experiments' target=\"_blank\">Weights & Biases</a> (<a href='https://wandb.me/developer-guide' target=\"_blank\">docs</a>)<br>Sweep page: <a href='https://wandb.ai/urik-voevidka-ukrainian-catholic-university/ui-classification-experiments/sweeps/fjdy11wf' target=\"_blank\">https://wandb.ai/urik-voevidka-ukrainian-catholic-university/ui-classification-experiments/sweeps/fjdy11wf</a>"
      ],
      "text/plain": [
       "<IPython.core.display.HTML object>"
      ]
     },
     "metadata": {},
     "output_type": "display_data"
    },
    {
     "data": {
      "text/html": [
       " View project at <a href='https://wandb.ai/urik-voevidka-ukrainian-catholic-university/ui-classification-experiments' target=\"_blank\">https://wandb.ai/urik-voevidka-ukrainian-catholic-university/ui-classification-experiments</a>"
      ],
      "text/plain": [
       "<IPython.core.display.HTML object>"
      ]
     },
     "metadata": {},
     "output_type": "display_data"
    },
    {
     "data": {
      "text/html": [
       " View sweep at <a href='https://wandb.ai/urik-voevidka-ukrainian-catholic-university/ui-classification-experiments/sweeps/fjdy11wf' target=\"_blank\">https://wandb.ai/urik-voevidka-ukrainian-catholic-university/ui-classification-experiments/sweeps/fjdy11wf</a>"
      ],
      "text/plain": [
       "<IPython.core.display.HTML object>"
      ]
     },
     "metadata": {},
     "output_type": "display_data"
    },
    {
     "data": {
      "text/html": [
       " View run at <a href='https://wandb.ai/urik-voevidka-ukrainian-catholic-university/ui-classification-experiments/runs/2nndupue' target=\"_blank\">https://wandb.ai/urik-voevidka-ukrainian-catholic-university/ui-classification-experiments/runs/2nndupue</a>"
      ],
      "text/plain": [
       "<IPython.core.display.HTML object>"
      ]
     },
     "metadata": {},
     "output_type": "display_data"
    },
    {
     "name": "stderr",
     "output_type": "stream",
     "text": [
      "[15:56:14] WARNING: /Users/runner/work/xgboost/xgboost/src/learner.cc:740: \n",
      "Parameters: { \"max_depth\", \"subsample\" } are not used.\n",
      "\n"
     ]
    },
    {
     "data": {
      "text/html": [],
      "text/plain": [
       "<IPython.core.display.HTML object>"
      ]
     },
     "metadata": {},
     "output_type": "display_data"
    },
    {
     "data": {
      "text/html": [
       "<br>    <style><br>        .wandb-row {<br>            display: flex;<br>            flex-direction: row;<br>            flex-wrap: wrap;<br>            justify-content: flex-start;<br>            width: 100%;<br>        }<br>        .wandb-col {<br>            display: flex;<br>            flex-direction: column;<br>            flex-basis: 100%;<br>            flex: 1;<br>            padding: 10px;<br>        }<br>    </style><br><div class=\"wandb-row\"><div class=\"wandb-col\"><h3>Run history:</h3><br/><table class=\"wandb\"><tr><td>accuracy</td><td>▁</td></tr><tr><td>f1_score</td><td>▁</td></tr><tr><td>precision</td><td>▁</td></tr><tr><td>recall</td><td>▁</td></tr></table><br/></div><div class=\"wandb-col\"><h3>Run summary:</h3><br/><table class=\"wandb\"><tr><td>accuracy</td><td>0.85622</td></tr><tr><td>f1_score</td><td>0.85663</td></tr><tr><td>precision</td><td>0.8576</td></tr><tr><td>recall</td><td>0.85622</td></tr></table><br/></div></div>"
      ],
      "text/plain": [
       "<IPython.core.display.HTML object>"
      ]
     },
     "metadata": {},
     "output_type": "display_data"
    },
    {
     "data": {
      "text/html": [
       " View run <strong style=\"color:#cdcd00\">cosmic-sweep-9</strong> at: <a href='https://wandb.ai/urik-voevidka-ukrainian-catholic-university/ui-classification-experiments/runs/2nndupue' target=\"_blank\">https://wandb.ai/urik-voevidka-ukrainian-catholic-university/ui-classification-experiments/runs/2nndupue</a><br> View project at: <a href='https://wandb.ai/urik-voevidka-ukrainian-catholic-university/ui-classification-experiments' target=\"_blank\">https://wandb.ai/urik-voevidka-ukrainian-catholic-university/ui-classification-experiments</a><br>Synced 5 W&B file(s), 0 media file(s), 0 artifact file(s) and 0 other file(s)"
      ],
      "text/plain": [
       "<IPython.core.display.HTML object>"
      ]
     },
     "metadata": {},
     "output_type": "display_data"
    },
    {
     "data": {
      "text/html": [
       "Find logs at: <code>./wandb/run-20250223_155614-2nndupue/logs</code>"
      ],
      "text/plain": [
       "<IPython.core.display.HTML object>"
      ]
     },
     "metadata": {},
     "output_type": "display_data"
    },
    {
     "name": "stderr",
     "output_type": "stream",
     "text": [
      "\u001b[34m\u001b[1mwandb\u001b[0m: Agent Starting Run: 3ozjcrni with config:\n",
      "\u001b[34m\u001b[1mwandb\u001b[0m: \tbooster: gbtree\n",
      "\u001b[34m\u001b[1mwandb\u001b[0m: \tlearning_rate: 0.05\n",
      "\u001b[34m\u001b[1mwandb\u001b[0m: \tmax_depth: 6\n",
      "\u001b[34m\u001b[1mwandb\u001b[0m: \tsubsample: 0.5\n"
     ]
    },
    {
     "data": {
      "text/html": [
       "Tracking run with wandb version 0.19.7"
      ],
      "text/plain": [
       "<IPython.core.display.HTML object>"
      ]
     },
     "metadata": {},
     "output_type": "display_data"
    },
    {
     "data": {
      "text/html": [
       "Run data is saved locally in <code>/Users/yuriivoievidka/UCU/CV/cv-project/src/experiments/wandb/run-20250223_155619-3ozjcrni</code>"
      ],
      "text/plain": [
       "<IPython.core.display.HTML object>"
      ]
     },
     "metadata": {},
     "output_type": "display_data"
    },
    {
     "data": {
      "text/html": [
       "Syncing run <strong><a href='https://wandb.ai/urik-voevidka-ukrainian-catholic-university/ui-classification-experiments/runs/3ozjcrni' target=\"_blank\">clean-sweep-10</a></strong> to <a href='https://wandb.ai/urik-voevidka-ukrainian-catholic-university/ui-classification-experiments' target=\"_blank\">Weights & Biases</a> (<a href='https://wandb.me/developer-guide' target=\"_blank\">docs</a>)<br>Sweep page: <a href='https://wandb.ai/urik-voevidka-ukrainian-catholic-university/ui-classification-experiments/sweeps/fjdy11wf' target=\"_blank\">https://wandb.ai/urik-voevidka-ukrainian-catholic-university/ui-classification-experiments/sweeps/fjdy11wf</a>"
      ],
      "text/plain": [
       "<IPython.core.display.HTML object>"
      ]
     },
     "metadata": {},
     "output_type": "display_data"
    },
    {
     "data": {
      "text/html": [
       " View project at <a href='https://wandb.ai/urik-voevidka-ukrainian-catholic-university/ui-classification-experiments' target=\"_blank\">https://wandb.ai/urik-voevidka-ukrainian-catholic-university/ui-classification-experiments</a>"
      ],
      "text/plain": [
       "<IPython.core.display.HTML object>"
      ]
     },
     "metadata": {},
     "output_type": "display_data"
    },
    {
     "data": {
      "text/html": [
       " View sweep at <a href='https://wandb.ai/urik-voevidka-ukrainian-catholic-university/ui-classification-experiments/sweeps/fjdy11wf' target=\"_blank\">https://wandb.ai/urik-voevidka-ukrainian-catholic-university/ui-classification-experiments/sweeps/fjdy11wf</a>"
      ],
      "text/plain": [
       "<IPython.core.display.HTML object>"
      ]
     },
     "metadata": {},
     "output_type": "display_data"
    },
    {
     "data": {
      "text/html": [
       " View run at <a href='https://wandb.ai/urik-voevidka-ukrainian-catholic-university/ui-classification-experiments/runs/3ozjcrni' target=\"_blank\">https://wandb.ai/urik-voevidka-ukrainian-catholic-university/ui-classification-experiments/runs/3ozjcrni</a>"
      ],
      "text/plain": [
       "<IPython.core.display.HTML object>"
      ]
     },
     "metadata": {},
     "output_type": "display_data"
    },
    {
     "data": {
      "text/html": [],
      "text/plain": [
       "<IPython.core.display.HTML object>"
      ]
     },
     "metadata": {},
     "output_type": "display_data"
    },
    {
     "data": {
      "text/html": [
       "<br>    <style><br>        .wandb-row {<br>            display: flex;<br>            flex-direction: row;<br>            flex-wrap: wrap;<br>            justify-content: flex-start;<br>            width: 100%;<br>        }<br>        .wandb-col {<br>            display: flex;<br>            flex-direction: column;<br>            flex-basis: 100%;<br>            flex: 1;<br>            padding: 10px;<br>        }<br>    </style><br><div class=\"wandb-row\"><div class=\"wandb-col\"><h3>Run history:</h3><br/><table class=\"wandb\"><tr><td>accuracy</td><td>▁</td></tr><tr><td>f1_score</td><td>▁</td></tr><tr><td>precision</td><td>▁</td></tr><tr><td>recall</td><td>▁</td></tr></table><br/></div><div class=\"wandb-col\"><h3>Run summary:</h3><br/><table class=\"wandb\"><tr><td>accuracy</td><td>0.81365</td></tr><tr><td>f1_score</td><td>0.80915</td></tr><tr><td>precision</td><td>0.81568</td></tr><tr><td>recall</td><td>0.81365</td></tr></table><br/></div></div>"
      ],
      "text/plain": [
       "<IPython.core.display.HTML object>"
      ]
     },
     "metadata": {},
     "output_type": "display_data"
    },
    {
     "data": {
      "text/html": [
       " View run <strong style=\"color:#cdcd00\">clean-sweep-10</strong> at: <a href='https://wandb.ai/urik-voevidka-ukrainian-catholic-university/ui-classification-experiments/runs/3ozjcrni' target=\"_blank\">https://wandb.ai/urik-voevidka-ukrainian-catholic-university/ui-classification-experiments/runs/3ozjcrni</a><br> View project at: <a href='https://wandb.ai/urik-voevidka-ukrainian-catholic-university/ui-classification-experiments' target=\"_blank\">https://wandb.ai/urik-voevidka-ukrainian-catholic-university/ui-classification-experiments</a><br>Synced 5 W&B file(s), 0 media file(s), 0 artifact file(s) and 0 other file(s)"
      ],
      "text/plain": [
       "<IPython.core.display.HTML object>"
      ]
     },
     "metadata": {},
     "output_type": "display_data"
    },
    {
     "data": {
      "text/html": [
       "Find logs at: <code>./wandb/run-20250223_155619-3ozjcrni/logs</code>"
      ],
      "text/plain": [
       "<IPython.core.display.HTML object>"
      ]
     },
     "metadata": {},
     "output_type": "display_data"
    },
    {
     "name": "stderr",
     "output_type": "stream",
     "text": [
      "\u001b[34m\u001b[1mwandb\u001b[0m: Agent Starting Run: 1dfenp2c with config:\n",
      "\u001b[34m\u001b[1mwandb\u001b[0m: \tbooster: gblinear\n",
      "\u001b[34m\u001b[1mwandb\u001b[0m: \tlearning_rate: 0.1\n",
      "\u001b[34m\u001b[1mwandb\u001b[0m: \tmax_depth: 6\n",
      "\u001b[34m\u001b[1mwandb\u001b[0m: \tsubsample: 0.5\n"
     ]
    },
    {
     "data": {
      "text/html": [
       "Tracking run with wandb version 0.19.7"
      ],
      "text/plain": [
       "<IPython.core.display.HTML object>"
      ]
     },
     "metadata": {},
     "output_type": "display_data"
    },
    {
     "data": {
      "text/html": [
       "Run data is saved locally in <code>/Users/yuriivoievidka/UCU/CV/cv-project/src/experiments/wandb/run-20250223_155635-1dfenp2c</code>"
      ],
      "text/plain": [
       "<IPython.core.display.HTML object>"
      ]
     },
     "metadata": {},
     "output_type": "display_data"
    },
    {
     "data": {
      "text/html": [
       "Syncing run <strong><a href='https://wandb.ai/urik-voevidka-ukrainian-catholic-university/ui-classification-experiments/runs/1dfenp2c' target=\"_blank\">robust-sweep-11</a></strong> to <a href='https://wandb.ai/urik-voevidka-ukrainian-catholic-university/ui-classification-experiments' target=\"_blank\">Weights & Biases</a> (<a href='https://wandb.me/developer-guide' target=\"_blank\">docs</a>)<br>Sweep page: <a href='https://wandb.ai/urik-voevidka-ukrainian-catholic-university/ui-classification-experiments/sweeps/fjdy11wf' target=\"_blank\">https://wandb.ai/urik-voevidka-ukrainian-catholic-university/ui-classification-experiments/sweeps/fjdy11wf</a>"
      ],
      "text/plain": [
       "<IPython.core.display.HTML object>"
      ]
     },
     "metadata": {},
     "output_type": "display_data"
    },
    {
     "data": {
      "text/html": [
       " View project at <a href='https://wandb.ai/urik-voevidka-ukrainian-catholic-university/ui-classification-experiments' target=\"_blank\">https://wandb.ai/urik-voevidka-ukrainian-catholic-university/ui-classification-experiments</a>"
      ],
      "text/plain": [
       "<IPython.core.display.HTML object>"
      ]
     },
     "metadata": {},
     "output_type": "display_data"
    },
    {
     "data": {
      "text/html": [
       " View sweep at <a href='https://wandb.ai/urik-voevidka-ukrainian-catholic-university/ui-classification-experiments/sweeps/fjdy11wf' target=\"_blank\">https://wandb.ai/urik-voevidka-ukrainian-catholic-university/ui-classification-experiments/sweeps/fjdy11wf</a>"
      ],
      "text/plain": [
       "<IPython.core.display.HTML object>"
      ]
     },
     "metadata": {},
     "output_type": "display_data"
    },
    {
     "data": {
      "text/html": [
       " View run at <a href='https://wandb.ai/urik-voevidka-ukrainian-catholic-university/ui-classification-experiments/runs/1dfenp2c' target=\"_blank\">https://wandb.ai/urik-voevidka-ukrainian-catholic-university/ui-classification-experiments/runs/1dfenp2c</a>"
      ],
      "text/plain": [
       "<IPython.core.display.HTML object>"
      ]
     },
     "metadata": {},
     "output_type": "display_data"
    },
    {
     "name": "stderr",
     "output_type": "stream",
     "text": [
      "[15:56:35] WARNING: /Users/runner/work/xgboost/xgboost/src/learner.cc:740: \n",
      "Parameters: { \"max_depth\", \"subsample\" } are not used.\n",
      "\n"
     ]
    },
    {
     "data": {
      "text/html": [],
      "text/plain": [
       "<IPython.core.display.HTML object>"
      ]
     },
     "metadata": {},
     "output_type": "display_data"
    },
    {
     "data": {
      "text/html": [
       "<br>    <style><br>        .wandb-row {<br>            display: flex;<br>            flex-direction: row;<br>            flex-wrap: wrap;<br>            justify-content: flex-start;<br>            width: 100%;<br>        }<br>        .wandb-col {<br>            display: flex;<br>            flex-direction: column;<br>            flex-basis: 100%;<br>            flex: 1;<br>            padding: 10px;<br>        }<br>    </style><br><div class=\"wandb-row\"><div class=\"wandb-col\"><h3>Run history:</h3><br/><table class=\"wandb\"><tr><td>accuracy</td><td>▁</td></tr><tr><td>f1_score</td><td>▁</td></tr><tr><td>precision</td><td>▁</td></tr><tr><td>recall</td><td>▁</td></tr></table><br/></div><div class=\"wandb-col\"><h3>Run summary:</h3><br/><table class=\"wandb\"><tr><td>accuracy</td><td>0.85221</td></tr><tr><td>f1_score</td><td>0.85285</td></tr><tr><td>precision</td><td>0.85438</td></tr><tr><td>recall</td><td>0.85221</td></tr></table><br/></div></div>"
      ],
      "text/plain": [
       "<IPython.core.display.HTML object>"
      ]
     },
     "metadata": {},
     "output_type": "display_data"
    },
    {
     "data": {
      "text/html": [
       " View run <strong style=\"color:#cdcd00\">robust-sweep-11</strong> at: <a href='https://wandb.ai/urik-voevidka-ukrainian-catholic-university/ui-classification-experiments/runs/1dfenp2c' target=\"_blank\">https://wandb.ai/urik-voevidka-ukrainian-catholic-university/ui-classification-experiments/runs/1dfenp2c</a><br> View project at: <a href='https://wandb.ai/urik-voevidka-ukrainian-catholic-university/ui-classification-experiments' target=\"_blank\">https://wandb.ai/urik-voevidka-ukrainian-catholic-university/ui-classification-experiments</a><br>Synced 5 W&B file(s), 0 media file(s), 0 artifact file(s) and 0 other file(s)"
      ],
      "text/plain": [
       "<IPython.core.display.HTML object>"
      ]
     },
     "metadata": {},
     "output_type": "display_data"
    },
    {
     "data": {
      "text/html": [
       "Find logs at: <code>./wandb/run-20250223_155635-1dfenp2c/logs</code>"
      ],
      "text/plain": [
       "<IPython.core.display.HTML object>"
      ]
     },
     "metadata": {},
     "output_type": "display_data"
    },
    {
     "name": "stderr",
     "output_type": "stream",
     "text": [
      "\u001b[34m\u001b[1mwandb\u001b[0m: Agent Starting Run: sudyj4fm with config:\n",
      "\u001b[34m\u001b[1mwandb\u001b[0m: \tbooster: gblinear\n",
      "\u001b[34m\u001b[1mwandb\u001b[0m: \tlearning_rate: 0.2\n",
      "\u001b[34m\u001b[1mwandb\u001b[0m: \tmax_depth: 3\n",
      "\u001b[34m\u001b[1mwandb\u001b[0m: \tsubsample: 1\n"
     ]
    },
    {
     "data": {
      "text/html": [
       "Tracking run with wandb version 0.19.7"
      ],
      "text/plain": [
       "<IPython.core.display.HTML object>"
      ]
     },
     "metadata": {},
     "output_type": "display_data"
    },
    {
     "data": {
      "text/html": [
       "Run data is saved locally in <code>/Users/yuriivoievidka/UCU/CV/cv-project/src/experiments/wandb/run-20250223_155640-sudyj4fm</code>"
      ],
      "text/plain": [
       "<IPython.core.display.HTML object>"
      ]
     },
     "metadata": {},
     "output_type": "display_data"
    },
    {
     "data": {
      "text/html": [
       "Syncing run <strong><a href='https://wandb.ai/urik-voevidka-ukrainian-catholic-university/ui-classification-experiments/runs/sudyj4fm' target=\"_blank\">skilled-sweep-12</a></strong> to <a href='https://wandb.ai/urik-voevidka-ukrainian-catholic-university/ui-classification-experiments' target=\"_blank\">Weights & Biases</a> (<a href='https://wandb.me/developer-guide' target=\"_blank\">docs</a>)<br>Sweep page: <a href='https://wandb.ai/urik-voevidka-ukrainian-catholic-university/ui-classification-experiments/sweeps/fjdy11wf' target=\"_blank\">https://wandb.ai/urik-voevidka-ukrainian-catholic-university/ui-classification-experiments/sweeps/fjdy11wf</a>"
      ],
      "text/plain": [
       "<IPython.core.display.HTML object>"
      ]
     },
     "metadata": {},
     "output_type": "display_data"
    },
    {
     "data": {
      "text/html": [
       " View project at <a href='https://wandb.ai/urik-voevidka-ukrainian-catholic-university/ui-classification-experiments' target=\"_blank\">https://wandb.ai/urik-voevidka-ukrainian-catholic-university/ui-classification-experiments</a>"
      ],
      "text/plain": [
       "<IPython.core.display.HTML object>"
      ]
     },
     "metadata": {},
     "output_type": "display_data"
    },
    {
     "data": {
      "text/html": [
       " View sweep at <a href='https://wandb.ai/urik-voevidka-ukrainian-catholic-university/ui-classification-experiments/sweeps/fjdy11wf' target=\"_blank\">https://wandb.ai/urik-voevidka-ukrainian-catholic-university/ui-classification-experiments/sweeps/fjdy11wf</a>"
      ],
      "text/plain": [
       "<IPython.core.display.HTML object>"
      ]
     },
     "metadata": {},
     "output_type": "display_data"
    },
    {
     "data": {
      "text/html": [
       " View run at <a href='https://wandb.ai/urik-voevidka-ukrainian-catholic-university/ui-classification-experiments/runs/sudyj4fm' target=\"_blank\">https://wandb.ai/urik-voevidka-ukrainian-catholic-university/ui-classification-experiments/runs/sudyj4fm</a>"
      ],
      "text/plain": [
       "<IPython.core.display.HTML object>"
      ]
     },
     "metadata": {},
     "output_type": "display_data"
    },
    {
     "name": "stderr",
     "output_type": "stream",
     "text": [
      "[15:56:41] WARNING: /Users/runner/work/xgboost/xgboost/src/learner.cc:740: \n",
      "Parameters: { \"max_depth\", \"subsample\" } are not used.\n",
      "\n"
     ]
    },
    {
     "data": {
      "text/html": [],
      "text/plain": [
       "<IPython.core.display.HTML object>"
      ]
     },
     "metadata": {},
     "output_type": "display_data"
    },
    {
     "data": {
      "text/html": [
       "<br>    <style><br>        .wandb-row {<br>            display: flex;<br>            flex-direction: row;<br>            flex-wrap: wrap;<br>            justify-content: flex-start;<br>            width: 100%;<br>        }<br>        .wandb-col {<br>            display: flex;<br>            flex-direction: column;<br>            flex-basis: 100%;<br>            flex: 1;<br>            padding: 10px;<br>        }<br>    </style><br><div class=\"wandb-row\"><div class=\"wandb-col\"><h3>Run history:</h3><br/><table class=\"wandb\"><tr><td>accuracy</td><td>▁</td></tr><tr><td>f1_score</td><td>▁</td></tr><tr><td>precision</td><td>▁</td></tr><tr><td>recall</td><td>▁</td></tr></table><br/></div><div class=\"wandb-col\"><h3>Run summary:</h3><br/><table class=\"wandb\"><tr><td>accuracy</td><td>0.84659</td></tr><tr><td>f1_score</td><td>0.8474</td></tr><tr><td>precision</td><td>0.84967</td></tr><tr><td>recall</td><td>0.84659</td></tr></table><br/></div></div>"
      ],
      "text/plain": [
       "<IPython.core.display.HTML object>"
      ]
     },
     "metadata": {},
     "output_type": "display_data"
    },
    {
     "data": {
      "text/html": [
       " View run <strong style=\"color:#cdcd00\">skilled-sweep-12</strong> at: <a href='https://wandb.ai/urik-voevidka-ukrainian-catholic-university/ui-classification-experiments/runs/sudyj4fm' target=\"_blank\">https://wandb.ai/urik-voevidka-ukrainian-catholic-university/ui-classification-experiments/runs/sudyj4fm</a><br> View project at: <a href='https://wandb.ai/urik-voevidka-ukrainian-catholic-university/ui-classification-experiments' target=\"_blank\">https://wandb.ai/urik-voevidka-ukrainian-catholic-university/ui-classification-experiments</a><br>Synced 5 W&B file(s), 0 media file(s), 0 artifact file(s) and 0 other file(s)"
      ],
      "text/plain": [
       "<IPython.core.display.HTML object>"
      ]
     },
     "metadata": {},
     "output_type": "display_data"
    },
    {
     "data": {
      "text/html": [
       "Find logs at: <code>./wandb/run-20250223_155640-sudyj4fm/logs</code>"
      ],
      "text/plain": [
       "<IPython.core.display.HTML object>"
      ]
     },
     "metadata": {},
     "output_type": "display_data"
    },
    {
     "name": "stderr",
     "output_type": "stream",
     "text": [
      "\u001b[34m\u001b[1mwandb\u001b[0m: Sweep Agent: Waiting for job.\n",
      "\u001b[34m\u001b[1mwandb\u001b[0m: Job received.\n",
      "\u001b[34m\u001b[1mwandb\u001b[0m: Agent Starting Run: kggmolf5 with config:\n",
      "\u001b[34m\u001b[1mwandb\u001b[0m: \tbooster: gbtree\n",
      "\u001b[34m\u001b[1mwandb\u001b[0m: \tlearning_rate: 0.1\n",
      "\u001b[34m\u001b[1mwandb\u001b[0m: \tmax_depth: 6\n",
      "\u001b[34m\u001b[1mwandb\u001b[0m: \tsubsample: 0.5\n"
     ]
    },
    {
     "data": {
      "text/html": [
       "Tracking run with wandb version 0.19.7"
      ],
      "text/plain": [
       "<IPython.core.display.HTML object>"
      ]
     },
     "metadata": {},
     "output_type": "display_data"
    },
    {
     "data": {
      "text/html": [
       "Run data is saved locally in <code>/Users/yuriivoievidka/UCU/CV/cv-project/src/experiments/wandb/run-20250223_155655-kggmolf5</code>"
      ],
      "text/plain": [
       "<IPython.core.display.HTML object>"
      ]
     },
     "metadata": {},
     "output_type": "display_data"
    },
    {
     "data": {
      "text/html": [
       "Syncing run <strong><a href='https://wandb.ai/urik-voevidka-ukrainian-catholic-university/ui-classification-experiments/runs/kggmolf5' target=\"_blank\">sandy-sweep-13</a></strong> to <a href='https://wandb.ai/urik-voevidka-ukrainian-catholic-university/ui-classification-experiments' target=\"_blank\">Weights & Biases</a> (<a href='https://wandb.me/developer-guide' target=\"_blank\">docs</a>)<br>Sweep page: <a href='https://wandb.ai/urik-voevidka-ukrainian-catholic-university/ui-classification-experiments/sweeps/fjdy11wf' target=\"_blank\">https://wandb.ai/urik-voevidka-ukrainian-catholic-university/ui-classification-experiments/sweeps/fjdy11wf</a>"
      ],
      "text/plain": [
       "<IPython.core.display.HTML object>"
      ]
     },
     "metadata": {},
     "output_type": "display_data"
    },
    {
     "data": {
      "text/html": [
       " View project at <a href='https://wandb.ai/urik-voevidka-ukrainian-catholic-university/ui-classification-experiments' target=\"_blank\">https://wandb.ai/urik-voevidka-ukrainian-catholic-university/ui-classification-experiments</a>"
      ],
      "text/plain": [
       "<IPython.core.display.HTML object>"
      ]
     },
     "metadata": {},
     "output_type": "display_data"
    },
    {
     "data": {
      "text/html": [
       " View sweep at <a href='https://wandb.ai/urik-voevidka-ukrainian-catholic-university/ui-classification-experiments/sweeps/fjdy11wf' target=\"_blank\">https://wandb.ai/urik-voevidka-ukrainian-catholic-university/ui-classification-experiments/sweeps/fjdy11wf</a>"
      ],
      "text/plain": [
       "<IPython.core.display.HTML object>"
      ]
     },
     "metadata": {},
     "output_type": "display_data"
    },
    {
     "data": {
      "text/html": [
       " View run at <a href='https://wandb.ai/urik-voevidka-ukrainian-catholic-university/ui-classification-experiments/runs/kggmolf5' target=\"_blank\">https://wandb.ai/urik-voevidka-ukrainian-catholic-university/ui-classification-experiments/runs/kggmolf5</a>"
      ],
      "text/plain": [
       "<IPython.core.display.HTML object>"
      ]
     },
     "metadata": {},
     "output_type": "display_data"
    },
    {
     "data": {
      "text/html": [],
      "text/plain": [
       "<IPython.core.display.HTML object>"
      ]
     },
     "metadata": {},
     "output_type": "display_data"
    },
    {
     "data": {
      "text/html": [
       "<br>    <style><br>        .wandb-row {<br>            display: flex;<br>            flex-direction: row;<br>            flex-wrap: wrap;<br>            justify-content: flex-start;<br>            width: 100%;<br>        }<br>        .wandb-col {<br>            display: flex;<br>            flex-direction: column;<br>            flex-basis: 100%;<br>            flex: 1;<br>            padding: 10px;<br>        }<br>    </style><br><div class=\"wandb-row\"><div class=\"wandb-col\"><h3>Run history:</h3><br/><table class=\"wandb\"><tr><td>accuracy</td><td>▁</td></tr><tr><td>f1_score</td><td>▁</td></tr><tr><td>precision</td><td>▁</td></tr><tr><td>recall</td><td>▁</td></tr></table><br/></div><div class=\"wandb-col\"><h3>Run summary:</h3><br/><table class=\"wandb\"><tr><td>accuracy</td><td>0.82892</td></tr><tr><td>f1_score</td><td>0.82595</td></tr><tr><td>precision</td><td>0.82985</td></tr><tr><td>recall</td><td>0.82892</td></tr></table><br/></div></div>"
      ],
      "text/plain": [
       "<IPython.core.display.HTML object>"
      ]
     },
     "metadata": {},
     "output_type": "display_data"
    },
    {
     "data": {
      "text/html": [
       " View run <strong style=\"color:#cdcd00\">sandy-sweep-13</strong> at: <a href='https://wandb.ai/urik-voevidka-ukrainian-catholic-university/ui-classification-experiments/runs/kggmolf5' target=\"_blank\">https://wandb.ai/urik-voevidka-ukrainian-catholic-university/ui-classification-experiments/runs/kggmolf5</a><br> View project at: <a href='https://wandb.ai/urik-voevidka-ukrainian-catholic-university/ui-classification-experiments' target=\"_blank\">https://wandb.ai/urik-voevidka-ukrainian-catholic-university/ui-classification-experiments</a><br>Synced 5 W&B file(s), 0 media file(s), 0 artifact file(s) and 0 other file(s)"
      ],
      "text/plain": [
       "<IPython.core.display.HTML object>"
      ]
     },
     "metadata": {},
     "output_type": "display_data"
    },
    {
     "data": {
      "text/html": [
       "Find logs at: <code>./wandb/run-20250223_155655-kggmolf5/logs</code>"
      ],
      "text/plain": [
       "<IPython.core.display.HTML object>"
      ]
     },
     "metadata": {},
     "output_type": "display_data"
    },
    {
     "name": "stderr",
     "output_type": "stream",
     "text": [
      "\u001b[34m\u001b[1mwandb\u001b[0m: Agent Starting Run: 44idk9dx with config:\n",
      "\u001b[34m\u001b[1mwandb\u001b[0m: \tbooster: gbtree\n",
      "\u001b[34m\u001b[1mwandb\u001b[0m: \tlearning_rate: 0.05\n",
      "\u001b[34m\u001b[1mwandb\u001b[0m: \tmax_depth: 9\n",
      "\u001b[34m\u001b[1mwandb\u001b[0m: \tsubsample: 0.5\n"
     ]
    },
    {
     "data": {
      "text/html": [
       "Tracking run with wandb version 0.19.7"
      ],
      "text/plain": [
       "<IPython.core.display.HTML object>"
      ]
     },
     "metadata": {},
     "output_type": "display_data"
    },
    {
     "data": {
      "text/html": [
       "Run data is saved locally in <code>/Users/yuriivoievidka/UCU/CV/cv-project/src/experiments/wandb/run-20250223_155712-44idk9dx</code>"
      ],
      "text/plain": [
       "<IPython.core.display.HTML object>"
      ]
     },
     "metadata": {},
     "output_type": "display_data"
    },
    {
     "data": {
      "text/html": [
       "Syncing run <strong><a href='https://wandb.ai/urik-voevidka-ukrainian-catholic-university/ui-classification-experiments/runs/44idk9dx' target=\"_blank\">lemon-sweep-14</a></strong> to <a href='https://wandb.ai/urik-voevidka-ukrainian-catholic-university/ui-classification-experiments' target=\"_blank\">Weights & Biases</a> (<a href='https://wandb.me/developer-guide' target=\"_blank\">docs</a>)<br>Sweep page: <a href='https://wandb.ai/urik-voevidka-ukrainian-catholic-university/ui-classification-experiments/sweeps/fjdy11wf' target=\"_blank\">https://wandb.ai/urik-voevidka-ukrainian-catholic-university/ui-classification-experiments/sweeps/fjdy11wf</a>"
      ],
      "text/plain": [
       "<IPython.core.display.HTML object>"
      ]
     },
     "metadata": {},
     "output_type": "display_data"
    },
    {
     "data": {
      "text/html": [
       " View project at <a href='https://wandb.ai/urik-voevidka-ukrainian-catholic-university/ui-classification-experiments' target=\"_blank\">https://wandb.ai/urik-voevidka-ukrainian-catholic-university/ui-classification-experiments</a>"
      ],
      "text/plain": [
       "<IPython.core.display.HTML object>"
      ]
     },
     "metadata": {},
     "output_type": "display_data"
    },
    {
     "data": {
      "text/html": [
       " View sweep at <a href='https://wandb.ai/urik-voevidka-ukrainian-catholic-university/ui-classification-experiments/sweeps/fjdy11wf' target=\"_blank\">https://wandb.ai/urik-voevidka-ukrainian-catholic-university/ui-classification-experiments/sweeps/fjdy11wf</a>"
      ],
      "text/plain": [
       "<IPython.core.display.HTML object>"
      ]
     },
     "metadata": {},
     "output_type": "display_data"
    },
    {
     "data": {
      "text/html": [
       " View run at <a href='https://wandb.ai/urik-voevidka-ukrainian-catholic-university/ui-classification-experiments/runs/44idk9dx' target=\"_blank\">https://wandb.ai/urik-voevidka-ukrainian-catholic-university/ui-classification-experiments/runs/44idk9dx</a>"
      ],
      "text/plain": [
       "<IPython.core.display.HTML object>"
      ]
     },
     "metadata": {},
     "output_type": "display_data"
    },
    {
     "data": {
      "text/html": [],
      "text/plain": [
       "<IPython.core.display.HTML object>"
      ]
     },
     "metadata": {},
     "output_type": "display_data"
    },
    {
     "data": {
      "text/html": [
       "<br>    <style><br>        .wandb-row {<br>            display: flex;<br>            flex-direction: row;<br>            flex-wrap: wrap;<br>            justify-content: flex-start;<br>            width: 100%;<br>        }<br>        .wandb-col {<br>            display: flex;<br>            flex-direction: column;<br>            flex-basis: 100%;<br>            flex: 1;<br>            padding: 10px;<br>        }<br>    </style><br><div class=\"wandb-row\"><div class=\"wandb-col\"><h3>Run history:</h3><br/><table class=\"wandb\"><tr><td>accuracy</td><td>▁</td></tr><tr><td>f1_score</td><td>▁</td></tr><tr><td>precision</td><td>▁</td></tr><tr><td>recall</td><td>▁</td></tr></table><br/></div><div class=\"wandb-col\"><h3>Run summary:</h3><br/><table class=\"wandb\"><tr><td>accuracy</td><td>0.81365</td></tr><tr><td>f1_score</td><td>0.80983</td></tr><tr><td>precision</td><td>0.81615</td></tr><tr><td>recall</td><td>0.81365</td></tr></table><br/></div></div>"
      ],
      "text/plain": [
       "<IPython.core.display.HTML object>"
      ]
     },
     "metadata": {},
     "output_type": "display_data"
    },
    {
     "data": {
      "text/html": [
       " View run <strong style=\"color:#cdcd00\">lemon-sweep-14</strong> at: <a href='https://wandb.ai/urik-voevidka-ukrainian-catholic-university/ui-classification-experiments/runs/44idk9dx' target=\"_blank\">https://wandb.ai/urik-voevidka-ukrainian-catholic-university/ui-classification-experiments/runs/44idk9dx</a><br> View project at: <a href='https://wandb.ai/urik-voevidka-ukrainian-catholic-university/ui-classification-experiments' target=\"_blank\">https://wandb.ai/urik-voevidka-ukrainian-catholic-university/ui-classification-experiments</a><br>Synced 5 W&B file(s), 0 media file(s), 0 artifact file(s) and 0 other file(s)"
      ],
      "text/plain": [
       "<IPython.core.display.HTML object>"
      ]
     },
     "metadata": {},
     "output_type": "display_data"
    },
    {
     "data": {
      "text/html": [
       "Find logs at: <code>./wandb/run-20250223_155712-44idk9dx/logs</code>"
      ],
      "text/plain": [
       "<IPython.core.display.HTML object>"
      ]
     },
     "metadata": {},
     "output_type": "display_data"
    },
    {
     "name": "stderr",
     "output_type": "stream",
     "text": [
      "\u001b[34m\u001b[1mwandb\u001b[0m: Agent Starting Run: 8kzgzepf with config:\n",
      "\u001b[34m\u001b[1mwandb\u001b[0m: \tbooster: gbtree\n",
      "\u001b[34m\u001b[1mwandb\u001b[0m: \tlearning_rate: 0.05\n",
      "\u001b[34m\u001b[1mwandb\u001b[0m: \tmax_depth: 9\n",
      "\u001b[34m\u001b[1mwandb\u001b[0m: \tsubsample: 1\n"
     ]
    },
    {
     "data": {
      "text/html": [
       "Tracking run with wandb version 0.19.7"
      ],
      "text/plain": [
       "<IPython.core.display.HTML object>"
      ]
     },
     "metadata": {},
     "output_type": "display_data"
    },
    {
     "data": {
      "text/html": [
       "Run data is saved locally in <code>/Users/yuriivoievidka/UCU/CV/cv-project/src/experiments/wandb/run-20250223_155733-8kzgzepf</code>"
      ],
      "text/plain": [
       "<IPython.core.display.HTML object>"
      ]
     },
     "metadata": {},
     "output_type": "display_data"
    },
    {
     "data": {
      "text/html": [
       "Syncing run <strong><a href='https://wandb.ai/urik-voevidka-ukrainian-catholic-university/ui-classification-experiments/runs/8kzgzepf' target=\"_blank\">warm-sweep-15</a></strong> to <a href='https://wandb.ai/urik-voevidka-ukrainian-catholic-university/ui-classification-experiments' target=\"_blank\">Weights & Biases</a> (<a href='https://wandb.me/developer-guide' target=\"_blank\">docs</a>)<br>Sweep page: <a href='https://wandb.ai/urik-voevidka-ukrainian-catholic-university/ui-classification-experiments/sweeps/fjdy11wf' target=\"_blank\">https://wandb.ai/urik-voevidka-ukrainian-catholic-university/ui-classification-experiments/sweeps/fjdy11wf</a>"
      ],
      "text/plain": [
       "<IPython.core.display.HTML object>"
      ]
     },
     "metadata": {},
     "output_type": "display_data"
    },
    {
     "data": {
      "text/html": [
       " View project at <a href='https://wandb.ai/urik-voevidka-ukrainian-catholic-university/ui-classification-experiments' target=\"_blank\">https://wandb.ai/urik-voevidka-ukrainian-catholic-university/ui-classification-experiments</a>"
      ],
      "text/plain": [
       "<IPython.core.display.HTML object>"
      ]
     },
     "metadata": {},
     "output_type": "display_data"
    },
    {
     "data": {
      "text/html": [
       " View sweep at <a href='https://wandb.ai/urik-voevidka-ukrainian-catholic-university/ui-classification-experiments/sweeps/fjdy11wf' target=\"_blank\">https://wandb.ai/urik-voevidka-ukrainian-catholic-university/ui-classification-experiments/sweeps/fjdy11wf</a>"
      ],
      "text/plain": [
       "<IPython.core.display.HTML object>"
      ]
     },
     "metadata": {},
     "output_type": "display_data"
    },
    {
     "data": {
      "text/html": [
       " View run at <a href='https://wandb.ai/urik-voevidka-ukrainian-catholic-university/ui-classification-experiments/runs/8kzgzepf' target=\"_blank\">https://wandb.ai/urik-voevidka-ukrainian-catholic-university/ui-classification-experiments/runs/8kzgzepf</a>"
      ],
      "text/plain": [
       "<IPython.core.display.HTML object>"
      ]
     },
     "metadata": {},
     "output_type": "display_data"
    },
    {
     "data": {
      "text/html": [],
      "text/plain": [
       "<IPython.core.display.HTML object>"
      ]
     },
     "metadata": {},
     "output_type": "display_data"
    },
    {
     "data": {
      "text/html": [
       "<br>    <style><br>        .wandb-row {<br>            display: flex;<br>            flex-direction: row;<br>            flex-wrap: wrap;<br>            justify-content: flex-start;<br>            width: 100%;<br>        }<br>        .wandb-col {<br>            display: flex;<br>            flex-direction: column;<br>            flex-basis: 100%;<br>            flex: 1;<br>            padding: 10px;<br>        }<br>    </style><br><div class=\"wandb-row\"><div class=\"wandb-col\"><h3>Run history:</h3><br/><table class=\"wandb\"><tr><td>accuracy</td><td>▁</td></tr><tr><td>f1_score</td><td>▁</td></tr><tr><td>precision</td><td>▁</td></tr><tr><td>recall</td><td>▁</td></tr></table><br/></div><div class=\"wandb-col\"><h3>Run summary:</h3><br/><table class=\"wandb\"><tr><td>accuracy</td><td>0.81285</td></tr><tr><td>f1_score</td><td>0.80891</td></tr><tr><td>precision</td><td>0.81328</td></tr><tr><td>recall</td><td>0.81285</td></tr></table><br/></div></div>"
      ],
      "text/plain": [
       "<IPython.core.display.HTML object>"
      ]
     },
     "metadata": {},
     "output_type": "display_data"
    },
    {
     "data": {
      "text/html": [
       " View run <strong style=\"color:#cdcd00\">warm-sweep-15</strong> at: <a href='https://wandb.ai/urik-voevidka-ukrainian-catholic-university/ui-classification-experiments/runs/8kzgzepf' target=\"_blank\">https://wandb.ai/urik-voevidka-ukrainian-catholic-university/ui-classification-experiments/runs/8kzgzepf</a><br> View project at: <a href='https://wandb.ai/urik-voevidka-ukrainian-catholic-university/ui-classification-experiments' target=\"_blank\">https://wandb.ai/urik-voevidka-ukrainian-catholic-university/ui-classification-experiments</a><br>Synced 5 W&B file(s), 0 media file(s), 0 artifact file(s) and 0 other file(s)"
      ],
      "text/plain": [
       "<IPython.core.display.HTML object>"
      ]
     },
     "metadata": {},
     "output_type": "display_data"
    },
    {
     "data": {
      "text/html": [
       "Find logs at: <code>./wandb/run-20250223_155733-8kzgzepf/logs</code>"
      ],
      "text/plain": [
       "<IPython.core.display.HTML object>"
      ]
     },
     "metadata": {},
     "output_type": "display_data"
    },
    {
     "name": "stderr",
     "output_type": "stream",
     "text": [
      "\u001b[34m\u001b[1mwandb\u001b[0m: Agent Starting Run: vdargm48 with config:\n",
      "\u001b[34m\u001b[1mwandb\u001b[0m: \tbooster: gbtree\n",
      "\u001b[34m\u001b[1mwandb\u001b[0m: \tlearning_rate: 0.2\n",
      "\u001b[34m\u001b[1mwandb\u001b[0m: \tmax_depth: 9\n",
      "\u001b[34m\u001b[1mwandb\u001b[0m: \tsubsample: 0.3\n"
     ]
    },
    {
     "data": {
      "text/html": [
       "Tracking run with wandb version 0.19.7"
      ],
      "text/plain": [
       "<IPython.core.display.HTML object>"
      ]
     },
     "metadata": {},
     "output_type": "display_data"
    },
    {
     "data": {
      "text/html": [
       "Run data is saved locally in <code>/Users/yuriivoievidka/UCU/CV/cv-project/src/experiments/wandb/run-20250223_155759-vdargm48</code>"
      ],
      "text/plain": [
       "<IPython.core.display.HTML object>"
      ]
     },
     "metadata": {},
     "output_type": "display_data"
    },
    {
     "data": {
      "text/html": [
       "Syncing run <strong><a href='https://wandb.ai/urik-voevidka-ukrainian-catholic-university/ui-classification-experiments/runs/vdargm48' target=\"_blank\">effortless-sweep-16</a></strong> to <a href='https://wandb.ai/urik-voevidka-ukrainian-catholic-university/ui-classification-experiments' target=\"_blank\">Weights & Biases</a> (<a href='https://wandb.me/developer-guide' target=\"_blank\">docs</a>)<br>Sweep page: <a href='https://wandb.ai/urik-voevidka-ukrainian-catholic-university/ui-classification-experiments/sweeps/fjdy11wf' target=\"_blank\">https://wandb.ai/urik-voevidka-ukrainian-catholic-university/ui-classification-experiments/sweeps/fjdy11wf</a>"
      ],
      "text/plain": [
       "<IPython.core.display.HTML object>"
      ]
     },
     "metadata": {},
     "output_type": "display_data"
    },
    {
     "data": {
      "text/html": [
       " View project at <a href='https://wandb.ai/urik-voevidka-ukrainian-catholic-university/ui-classification-experiments' target=\"_blank\">https://wandb.ai/urik-voevidka-ukrainian-catholic-university/ui-classification-experiments</a>"
      ],
      "text/plain": [
       "<IPython.core.display.HTML object>"
      ]
     },
     "metadata": {},
     "output_type": "display_data"
    },
    {
     "data": {
      "text/html": [
       " View sweep at <a href='https://wandb.ai/urik-voevidka-ukrainian-catholic-university/ui-classification-experiments/sweeps/fjdy11wf' target=\"_blank\">https://wandb.ai/urik-voevidka-ukrainian-catholic-university/ui-classification-experiments/sweeps/fjdy11wf</a>"
      ],
      "text/plain": [
       "<IPython.core.display.HTML object>"
      ]
     },
     "metadata": {},
     "output_type": "display_data"
    },
    {
     "data": {
      "text/html": [
       " View run at <a href='https://wandb.ai/urik-voevidka-ukrainian-catholic-university/ui-classification-experiments/runs/vdargm48' target=\"_blank\">https://wandb.ai/urik-voevidka-ukrainian-catholic-university/ui-classification-experiments/runs/vdargm48</a>"
      ],
      "text/plain": [
       "<IPython.core.display.HTML object>"
      ]
     },
     "metadata": {},
     "output_type": "display_data"
    },
    {
     "data": {
      "text/html": [],
      "text/plain": [
       "<IPython.core.display.HTML object>"
      ]
     },
     "metadata": {},
     "output_type": "display_data"
    },
    {
     "data": {
      "text/html": [
       "<br>    <style><br>        .wandb-row {<br>            display: flex;<br>            flex-direction: row;<br>            flex-wrap: wrap;<br>            justify-content: flex-start;<br>            width: 100%;<br>        }<br>        .wandb-col {<br>            display: flex;<br>            flex-direction: column;<br>            flex-basis: 100%;<br>            flex: 1;<br>            padding: 10px;<br>        }<br>    </style><br><div class=\"wandb-row\"><div class=\"wandb-col\"><h3>Run history:</h3><br/><table class=\"wandb\"><tr><td>accuracy</td><td>▁</td></tr><tr><td>f1_score</td><td>▁</td></tr><tr><td>precision</td><td>▁</td></tr><tr><td>recall</td><td>▁</td></tr></table><br/></div><div class=\"wandb-col\"><h3>Run summary:</h3><br/><table class=\"wandb\"><tr><td>accuracy</td><td>0.84659</td></tr><tr><td>f1_score</td><td>0.84545</td></tr><tr><td>precision</td><td>0.84716</td></tr><tr><td>recall</td><td>0.84659</td></tr></table><br/></div></div>"
      ],
      "text/plain": [
       "<IPython.core.display.HTML object>"
      ]
     },
     "metadata": {},
     "output_type": "display_data"
    },
    {
     "data": {
      "text/html": [
       " View run <strong style=\"color:#cdcd00\">effortless-sweep-16</strong> at: <a href='https://wandb.ai/urik-voevidka-ukrainian-catholic-university/ui-classification-experiments/runs/vdargm48' target=\"_blank\">https://wandb.ai/urik-voevidka-ukrainian-catholic-university/ui-classification-experiments/runs/vdargm48</a><br> View project at: <a href='https://wandb.ai/urik-voevidka-ukrainian-catholic-university/ui-classification-experiments' target=\"_blank\">https://wandb.ai/urik-voevidka-ukrainian-catholic-university/ui-classification-experiments</a><br>Synced 5 W&B file(s), 0 media file(s), 0 artifact file(s) and 0 other file(s)"
      ],
      "text/plain": [
       "<IPython.core.display.HTML object>"
      ]
     },
     "metadata": {},
     "output_type": "display_data"
    },
    {
     "data": {
      "text/html": [
       "Find logs at: <code>./wandb/run-20250223_155759-vdargm48/logs</code>"
      ],
      "text/plain": [
       "<IPython.core.display.HTML object>"
      ]
     },
     "metadata": {},
     "output_type": "display_data"
    },
    {
     "name": "stderr",
     "output_type": "stream",
     "text": [
      "\u001b[34m\u001b[1mwandb\u001b[0m: Agent Starting Run: vex7bbba with config:\n",
      "\u001b[34m\u001b[1mwandb\u001b[0m: \tbooster: gbtree\n",
      "\u001b[34m\u001b[1mwandb\u001b[0m: \tlearning_rate: 0.1\n",
      "\u001b[34m\u001b[1mwandb\u001b[0m: \tmax_depth: 12\n",
      "\u001b[34m\u001b[1mwandb\u001b[0m: \tsubsample: 1\n"
     ]
    },
    {
     "data": {
      "text/html": [
       "Tracking run with wandb version 0.19.7"
      ],
      "text/plain": [
       "<IPython.core.display.HTML object>"
      ]
     },
     "metadata": {},
     "output_type": "display_data"
    },
    {
     "data": {
      "text/html": [
       "Run data is saved locally in <code>/Users/yuriivoievidka/UCU/CV/cv-project/src/experiments/wandb/run-20250223_155815-vex7bbba</code>"
      ],
      "text/plain": [
       "<IPython.core.display.HTML object>"
      ]
     },
     "metadata": {},
     "output_type": "display_data"
    },
    {
     "data": {
      "text/html": [
       "Syncing run <strong><a href='https://wandb.ai/urik-voevidka-ukrainian-catholic-university/ui-classification-experiments/runs/vex7bbba' target=\"_blank\">vague-sweep-17</a></strong> to <a href='https://wandb.ai/urik-voevidka-ukrainian-catholic-university/ui-classification-experiments' target=\"_blank\">Weights & Biases</a> (<a href='https://wandb.me/developer-guide' target=\"_blank\">docs</a>)<br>Sweep page: <a href='https://wandb.ai/urik-voevidka-ukrainian-catholic-university/ui-classification-experiments/sweeps/fjdy11wf' target=\"_blank\">https://wandb.ai/urik-voevidka-ukrainian-catholic-university/ui-classification-experiments/sweeps/fjdy11wf</a>"
      ],
      "text/plain": [
       "<IPython.core.display.HTML object>"
      ]
     },
     "metadata": {},
     "output_type": "display_data"
    },
    {
     "data": {
      "text/html": [
       " View project at <a href='https://wandb.ai/urik-voevidka-ukrainian-catholic-university/ui-classification-experiments' target=\"_blank\">https://wandb.ai/urik-voevidka-ukrainian-catholic-university/ui-classification-experiments</a>"
      ],
      "text/plain": [
       "<IPython.core.display.HTML object>"
      ]
     },
     "metadata": {},
     "output_type": "display_data"
    },
    {
     "data": {
      "text/html": [
       " View sweep at <a href='https://wandb.ai/urik-voevidka-ukrainian-catholic-university/ui-classification-experiments/sweeps/fjdy11wf' target=\"_blank\">https://wandb.ai/urik-voevidka-ukrainian-catholic-university/ui-classification-experiments/sweeps/fjdy11wf</a>"
      ],
      "text/plain": [
       "<IPython.core.display.HTML object>"
      ]
     },
     "metadata": {},
     "output_type": "display_data"
    },
    {
     "data": {
      "text/html": [
       " View run at <a href='https://wandb.ai/urik-voevidka-ukrainian-catholic-university/ui-classification-experiments/runs/vex7bbba' target=\"_blank\">https://wandb.ai/urik-voevidka-ukrainian-catholic-university/ui-classification-experiments/runs/vex7bbba</a>"
      ],
      "text/plain": [
       "<IPython.core.display.HTML object>"
      ]
     },
     "metadata": {},
     "output_type": "display_data"
    },
    {
     "data": {
      "text/html": [],
      "text/plain": [
       "<IPython.core.display.HTML object>"
      ]
     },
     "metadata": {},
     "output_type": "display_data"
    },
    {
     "data": {
      "text/html": [
       "<br>    <style><br>        .wandb-row {<br>            display: flex;<br>            flex-direction: row;<br>            flex-wrap: wrap;<br>            justify-content: flex-start;<br>            width: 100%;<br>        }<br>        .wandb-col {<br>            display: flex;<br>            flex-direction: column;<br>            flex-basis: 100%;<br>            flex: 1;<br>            padding: 10px;<br>        }<br>    </style><br><div class=\"wandb-row\"><div class=\"wandb-col\"><h3>Run history:</h3><br/><table class=\"wandb\"><tr><td>accuracy</td><td>▁</td></tr><tr><td>f1_score</td><td>▁</td></tr><tr><td>precision</td><td>▁</td></tr><tr><td>recall</td><td>▁</td></tr></table><br/></div><div class=\"wandb-col\"><h3>Run summary:</h3><br/><table class=\"wandb\"><tr><td>accuracy</td><td>0.8241</td></tr><tr><td>f1_score</td><td>0.82005</td></tr><tr><td>precision</td><td>0.82523</td></tr><tr><td>recall</td><td>0.8241</td></tr></table><br/></div></div>"
      ],
      "text/plain": [
       "<IPython.core.display.HTML object>"
      ]
     },
     "metadata": {},
     "output_type": "display_data"
    },
    {
     "data": {
      "text/html": [
       " View run <strong style=\"color:#cdcd00\">vague-sweep-17</strong> at: <a href='https://wandb.ai/urik-voevidka-ukrainian-catholic-university/ui-classification-experiments/runs/vex7bbba' target=\"_blank\">https://wandb.ai/urik-voevidka-ukrainian-catholic-university/ui-classification-experiments/runs/vex7bbba</a><br> View project at: <a href='https://wandb.ai/urik-voevidka-ukrainian-catholic-university/ui-classification-experiments' target=\"_blank\">https://wandb.ai/urik-voevidka-ukrainian-catholic-university/ui-classification-experiments</a><br>Synced 5 W&B file(s), 0 media file(s), 0 artifact file(s) and 0 other file(s)"
      ],
      "text/plain": [
       "<IPython.core.display.HTML object>"
      ]
     },
     "metadata": {},
     "output_type": "display_data"
    },
    {
     "data": {
      "text/html": [
       "Find logs at: <code>./wandb/run-20250223_155815-vex7bbba/logs</code>"
      ],
      "text/plain": [
       "<IPython.core.display.HTML object>"
      ]
     },
     "metadata": {},
     "output_type": "display_data"
    },
    {
     "name": "stderr",
     "output_type": "stream",
     "text": [
      "\u001b[34m\u001b[1mwandb\u001b[0m: Agent Starting Run: 5e31bpo7 with config:\n",
      "\u001b[34m\u001b[1mwandb\u001b[0m: \tbooster: gbtree\n",
      "\u001b[34m\u001b[1mwandb\u001b[0m: \tlearning_rate: 0.2\n",
      "\u001b[34m\u001b[1mwandb\u001b[0m: \tmax_depth: 6\n",
      "\u001b[34m\u001b[1mwandb\u001b[0m: \tsubsample: 0.5\n"
     ]
    },
    {
     "data": {
      "text/html": [
       "Tracking run with wandb version 0.19.7"
      ],
      "text/plain": [
       "<IPython.core.display.HTML object>"
      ]
     },
     "metadata": {},
     "output_type": "display_data"
    },
    {
     "data": {
      "text/html": [
       "Run data is saved locally in <code>/Users/yuriivoievidka/UCU/CV/cv-project/src/experiments/wandb/run-20250223_155841-5e31bpo7</code>"
      ],
      "text/plain": [
       "<IPython.core.display.HTML object>"
      ]
     },
     "metadata": {},
     "output_type": "display_data"
    },
    {
     "data": {
      "text/html": [
       "Syncing run <strong><a href='https://wandb.ai/urik-voevidka-ukrainian-catholic-university/ui-classification-experiments/runs/5e31bpo7' target=\"_blank\">vocal-sweep-18</a></strong> to <a href='https://wandb.ai/urik-voevidka-ukrainian-catholic-university/ui-classification-experiments' target=\"_blank\">Weights & Biases</a> (<a href='https://wandb.me/developer-guide' target=\"_blank\">docs</a>)<br>Sweep page: <a href='https://wandb.ai/urik-voevidka-ukrainian-catholic-university/ui-classification-experiments/sweeps/fjdy11wf' target=\"_blank\">https://wandb.ai/urik-voevidka-ukrainian-catholic-university/ui-classification-experiments/sweeps/fjdy11wf</a>"
      ],
      "text/plain": [
       "<IPython.core.display.HTML object>"
      ]
     },
     "metadata": {},
     "output_type": "display_data"
    },
    {
     "data": {
      "text/html": [
       " View project at <a href='https://wandb.ai/urik-voevidka-ukrainian-catholic-university/ui-classification-experiments' target=\"_blank\">https://wandb.ai/urik-voevidka-ukrainian-catholic-university/ui-classification-experiments</a>"
      ],
      "text/plain": [
       "<IPython.core.display.HTML object>"
      ]
     },
     "metadata": {},
     "output_type": "display_data"
    },
    {
     "data": {
      "text/html": [
       " View sweep at <a href='https://wandb.ai/urik-voevidka-ukrainian-catholic-university/ui-classification-experiments/sweeps/fjdy11wf' target=\"_blank\">https://wandb.ai/urik-voevidka-ukrainian-catholic-university/ui-classification-experiments/sweeps/fjdy11wf</a>"
      ],
      "text/plain": [
       "<IPython.core.display.HTML object>"
      ]
     },
     "metadata": {},
     "output_type": "display_data"
    },
    {
     "data": {
      "text/html": [
       " View run at <a href='https://wandb.ai/urik-voevidka-ukrainian-catholic-university/ui-classification-experiments/runs/5e31bpo7' target=\"_blank\">https://wandb.ai/urik-voevidka-ukrainian-catholic-university/ui-classification-experiments/runs/5e31bpo7</a>"
      ],
      "text/plain": [
       "<IPython.core.display.HTML object>"
      ]
     },
     "metadata": {},
     "output_type": "display_data"
    },
    {
     "data": {
      "text/html": [],
      "text/plain": [
       "<IPython.core.display.HTML object>"
      ]
     },
     "metadata": {},
     "output_type": "display_data"
    },
    {
     "data": {
      "text/html": [
       "<br>    <style><br>        .wandb-row {<br>            display: flex;<br>            flex-direction: row;<br>            flex-wrap: wrap;<br>            justify-content: flex-start;<br>            width: 100%;<br>        }<br>        .wandb-col {<br>            display: flex;<br>            flex-direction: column;<br>            flex-basis: 100%;<br>            flex: 1;<br>            padding: 10px;<br>        }<br>    </style><br><div class=\"wandb-row\"><div class=\"wandb-col\"><h3>Run history:</h3><br/><table class=\"wandb\"><tr><td>accuracy</td><td>▁</td></tr><tr><td>f1_score</td><td>▁</td></tr><tr><td>precision</td><td>▁</td></tr><tr><td>recall</td><td>▁</td></tr></table><br/></div><div class=\"wandb-col\"><h3>Run summary:</h3><br/><table class=\"wandb\"><tr><td>accuracy</td><td>0.84337</td></tr><tr><td>f1_score</td><td>0.84161</td></tr><tr><td>precision</td><td>0.8437</td></tr><tr><td>recall</td><td>0.84337</td></tr></table><br/></div></div>"
      ],
      "text/plain": [
       "<IPython.core.display.HTML object>"
      ]
     },
     "metadata": {},
     "output_type": "display_data"
    },
    {
     "data": {
      "text/html": [
       " View run <strong style=\"color:#cdcd00\">vocal-sweep-18</strong> at: <a href='https://wandb.ai/urik-voevidka-ukrainian-catholic-university/ui-classification-experiments/runs/5e31bpo7' target=\"_blank\">https://wandb.ai/urik-voevidka-ukrainian-catholic-university/ui-classification-experiments/runs/5e31bpo7</a><br> View project at: <a href='https://wandb.ai/urik-voevidka-ukrainian-catholic-university/ui-classification-experiments' target=\"_blank\">https://wandb.ai/urik-voevidka-ukrainian-catholic-university/ui-classification-experiments</a><br>Synced 5 W&B file(s), 0 media file(s), 0 artifact file(s) and 0 other file(s)"
      ],
      "text/plain": [
       "<IPython.core.display.HTML object>"
      ]
     },
     "metadata": {},
     "output_type": "display_data"
    },
    {
     "data": {
      "text/html": [
       "Find logs at: <code>./wandb/run-20250223_155841-5e31bpo7/logs</code>"
      ],
      "text/plain": [
       "<IPython.core.display.HTML object>"
      ]
     },
     "metadata": {},
     "output_type": "display_data"
    },
    {
     "name": "stderr",
     "output_type": "stream",
     "text": [
      "\u001b[34m\u001b[1mwandb\u001b[0m: Agent Starting Run: k1htlw9x with config:\n",
      "\u001b[34m\u001b[1mwandb\u001b[0m: \tbooster: gblinear\n",
      "\u001b[34m\u001b[1mwandb\u001b[0m: \tlearning_rate: 0.2\n",
      "\u001b[34m\u001b[1mwandb\u001b[0m: \tmax_depth: 3\n",
      "\u001b[34m\u001b[1mwandb\u001b[0m: \tsubsample: 1\n"
     ]
    },
    {
     "data": {
      "text/html": [
       "Tracking run with wandb version 0.19.7"
      ],
      "text/plain": [
       "<IPython.core.display.HTML object>"
      ]
     },
     "metadata": {},
     "output_type": "display_data"
    },
    {
     "data": {
      "text/html": [
       "Run data is saved locally in <code>/Users/yuriivoievidka/UCU/CV/cv-project/src/experiments/wandb/run-20250223_155857-k1htlw9x</code>"
      ],
      "text/plain": [
       "<IPython.core.display.HTML object>"
      ]
     },
     "metadata": {},
     "output_type": "display_data"
    },
    {
     "data": {
      "text/html": [
       "Syncing run <strong><a href='https://wandb.ai/urik-voevidka-ukrainian-catholic-university/ui-classification-experiments/runs/k1htlw9x' target=\"_blank\">solar-sweep-19</a></strong> to <a href='https://wandb.ai/urik-voevidka-ukrainian-catholic-university/ui-classification-experiments' target=\"_blank\">Weights & Biases</a> (<a href='https://wandb.me/developer-guide' target=\"_blank\">docs</a>)<br>Sweep page: <a href='https://wandb.ai/urik-voevidka-ukrainian-catholic-university/ui-classification-experiments/sweeps/fjdy11wf' target=\"_blank\">https://wandb.ai/urik-voevidka-ukrainian-catholic-university/ui-classification-experiments/sweeps/fjdy11wf</a>"
      ],
      "text/plain": [
       "<IPython.core.display.HTML object>"
      ]
     },
     "metadata": {},
     "output_type": "display_data"
    },
    {
     "data": {
      "text/html": [
       " View project at <a href='https://wandb.ai/urik-voevidka-ukrainian-catholic-university/ui-classification-experiments' target=\"_blank\">https://wandb.ai/urik-voevidka-ukrainian-catholic-university/ui-classification-experiments</a>"
      ],
      "text/plain": [
       "<IPython.core.display.HTML object>"
      ]
     },
     "metadata": {},
     "output_type": "display_data"
    },
    {
     "data": {
      "text/html": [
       " View sweep at <a href='https://wandb.ai/urik-voevidka-ukrainian-catholic-university/ui-classification-experiments/sweeps/fjdy11wf' target=\"_blank\">https://wandb.ai/urik-voevidka-ukrainian-catholic-university/ui-classification-experiments/sweeps/fjdy11wf</a>"
      ],
      "text/plain": [
       "<IPython.core.display.HTML object>"
      ]
     },
     "metadata": {},
     "output_type": "display_data"
    },
    {
     "data": {
      "text/html": [
       " View run at <a href='https://wandb.ai/urik-voevidka-ukrainian-catholic-university/ui-classification-experiments/runs/k1htlw9x' target=\"_blank\">https://wandb.ai/urik-voevidka-ukrainian-catholic-university/ui-classification-experiments/runs/k1htlw9x</a>"
      ],
      "text/plain": [
       "<IPython.core.display.HTML object>"
      ]
     },
     "metadata": {},
     "output_type": "display_data"
    },
    {
     "name": "stderr",
     "output_type": "stream",
     "text": [
      "[15:58:58] WARNING: /Users/runner/work/xgboost/xgboost/src/learner.cc:740: \n",
      "Parameters: { \"max_depth\", \"subsample\" } are not used.\n",
      "\n"
     ]
    },
    {
     "data": {
      "text/html": [],
      "text/plain": [
       "<IPython.core.display.HTML object>"
      ]
     },
     "metadata": {},
     "output_type": "display_data"
    },
    {
     "data": {
      "text/html": [
       "<br>    <style><br>        .wandb-row {<br>            display: flex;<br>            flex-direction: row;<br>            flex-wrap: wrap;<br>            justify-content: flex-start;<br>            width: 100%;<br>        }<br>        .wandb-col {<br>            display: flex;<br>            flex-direction: column;<br>            flex-basis: 100%;<br>            flex: 1;<br>            padding: 10px;<br>        }<br>    </style><br><div class=\"wandb-row\"><div class=\"wandb-col\"><h3>Run history:</h3><br/><table class=\"wandb\"><tr><td>accuracy</td><td>▁</td></tr><tr><td>f1_score</td><td>▁</td></tr><tr><td>precision</td><td>▁</td></tr><tr><td>recall</td><td>▁</td></tr></table><br/></div><div class=\"wandb-col\"><h3>Run summary:</h3><br/><table class=\"wandb\"><tr><td>accuracy</td><td>0.84739</td></tr><tr><td>f1_score</td><td>0.84821</td></tr><tr><td>precision</td><td>0.85043</td></tr><tr><td>recall</td><td>0.84739</td></tr></table><br/></div></div>"
      ],
      "text/plain": [
       "<IPython.core.display.HTML object>"
      ]
     },
     "metadata": {},
     "output_type": "display_data"
    },
    {
     "data": {
      "text/html": [
       " View run <strong style=\"color:#cdcd00\">solar-sweep-19</strong> at: <a href='https://wandb.ai/urik-voevidka-ukrainian-catholic-university/ui-classification-experiments/runs/k1htlw9x' target=\"_blank\">https://wandb.ai/urik-voevidka-ukrainian-catholic-university/ui-classification-experiments/runs/k1htlw9x</a><br> View project at: <a href='https://wandb.ai/urik-voevidka-ukrainian-catholic-university/ui-classification-experiments' target=\"_blank\">https://wandb.ai/urik-voevidka-ukrainian-catholic-university/ui-classification-experiments</a><br>Synced 5 W&B file(s), 0 media file(s), 0 artifact file(s) and 0 other file(s)"
      ],
      "text/plain": [
       "<IPython.core.display.HTML object>"
      ]
     },
     "metadata": {},
     "output_type": "display_data"
    },
    {
     "data": {
      "text/html": [
       "Find logs at: <code>./wandb/run-20250223_155857-k1htlw9x/logs</code>"
      ],
      "text/plain": [
       "<IPython.core.display.HTML object>"
      ]
     },
     "metadata": {},
     "output_type": "display_data"
    },
    {
     "name": "stderr",
     "output_type": "stream",
     "text": [
      "\u001b[34m\u001b[1mwandb\u001b[0m: Sweep Agent: Waiting for job.\n",
      "\u001b[34m\u001b[1mwandb\u001b[0m: Job received.\n",
      "\u001b[34m\u001b[1mwandb\u001b[0m: Agent Starting Run: ptuvgq7i with config:\n",
      "\u001b[34m\u001b[1mwandb\u001b[0m: \tbooster: gblinear\n",
      "\u001b[34m\u001b[1mwandb\u001b[0m: \tlearning_rate: 0.1\n",
      "\u001b[34m\u001b[1mwandb\u001b[0m: \tmax_depth: 9\n",
      "\u001b[34m\u001b[1mwandb\u001b[0m: \tsubsample: 0.3\n"
     ]
    },
    {
     "data": {
      "text/html": [
       "Tracking run with wandb version 0.19.7"
      ],
      "text/plain": [
       "<IPython.core.display.HTML object>"
      ]
     },
     "metadata": {},
     "output_type": "display_data"
    },
    {
     "data": {
      "text/html": [
       "Run data is saved locally in <code>/Users/yuriivoievidka/UCU/CV/cv-project/src/experiments/wandb/run-20250223_155912-ptuvgq7i</code>"
      ],
      "text/plain": [
       "<IPython.core.display.HTML object>"
      ]
     },
     "metadata": {},
     "output_type": "display_data"
    },
    {
     "data": {
      "text/html": [
       "Syncing run <strong><a href='https://wandb.ai/urik-voevidka-ukrainian-catholic-university/ui-classification-experiments/runs/ptuvgq7i' target=\"_blank\">driven-sweep-20</a></strong> to <a href='https://wandb.ai/urik-voevidka-ukrainian-catholic-university/ui-classification-experiments' target=\"_blank\">Weights & Biases</a> (<a href='https://wandb.me/developer-guide' target=\"_blank\">docs</a>)<br>Sweep page: <a href='https://wandb.ai/urik-voevidka-ukrainian-catholic-university/ui-classification-experiments/sweeps/fjdy11wf' target=\"_blank\">https://wandb.ai/urik-voevidka-ukrainian-catholic-university/ui-classification-experiments/sweeps/fjdy11wf</a>"
      ],
      "text/plain": [
       "<IPython.core.display.HTML object>"
      ]
     },
     "metadata": {},
     "output_type": "display_data"
    },
    {
     "data": {
      "text/html": [
       " View project at <a href='https://wandb.ai/urik-voevidka-ukrainian-catholic-university/ui-classification-experiments' target=\"_blank\">https://wandb.ai/urik-voevidka-ukrainian-catholic-university/ui-classification-experiments</a>"
      ],
      "text/plain": [
       "<IPython.core.display.HTML object>"
      ]
     },
     "metadata": {},
     "output_type": "display_data"
    },
    {
     "data": {
      "text/html": [
       " View sweep at <a href='https://wandb.ai/urik-voevidka-ukrainian-catholic-university/ui-classification-experiments/sweeps/fjdy11wf' target=\"_blank\">https://wandb.ai/urik-voevidka-ukrainian-catholic-university/ui-classification-experiments/sweeps/fjdy11wf</a>"
      ],
      "text/plain": [
       "<IPython.core.display.HTML object>"
      ]
     },
     "metadata": {},
     "output_type": "display_data"
    },
    {
     "data": {
      "text/html": [
       " View run at <a href='https://wandb.ai/urik-voevidka-ukrainian-catholic-university/ui-classification-experiments/runs/ptuvgq7i' target=\"_blank\">https://wandb.ai/urik-voevidka-ukrainian-catholic-university/ui-classification-experiments/runs/ptuvgq7i</a>"
      ],
      "text/plain": [
       "<IPython.core.display.HTML object>"
      ]
     },
     "metadata": {},
     "output_type": "display_data"
    },
    {
     "name": "stderr",
     "output_type": "stream",
     "text": [
      "[15:59:12] WARNING: /Users/runner/work/xgboost/xgboost/src/learner.cc:740: \n",
      "Parameters: { \"max_depth\", \"subsample\" } are not used.\n",
      "\n"
     ]
    },
    {
     "data": {
      "text/html": [],
      "text/plain": [
       "<IPython.core.display.HTML object>"
      ]
     },
     "metadata": {},
     "output_type": "display_data"
    },
    {
     "data": {
      "text/html": [
       "<br>    <style><br>        .wandb-row {<br>            display: flex;<br>            flex-direction: row;<br>            flex-wrap: wrap;<br>            justify-content: flex-start;<br>            width: 100%;<br>        }<br>        .wandb-col {<br>            display: flex;<br>            flex-direction: column;<br>            flex-basis: 100%;<br>            flex: 1;<br>            padding: 10px;<br>        }<br>    </style><br><div class=\"wandb-row\"><div class=\"wandb-col\"><h3>Run history:</h3><br/><table class=\"wandb\"><tr><td>accuracy</td><td>▁</td></tr><tr><td>f1_score</td><td>▁</td></tr><tr><td>precision</td><td>▁</td></tr><tr><td>recall</td><td>▁</td></tr></table><br/></div><div class=\"wandb-col\"><h3>Run summary:</h3><br/><table class=\"wandb\"><tr><td>accuracy</td><td>0.8506</td></tr><tr><td>f1_score</td><td>0.85123</td></tr><tr><td>precision</td><td>0.85267</td></tr><tr><td>recall</td><td>0.8506</td></tr></table><br/></div></div>"
      ],
      "text/plain": [
       "<IPython.core.display.HTML object>"
      ]
     },
     "metadata": {},
     "output_type": "display_data"
    },
    {
     "data": {
      "text/html": [
       " View run <strong style=\"color:#cdcd00\">driven-sweep-20</strong> at: <a href='https://wandb.ai/urik-voevidka-ukrainian-catholic-university/ui-classification-experiments/runs/ptuvgq7i' target=\"_blank\">https://wandb.ai/urik-voevidka-ukrainian-catholic-university/ui-classification-experiments/runs/ptuvgq7i</a><br> View project at: <a href='https://wandb.ai/urik-voevidka-ukrainian-catholic-university/ui-classification-experiments' target=\"_blank\">https://wandb.ai/urik-voevidka-ukrainian-catholic-university/ui-classification-experiments</a><br>Synced 5 W&B file(s), 0 media file(s), 0 artifact file(s) and 0 other file(s)"
      ],
      "text/plain": [
       "<IPython.core.display.HTML object>"
      ]
     },
     "metadata": {},
     "output_type": "display_data"
    },
    {
     "data": {
      "text/html": [
       "Find logs at: <code>./wandb/run-20250223_155912-ptuvgq7i/logs</code>"
      ],
      "text/plain": [
       "<IPython.core.display.HTML object>"
      ]
     },
     "metadata": {},
     "output_type": "display_data"
    },
    {
     "name": "stderr",
     "output_type": "stream",
     "text": [
      "\u001b[34m\u001b[1mwandb\u001b[0m: Agent Starting Run: q9rlf9dh with config:\n",
      "\u001b[34m\u001b[1mwandb\u001b[0m: \tbooster: gblinear\n",
      "\u001b[34m\u001b[1mwandb\u001b[0m: \tlearning_rate: 0.2\n",
      "\u001b[34m\u001b[1mwandb\u001b[0m: \tmax_depth: 3\n",
      "\u001b[34m\u001b[1mwandb\u001b[0m: \tsubsample: 0.5\n"
     ]
    },
    {
     "data": {
      "text/html": [
       "Tracking run with wandb version 0.19.7"
      ],
      "text/plain": [
       "<IPython.core.display.HTML object>"
      ]
     },
     "metadata": {},
     "output_type": "display_data"
    },
    {
     "data": {
      "text/html": [
       "Run data is saved locally in <code>/Users/yuriivoievidka/UCU/CV/cv-project/src/experiments/wandb/run-20250223_155918-q9rlf9dh</code>"
      ],
      "text/plain": [
       "<IPython.core.display.HTML object>"
      ]
     },
     "metadata": {},
     "output_type": "display_data"
    },
    {
     "data": {
      "text/html": [
       "Syncing run <strong><a href='https://wandb.ai/urik-voevidka-ukrainian-catholic-university/ui-classification-experiments/runs/q9rlf9dh' target=\"_blank\">ancient-sweep-21</a></strong> to <a href='https://wandb.ai/urik-voevidka-ukrainian-catholic-university/ui-classification-experiments' target=\"_blank\">Weights & Biases</a> (<a href='https://wandb.me/developer-guide' target=\"_blank\">docs</a>)<br>Sweep page: <a href='https://wandb.ai/urik-voevidka-ukrainian-catholic-university/ui-classification-experiments/sweeps/fjdy11wf' target=\"_blank\">https://wandb.ai/urik-voevidka-ukrainian-catholic-university/ui-classification-experiments/sweeps/fjdy11wf</a>"
      ],
      "text/plain": [
       "<IPython.core.display.HTML object>"
      ]
     },
     "metadata": {},
     "output_type": "display_data"
    },
    {
     "data": {
      "text/html": [
       " View project at <a href='https://wandb.ai/urik-voevidka-ukrainian-catholic-university/ui-classification-experiments' target=\"_blank\">https://wandb.ai/urik-voevidka-ukrainian-catholic-university/ui-classification-experiments</a>"
      ],
      "text/plain": [
       "<IPython.core.display.HTML object>"
      ]
     },
     "metadata": {},
     "output_type": "display_data"
    },
    {
     "data": {
      "text/html": [
       " View sweep at <a href='https://wandb.ai/urik-voevidka-ukrainian-catholic-university/ui-classification-experiments/sweeps/fjdy11wf' target=\"_blank\">https://wandb.ai/urik-voevidka-ukrainian-catholic-university/ui-classification-experiments/sweeps/fjdy11wf</a>"
      ],
      "text/plain": [
       "<IPython.core.display.HTML object>"
      ]
     },
     "metadata": {},
     "output_type": "display_data"
    },
    {
     "data": {
      "text/html": [
       " View run at <a href='https://wandb.ai/urik-voevidka-ukrainian-catholic-university/ui-classification-experiments/runs/q9rlf9dh' target=\"_blank\">https://wandb.ai/urik-voevidka-ukrainian-catholic-university/ui-classification-experiments/runs/q9rlf9dh</a>"
      ],
      "text/plain": [
       "<IPython.core.display.HTML object>"
      ]
     },
     "metadata": {},
     "output_type": "display_data"
    },
    {
     "name": "stderr",
     "output_type": "stream",
     "text": [
      "[15:59:19] WARNING: /Users/runner/work/xgboost/xgboost/src/learner.cc:740: \n",
      "Parameters: { \"max_depth\", \"subsample\" } are not used.\n",
      "\n"
     ]
    },
    {
     "data": {
      "text/html": [],
      "text/plain": [
       "<IPython.core.display.HTML object>"
      ]
     },
     "metadata": {},
     "output_type": "display_data"
    },
    {
     "data": {
      "text/html": [
       "<br>    <style><br>        .wandb-row {<br>            display: flex;<br>            flex-direction: row;<br>            flex-wrap: wrap;<br>            justify-content: flex-start;<br>            width: 100%;<br>        }<br>        .wandb-col {<br>            display: flex;<br>            flex-direction: column;<br>            flex-basis: 100%;<br>            flex: 1;<br>            padding: 10px;<br>        }<br>    </style><br><div class=\"wandb-row\"><div class=\"wandb-col\"><h3>Run history:</h3><br/><table class=\"wandb\"><tr><td>accuracy</td><td>▁</td></tr><tr><td>f1_score</td><td>▁</td></tr><tr><td>precision</td><td>▁</td></tr><tr><td>recall</td><td>▁</td></tr></table><br/></div><div class=\"wandb-col\"><h3>Run summary:</h3><br/><table class=\"wandb\"><tr><td>accuracy</td><td>0.84659</td></tr><tr><td>f1_score</td><td>0.8474</td></tr><tr><td>precision</td><td>0.84967</td></tr><tr><td>recall</td><td>0.84659</td></tr></table><br/></div></div>"
      ],
      "text/plain": [
       "<IPython.core.display.HTML object>"
      ]
     },
     "metadata": {},
     "output_type": "display_data"
    },
    {
     "data": {
      "text/html": [
       " View run <strong style=\"color:#cdcd00\">ancient-sweep-21</strong> at: <a href='https://wandb.ai/urik-voevidka-ukrainian-catholic-university/ui-classification-experiments/runs/q9rlf9dh' target=\"_blank\">https://wandb.ai/urik-voevidka-ukrainian-catholic-university/ui-classification-experiments/runs/q9rlf9dh</a><br> View project at: <a href='https://wandb.ai/urik-voevidka-ukrainian-catholic-university/ui-classification-experiments' target=\"_blank\">https://wandb.ai/urik-voevidka-ukrainian-catholic-university/ui-classification-experiments</a><br>Synced 5 W&B file(s), 0 media file(s), 0 artifact file(s) and 0 other file(s)"
      ],
      "text/plain": [
       "<IPython.core.display.HTML object>"
      ]
     },
     "metadata": {},
     "output_type": "display_data"
    },
    {
     "data": {
      "text/html": [
       "Find logs at: <code>./wandb/run-20250223_155918-q9rlf9dh/logs</code>"
      ],
      "text/plain": [
       "<IPython.core.display.HTML object>"
      ]
     },
     "metadata": {},
     "output_type": "display_data"
    },
    {
     "name": "stderr",
     "output_type": "stream",
     "text": [
      "\u001b[34m\u001b[1mwandb\u001b[0m: Sweep Agent: Waiting for job.\n",
      "\u001b[34m\u001b[1mwandb\u001b[0m: Job received.\n",
      "\u001b[34m\u001b[1mwandb\u001b[0m: Agent Starting Run: ytg7epme with config:\n",
      "\u001b[34m\u001b[1mwandb\u001b[0m: \tbooster: gbtree\n",
      "\u001b[34m\u001b[1mwandb\u001b[0m: \tlearning_rate: 0.2\n",
      "\u001b[34m\u001b[1mwandb\u001b[0m: \tmax_depth: 6\n",
      "\u001b[34m\u001b[1mwandb\u001b[0m: \tsubsample: 1\n"
     ]
    },
    {
     "data": {
      "text/html": [
       "creating run (0.9s)"
      ],
      "text/plain": [
       "<IPython.core.display.HTML object>"
      ]
     },
     "metadata": {},
     "output_type": "display_data"
    },
    {
     "data": {
      "text/html": [
       "Tracking run with wandb version 0.19.7"
      ],
      "text/plain": [
       "<IPython.core.display.HTML object>"
      ]
     },
     "metadata": {},
     "output_type": "display_data"
    },
    {
     "data": {
      "text/html": [
       "Run data is saved locally in <code>/Users/yuriivoievidka/UCU/CV/cv-project/src/experiments/wandb/run-20250223_155933-ytg7epme</code>"
      ],
      "text/plain": [
       "<IPython.core.display.HTML object>"
      ]
     },
     "metadata": {},
     "output_type": "display_data"
    },
    {
     "data": {
      "text/html": [
       "Syncing run <strong><a href='https://wandb.ai/urik-voevidka-ukrainian-catholic-university/ui-classification-experiments/runs/ytg7epme' target=\"_blank\">atomic-sweep-22</a></strong> to <a href='https://wandb.ai/urik-voevidka-ukrainian-catholic-university/ui-classification-experiments' target=\"_blank\">Weights & Biases</a> (<a href='https://wandb.me/developer-guide' target=\"_blank\">docs</a>)<br>Sweep page: <a href='https://wandb.ai/urik-voevidka-ukrainian-catholic-university/ui-classification-experiments/sweeps/fjdy11wf' target=\"_blank\">https://wandb.ai/urik-voevidka-ukrainian-catholic-university/ui-classification-experiments/sweeps/fjdy11wf</a>"
      ],
      "text/plain": [
       "<IPython.core.display.HTML object>"
      ]
     },
     "metadata": {},
     "output_type": "display_data"
    },
    {
     "data": {
      "text/html": [
       " View project at <a href='https://wandb.ai/urik-voevidka-ukrainian-catholic-university/ui-classification-experiments' target=\"_blank\">https://wandb.ai/urik-voevidka-ukrainian-catholic-university/ui-classification-experiments</a>"
      ],
      "text/plain": [
       "<IPython.core.display.HTML object>"
      ]
     },
     "metadata": {},
     "output_type": "display_data"
    },
    {
     "data": {
      "text/html": [
       " View sweep at <a href='https://wandb.ai/urik-voevidka-ukrainian-catholic-university/ui-classification-experiments/sweeps/fjdy11wf' target=\"_blank\">https://wandb.ai/urik-voevidka-ukrainian-catholic-university/ui-classification-experiments/sweeps/fjdy11wf</a>"
      ],
      "text/plain": [
       "<IPython.core.display.HTML object>"
      ]
     },
     "metadata": {},
     "output_type": "display_data"
    },
    {
     "data": {
      "text/html": [
       " View run at <a href='https://wandb.ai/urik-voevidka-ukrainian-catholic-university/ui-classification-experiments/runs/ytg7epme' target=\"_blank\">https://wandb.ai/urik-voevidka-ukrainian-catholic-university/ui-classification-experiments/runs/ytg7epme</a>"
      ],
      "text/plain": [
       "<IPython.core.display.HTML object>"
      ]
     },
     "metadata": {},
     "output_type": "display_data"
    },
    {
     "data": {
      "text/html": [],
      "text/plain": [
       "<IPython.core.display.HTML object>"
      ]
     },
     "metadata": {},
     "output_type": "display_data"
    },
    {
     "data": {
      "text/html": [
       "<br>    <style><br>        .wandb-row {<br>            display: flex;<br>            flex-direction: row;<br>            flex-wrap: wrap;<br>            justify-content: flex-start;<br>            width: 100%;<br>        }<br>        .wandb-col {<br>            display: flex;<br>            flex-direction: column;<br>            flex-basis: 100%;<br>            flex: 1;<br>            padding: 10px;<br>        }<br>    </style><br><div class=\"wandb-row\"><div class=\"wandb-col\"><h3>Run history:</h3><br/><table class=\"wandb\"><tr><td>accuracy</td><td>▁</td></tr><tr><td>f1_score</td><td>▁</td></tr><tr><td>precision</td><td>▁</td></tr><tr><td>recall</td><td>▁</td></tr></table><br/></div><div class=\"wandb-col\"><h3>Run summary:</h3><br/><table class=\"wandb\"><tr><td>accuracy</td><td>0.83614</td></tr><tr><td>f1_score</td><td>0.8337</td></tr><tr><td>precision</td><td>0.836</td></tr><tr><td>recall</td><td>0.83614</td></tr></table><br/></div></div>"
      ],
      "text/plain": [
       "<IPython.core.display.HTML object>"
      ]
     },
     "metadata": {},
     "output_type": "display_data"
    },
    {
     "data": {
      "text/html": [
       " View run <strong style=\"color:#cdcd00\">atomic-sweep-22</strong> at: <a href='https://wandb.ai/urik-voevidka-ukrainian-catholic-university/ui-classification-experiments/runs/ytg7epme' target=\"_blank\">https://wandb.ai/urik-voevidka-ukrainian-catholic-university/ui-classification-experiments/runs/ytg7epme</a><br> View project at: <a href='https://wandb.ai/urik-voevidka-ukrainian-catholic-university/ui-classification-experiments' target=\"_blank\">https://wandb.ai/urik-voevidka-ukrainian-catholic-university/ui-classification-experiments</a><br>Synced 5 W&B file(s), 0 media file(s), 0 artifact file(s) and 0 other file(s)"
      ],
      "text/plain": [
       "<IPython.core.display.HTML object>"
      ]
     },
     "metadata": {},
     "output_type": "display_data"
    },
    {
     "data": {
      "text/html": [
       "Find logs at: <code>./wandb/run-20250223_155933-ytg7epme/logs</code>"
      ],
      "text/plain": [
       "<IPython.core.display.HTML object>"
      ]
     },
     "metadata": {},
     "output_type": "display_data"
    },
    {
     "name": "stderr",
     "output_type": "stream",
     "text": [
      "\u001b[34m\u001b[1mwandb\u001b[0m: Agent Starting Run: of6t98uq with config:\n",
      "\u001b[34m\u001b[1mwandb\u001b[0m: \tbooster: gbtree\n",
      "\u001b[34m\u001b[1mwandb\u001b[0m: \tlearning_rate: 0.05\n",
      "\u001b[34m\u001b[1mwandb\u001b[0m: \tmax_depth: 9\n",
      "\u001b[34m\u001b[1mwandb\u001b[0m: \tsubsample: 0.3\n"
     ]
    },
    {
     "data": {
      "text/html": [
       "Tracking run with wandb version 0.19.7"
      ],
      "text/plain": [
       "<IPython.core.display.HTML object>"
      ]
     },
     "metadata": {},
     "output_type": "display_data"
    },
    {
     "data": {
      "text/html": [
       "Run data is saved locally in <code>/Users/yuriivoievidka/UCU/CV/cv-project/src/experiments/wandb/run-20250223_155949-of6t98uq</code>"
      ],
      "text/plain": [
       "<IPython.core.display.HTML object>"
      ]
     },
     "metadata": {},
     "output_type": "display_data"
    },
    {
     "data": {
      "text/html": [
       "Syncing run <strong><a href='https://wandb.ai/urik-voevidka-ukrainian-catholic-university/ui-classification-experiments/runs/of6t98uq' target=\"_blank\">elated-sweep-23</a></strong> to <a href='https://wandb.ai/urik-voevidka-ukrainian-catholic-university/ui-classification-experiments' target=\"_blank\">Weights & Biases</a> (<a href='https://wandb.me/developer-guide' target=\"_blank\">docs</a>)<br>Sweep page: <a href='https://wandb.ai/urik-voevidka-ukrainian-catholic-university/ui-classification-experiments/sweeps/fjdy11wf' target=\"_blank\">https://wandb.ai/urik-voevidka-ukrainian-catholic-university/ui-classification-experiments/sweeps/fjdy11wf</a>"
      ],
      "text/plain": [
       "<IPython.core.display.HTML object>"
      ]
     },
     "metadata": {},
     "output_type": "display_data"
    },
    {
     "data": {
      "text/html": [
       " View project at <a href='https://wandb.ai/urik-voevidka-ukrainian-catholic-university/ui-classification-experiments' target=\"_blank\">https://wandb.ai/urik-voevidka-ukrainian-catholic-university/ui-classification-experiments</a>"
      ],
      "text/plain": [
       "<IPython.core.display.HTML object>"
      ]
     },
     "metadata": {},
     "output_type": "display_data"
    },
    {
     "data": {
      "text/html": [
       " View sweep at <a href='https://wandb.ai/urik-voevidka-ukrainian-catholic-university/ui-classification-experiments/sweeps/fjdy11wf' target=\"_blank\">https://wandb.ai/urik-voevidka-ukrainian-catholic-university/ui-classification-experiments/sweeps/fjdy11wf</a>"
      ],
      "text/plain": [
       "<IPython.core.display.HTML object>"
      ]
     },
     "metadata": {},
     "output_type": "display_data"
    },
    {
     "data": {
      "text/html": [
       " View run at <a href='https://wandb.ai/urik-voevidka-ukrainian-catholic-university/ui-classification-experiments/runs/of6t98uq' target=\"_blank\">https://wandb.ai/urik-voevidka-ukrainian-catholic-university/ui-classification-experiments/runs/of6t98uq</a>"
      ],
      "text/plain": [
       "<IPython.core.display.HTML object>"
      ]
     },
     "metadata": {},
     "output_type": "display_data"
    },
    {
     "data": {
      "text/html": [],
      "text/plain": [
       "<IPython.core.display.HTML object>"
      ]
     },
     "metadata": {},
     "output_type": "display_data"
    },
    {
     "data": {
      "text/html": [
       "<br>    <style><br>        .wandb-row {<br>            display: flex;<br>            flex-direction: row;<br>            flex-wrap: wrap;<br>            justify-content: flex-start;<br>            width: 100%;<br>        }<br>        .wandb-col {<br>            display: flex;<br>            flex-direction: column;<br>            flex-basis: 100%;<br>            flex: 1;<br>            padding: 10px;<br>        }<br>    </style><br><div class=\"wandb-row\"><div class=\"wandb-col\"><h3>Run history:</h3><br/><table class=\"wandb\"><tr><td>accuracy</td><td>▁</td></tr><tr><td>f1_score</td><td>▁</td></tr><tr><td>precision</td><td>▁</td></tr><tr><td>recall</td><td>▁</td></tr></table><br/></div><div class=\"wandb-col\"><h3>Run summary:</h3><br/><table class=\"wandb\"><tr><td>accuracy</td><td>0.80482</td></tr><tr><td>f1_score</td><td>0.79945</td></tr><tr><td>precision</td><td>0.80768</td></tr><tr><td>recall</td><td>0.80482</td></tr></table><br/></div></div>"
      ],
      "text/plain": [
       "<IPython.core.display.HTML object>"
      ]
     },
     "metadata": {},
     "output_type": "display_data"
    },
    {
     "data": {
      "text/html": [
       " View run <strong style=\"color:#cdcd00\">elated-sweep-23</strong> at: <a href='https://wandb.ai/urik-voevidka-ukrainian-catholic-university/ui-classification-experiments/runs/of6t98uq' target=\"_blank\">https://wandb.ai/urik-voevidka-ukrainian-catholic-university/ui-classification-experiments/runs/of6t98uq</a><br> View project at: <a href='https://wandb.ai/urik-voevidka-ukrainian-catholic-university/ui-classification-experiments' target=\"_blank\">https://wandb.ai/urik-voevidka-ukrainian-catholic-university/ui-classification-experiments</a><br>Synced 5 W&B file(s), 0 media file(s), 0 artifact file(s) and 0 other file(s)"
      ],
      "text/plain": [
       "<IPython.core.display.HTML object>"
      ]
     },
     "metadata": {},
     "output_type": "display_data"
    },
    {
     "data": {
      "text/html": [
       "Find logs at: <code>./wandb/run-20250223_155949-of6t98uq/logs</code>"
      ],
      "text/plain": [
       "<IPython.core.display.HTML object>"
      ]
     },
     "metadata": {},
     "output_type": "display_data"
    },
    {
     "name": "stderr",
     "output_type": "stream",
     "text": [
      "\u001b[34m\u001b[1mwandb\u001b[0m: Sweep Agent: Waiting for job.\n",
      "\u001b[34m\u001b[1mwandb\u001b[0m: Job received.\n",
      "\u001b[34m\u001b[1mwandb\u001b[0m: Agent Starting Run: rh7ibcw3 with config:\n",
      "\u001b[34m\u001b[1mwandb\u001b[0m: \tbooster: gbtree\n",
      "\u001b[34m\u001b[1mwandb\u001b[0m: \tlearning_rate: 0.2\n",
      "\u001b[34m\u001b[1mwandb\u001b[0m: \tmax_depth: 12\n",
      "\u001b[34m\u001b[1mwandb\u001b[0m: \tsubsample: 0.5\n"
     ]
    },
    {
     "data": {
      "text/html": [
       "Tracking run with wandb version 0.19.7"
      ],
      "text/plain": [
       "<IPython.core.display.HTML object>"
      ]
     },
     "metadata": {},
     "output_type": "display_data"
    },
    {
     "data": {
      "text/html": [
       "Run data is saved locally in <code>/Users/yuriivoievidka/UCU/CV/cv-project/src/experiments/wandb/run-20250223_160015-rh7ibcw3</code>"
      ],
      "text/plain": [
       "<IPython.core.display.HTML object>"
      ]
     },
     "metadata": {},
     "output_type": "display_data"
    },
    {
     "data": {
      "text/html": [
       "Syncing run <strong><a href='https://wandb.ai/urik-voevidka-ukrainian-catholic-university/ui-classification-experiments/runs/rh7ibcw3' target=\"_blank\">clear-sweep-24</a></strong> to <a href='https://wandb.ai/urik-voevidka-ukrainian-catholic-university/ui-classification-experiments' target=\"_blank\">Weights & Biases</a> (<a href='https://wandb.me/developer-guide' target=\"_blank\">docs</a>)<br>Sweep page: <a href='https://wandb.ai/urik-voevidka-ukrainian-catholic-university/ui-classification-experiments/sweeps/fjdy11wf' target=\"_blank\">https://wandb.ai/urik-voevidka-ukrainian-catholic-university/ui-classification-experiments/sweeps/fjdy11wf</a>"
      ],
      "text/plain": [
       "<IPython.core.display.HTML object>"
      ]
     },
     "metadata": {},
     "output_type": "display_data"
    },
    {
     "data": {
      "text/html": [
       " View project at <a href='https://wandb.ai/urik-voevidka-ukrainian-catholic-university/ui-classification-experiments' target=\"_blank\">https://wandb.ai/urik-voevidka-ukrainian-catholic-university/ui-classification-experiments</a>"
      ],
      "text/plain": [
       "<IPython.core.display.HTML object>"
      ]
     },
     "metadata": {},
     "output_type": "display_data"
    },
    {
     "data": {
      "text/html": [
       " View sweep at <a href='https://wandb.ai/urik-voevidka-ukrainian-catholic-university/ui-classification-experiments/sweeps/fjdy11wf' target=\"_blank\">https://wandb.ai/urik-voevidka-ukrainian-catholic-university/ui-classification-experiments/sweeps/fjdy11wf</a>"
      ],
      "text/plain": [
       "<IPython.core.display.HTML object>"
      ]
     },
     "metadata": {},
     "output_type": "display_data"
    },
    {
     "data": {
      "text/html": [
       " View run at <a href='https://wandb.ai/urik-voevidka-ukrainian-catholic-university/ui-classification-experiments/runs/rh7ibcw3' target=\"_blank\">https://wandb.ai/urik-voevidka-ukrainian-catholic-university/ui-classification-experiments/runs/rh7ibcw3</a>"
      ],
      "text/plain": [
       "<IPython.core.display.HTML object>"
      ]
     },
     "metadata": {},
     "output_type": "display_data"
    },
    {
     "data": {
      "text/html": [],
      "text/plain": [
       "<IPython.core.display.HTML object>"
      ]
     },
     "metadata": {},
     "output_type": "display_data"
    },
    {
     "data": {
      "text/html": [
       "<br>    <style><br>        .wandb-row {<br>            display: flex;<br>            flex-direction: row;<br>            flex-wrap: wrap;<br>            justify-content: flex-start;<br>            width: 100%;<br>        }<br>        .wandb-col {<br>            display: flex;<br>            flex-direction: column;<br>            flex-basis: 100%;<br>            flex: 1;<br>            padding: 10px;<br>        }<br>    </style><br><div class=\"wandb-row\"><div class=\"wandb-col\"><h3>Run history:</h3><br/><table class=\"wandb\"><tr><td>accuracy</td><td>▁</td></tr><tr><td>f1_score</td><td>▁</td></tr><tr><td>precision</td><td>▁</td></tr><tr><td>recall</td><td>▁</td></tr></table><br/></div><div class=\"wandb-col\"><h3>Run summary:</h3><br/><table class=\"wandb\"><tr><td>accuracy</td><td>0.82972</td></tr><tr><td>f1_score</td><td>0.82819</td></tr><tr><td>precision</td><td>0.83058</td></tr><tr><td>recall</td><td>0.82972</td></tr></table><br/></div></div>"
      ],
      "text/plain": [
       "<IPython.core.display.HTML object>"
      ]
     },
     "metadata": {},
     "output_type": "display_data"
    },
    {
     "data": {
      "text/html": [
       " View run <strong style=\"color:#cdcd00\">clear-sweep-24</strong> at: <a href='https://wandb.ai/urik-voevidka-ukrainian-catholic-university/ui-classification-experiments/runs/rh7ibcw3' target=\"_blank\">https://wandb.ai/urik-voevidka-ukrainian-catholic-university/ui-classification-experiments/runs/rh7ibcw3</a><br> View project at: <a href='https://wandb.ai/urik-voevidka-ukrainian-catholic-university/ui-classification-experiments' target=\"_blank\">https://wandb.ai/urik-voevidka-ukrainian-catholic-university/ui-classification-experiments</a><br>Synced 5 W&B file(s), 0 media file(s), 0 artifact file(s) and 0 other file(s)"
      ],
      "text/plain": [
       "<IPython.core.display.HTML object>"
      ]
     },
     "metadata": {},
     "output_type": "display_data"
    },
    {
     "data": {
      "text/html": [
       "Find logs at: <code>./wandb/run-20250223_160015-rh7ibcw3/logs</code>"
      ],
      "text/plain": [
       "<IPython.core.display.HTML object>"
      ]
     },
     "metadata": {},
     "output_type": "display_data"
    },
    {
     "name": "stderr",
     "output_type": "stream",
     "text": [
      "\u001b[34m\u001b[1mwandb\u001b[0m: Agent Starting Run: do5fhng0 with config:\n",
      "\u001b[34m\u001b[1mwandb\u001b[0m: \tbooster: gblinear\n",
      "\u001b[34m\u001b[1mwandb\u001b[0m: \tlearning_rate: 0.2\n",
      "\u001b[34m\u001b[1mwandb\u001b[0m: \tmax_depth: 12\n",
      "\u001b[34m\u001b[1mwandb\u001b[0m: \tsubsample: 1\n"
     ]
    },
    {
     "data": {
      "text/html": [
       "Tracking run with wandb version 0.19.7"
      ],
      "text/plain": [
       "<IPython.core.display.HTML object>"
      ]
     },
     "metadata": {},
     "output_type": "display_data"
    },
    {
     "data": {
      "text/html": [
       "Run data is saved locally in <code>/Users/yuriivoievidka/UCU/CV/cv-project/src/experiments/wandb/run-20250223_160031-do5fhng0</code>"
      ],
      "text/plain": [
       "<IPython.core.display.HTML object>"
      ]
     },
     "metadata": {},
     "output_type": "display_data"
    },
    {
     "data": {
      "text/html": [
       "Syncing run <strong><a href='https://wandb.ai/urik-voevidka-ukrainian-catholic-university/ui-classification-experiments/runs/do5fhng0' target=\"_blank\">woven-sweep-25</a></strong> to <a href='https://wandb.ai/urik-voevidka-ukrainian-catholic-university/ui-classification-experiments' target=\"_blank\">Weights & Biases</a> (<a href='https://wandb.me/developer-guide' target=\"_blank\">docs</a>)<br>Sweep page: <a href='https://wandb.ai/urik-voevidka-ukrainian-catholic-university/ui-classification-experiments/sweeps/fjdy11wf' target=\"_blank\">https://wandb.ai/urik-voevidka-ukrainian-catholic-university/ui-classification-experiments/sweeps/fjdy11wf</a>"
      ],
      "text/plain": [
       "<IPython.core.display.HTML object>"
      ]
     },
     "metadata": {},
     "output_type": "display_data"
    },
    {
     "data": {
      "text/html": [
       " View project at <a href='https://wandb.ai/urik-voevidka-ukrainian-catholic-university/ui-classification-experiments' target=\"_blank\">https://wandb.ai/urik-voevidka-ukrainian-catholic-university/ui-classification-experiments</a>"
      ],
      "text/plain": [
       "<IPython.core.display.HTML object>"
      ]
     },
     "metadata": {},
     "output_type": "display_data"
    },
    {
     "data": {
      "text/html": [
       " View sweep at <a href='https://wandb.ai/urik-voevidka-ukrainian-catholic-university/ui-classification-experiments/sweeps/fjdy11wf' target=\"_blank\">https://wandb.ai/urik-voevidka-ukrainian-catholic-university/ui-classification-experiments/sweeps/fjdy11wf</a>"
      ],
      "text/plain": [
       "<IPython.core.display.HTML object>"
      ]
     },
     "metadata": {},
     "output_type": "display_data"
    },
    {
     "data": {
      "text/html": [
       " View run at <a href='https://wandb.ai/urik-voevidka-ukrainian-catholic-university/ui-classification-experiments/runs/do5fhng0' target=\"_blank\">https://wandb.ai/urik-voevidka-ukrainian-catholic-university/ui-classification-experiments/runs/do5fhng0</a>"
      ],
      "text/plain": [
       "<IPython.core.display.HTML object>"
      ]
     },
     "metadata": {},
     "output_type": "display_data"
    },
    {
     "name": "stderr",
     "output_type": "stream",
     "text": [
      "[16:00:32] WARNING: /Users/runner/work/xgboost/xgboost/src/learner.cc:740: \n",
      "Parameters: { \"max_depth\", \"subsample\" } are not used.\n",
      "\n"
     ]
    },
    {
     "data": {
      "text/html": [],
      "text/plain": [
       "<IPython.core.display.HTML object>"
      ]
     },
     "metadata": {},
     "output_type": "display_data"
    },
    {
     "data": {
      "text/html": [
       "<br>    <style><br>        .wandb-row {<br>            display: flex;<br>            flex-direction: row;<br>            flex-wrap: wrap;<br>            justify-content: flex-start;<br>            width: 100%;<br>        }<br>        .wandb-col {<br>            display: flex;<br>            flex-direction: column;<br>            flex-basis: 100%;<br>            flex: 1;<br>            padding: 10px;<br>        }<br>    </style><br><div class=\"wandb-row\"><div class=\"wandb-col\"><h3>Run history:</h3><br/><table class=\"wandb\"><tr><td>accuracy</td><td>▁</td></tr><tr><td>f1_score</td><td>▁</td></tr><tr><td>precision</td><td>▁</td></tr><tr><td>recall</td><td>▁</td></tr></table><br/></div><div class=\"wandb-col\"><h3>Run summary:</h3><br/><table class=\"wandb\"><tr><td>accuracy</td><td>0.84659</td></tr><tr><td>f1_score</td><td>0.8474</td></tr><tr><td>precision</td><td>0.84967</td></tr><tr><td>recall</td><td>0.84659</td></tr></table><br/></div></div>"
      ],
      "text/plain": [
       "<IPython.core.display.HTML object>"
      ]
     },
     "metadata": {},
     "output_type": "display_data"
    },
    {
     "data": {
      "text/html": [
       " View run <strong style=\"color:#cdcd00\">woven-sweep-25</strong> at: <a href='https://wandb.ai/urik-voevidka-ukrainian-catholic-university/ui-classification-experiments/runs/do5fhng0' target=\"_blank\">https://wandb.ai/urik-voevidka-ukrainian-catholic-university/ui-classification-experiments/runs/do5fhng0</a><br> View project at: <a href='https://wandb.ai/urik-voevidka-ukrainian-catholic-university/ui-classification-experiments' target=\"_blank\">https://wandb.ai/urik-voevidka-ukrainian-catholic-university/ui-classification-experiments</a><br>Synced 5 W&B file(s), 0 media file(s), 0 artifact file(s) and 0 other file(s)"
      ],
      "text/plain": [
       "<IPython.core.display.HTML object>"
      ]
     },
     "metadata": {},
     "output_type": "display_data"
    },
    {
     "data": {
      "text/html": [
       "Find logs at: <code>./wandb/run-20250223_160031-do5fhng0/logs</code>"
      ],
      "text/plain": [
       "<IPython.core.display.HTML object>"
      ]
     },
     "metadata": {},
     "output_type": "display_data"
    }
   ],
   "source": [
    "wandb.agent(sweep_id, train, count=25)"
   ]
  },
  {
   "cell_type": "code",
   "execution_count": null,
   "metadata": {},
   "outputs": [],
   "source": []
  }
 ],
 "metadata": {
  "kernelspec": {
   "display_name": "torch",
   "language": "python",
   "name": "python3"
  },
  "language_info": {
   "codemirror_mode": {
    "name": "ipython",
    "version": 3
   },
   "file_extension": ".py",
   "mimetype": "text/x-python",
   "name": "python",
   "nbconvert_exporter": "python",
   "pygments_lexer": "ipython3",
   "version": "3.12.7"
  }
 },
 "nbformat": 4,
 "nbformat_minor": 2
}
