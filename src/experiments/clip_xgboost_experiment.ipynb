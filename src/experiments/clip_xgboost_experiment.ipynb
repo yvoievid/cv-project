{
 "cells": [
  {
   "cell_type": "markdown",
   "metadata": {},
   "source": [
    "# CLIP as feature extractor + XGBoost classification\n",
    "\n",
    "\n"
   ]
  },
  {
   "cell_type": "markdown",
   "metadata": {},
   "source": [
    "CLIP encoder has very strong feature extraction capabilities. In pair with XGBoost it is fast and effective way to classify small datasets.\n",
    " "
   ]
  },
  {
   "cell_type": "code",
   "execution_count": 1,
   "metadata": {},
   "outputs": [],
   "source": [
    "from torchvision import transforms\n",
    "import numpy as np\n",
    "import os\n",
    "import sys\n",
    "sys.path.append(os.path.abspath(\"..\"))  \n",
    "from models.ui_dataset import UIDataset\n",
    "from torch.utils.data import random_split, DataLoader\n",
    "import torch\n",
    "import wandb\n",
    "import xgboost as xgb\n",
    "from sklearn.model_selection import train_test_split\n",
    "from sklearn.metrics import accuracy_score, classification_report, f1_score, recall_score, precision_score\n",
    "from wandb.integration.xgboost import WandbCallback\n",
    "import torch\n",
    "import os\n",
    "from torch.utils.data import Dataset, DataLoader, random_split\n",
    "from transformers import CLIPModel, CLIPFeatureExtractor\n",
    "from PIL import Image\n",
    "from tqdm import tqdm"
   ]
  },
  {
   "cell_type": "code",
   "execution_count": 2,
   "metadata": {},
   "outputs": [
    {
     "name": "stderr",
     "output_type": "stream",
     "text": [
      "\u001b[34m\u001b[1mwandb\u001b[0m: Using wandb-core as the SDK backend.  Please refer to https://wandb.me/wandb-core for more information.\n",
      "\u001b[34m\u001b[1mwandb\u001b[0m: Currently logged in as: \u001b[33murik-voevidka\u001b[0m (\u001b[33murik-voevidka-ukrainian-catholic-university\u001b[0m) to \u001b[32mhttps://api.wandb.ai\u001b[0m. Use \u001b[1m`wandb login --relogin`\u001b[0m to force relogin\n"
     ]
    },
    {
     "data": {
      "text/plain": [
       "True"
      ]
     },
     "execution_count": 2,
     "metadata": {},
     "output_type": "execute_result"
    }
   ],
   "source": [
    "wandb.login()"
   ]
  },
  {
   "cell_type": "code",
   "execution_count": 3,
   "metadata": {},
   "outputs": [],
   "source": [
    "dataset_path = \"/Users/yuriivoievidka/UCU/CV/cv-project/data\""
   ]
  },
  {
   "cell_type": "code",
   "execution_count": 4,
   "metadata": {},
   "outputs": [
    {
     "name": "stderr",
     "output_type": "stream",
     "text": [
      "/Users/yuriivoievidka/.pyenv/versions/3.12.7/envs/torch/lib/python3.12/site-packages/transformers/models/clip/feature_extraction_clip.py:28: FutureWarning: The class CLIPFeatureExtractor is deprecated and will be removed in version 5 of Transformers. Please use CLIPImageProcessor instead.\n",
      "  warnings.warn(\n"
     ]
    }
   ],
   "source": [
    "device = \"cuda\" if torch.cuda.is_available() else \"mps\" if torch.backends.mps.is_available() else \"cpu\"\n",
    "model_id = \"openai/clip-vit-base-patch32\"\n",
    "clip_model = CLIPModel.from_pretrained(model_id).to(device)\n",
    "feature_extractor = CLIPFeatureExtractor.from_pretrained(model_id)  "
   ]
  },
  {
   "cell_type": "code",
   "execution_count": 5,
   "metadata": {},
   "outputs": [],
   "source": [
    "class UIDataset(Dataset):\n",
    "    def __init__(self, root_dir, feature_extractor=None):\n",
    "        self.root_dir = root_dir\n",
    "        self.feature_extractor = feature_extractor\n",
    "        self.image_paths = []\n",
    "\n",
    "        for label in os.listdir(self.root_dir):\n",
    "            subdir_path = os.path.join(self.root_dir, label)\n",
    "            if os.path.isdir(subdir_path):\n",
    "                for filename in os.listdir(subdir_path):\n",
    "                    if filename.lower().endswith(('.png', '.jpg', '.jpeg', '.bmp', '.gif', '.tiff', '.webp')):\n",
    "                        file_path = os.path.join(subdir_path, filename)\n",
    "                        self.image_paths.append((file_path, label))  # Store (image path, label)\n",
    "\n",
    "    def __len__(self):\n",
    "        return len(self.image_paths)\n",
    "\n",
    "    def __getitem__(self, index):\n",
    "        file_path, label = self.image_paths[index]\n",
    "\n",
    "        image = Image.open(file_path).convert(\"RGB\")  \n",
    "        \n",
    "        if self.feature_extractor:\n",
    "            image = self.feature_extractor(images=image, return_tensors=\"pt\")[\"pixel_values\"].squeeze(0)\n",
    "\n",
    "        return image, label\n"
   ]
  },
  {
   "cell_type": "code",
   "execution_count": 6,
   "metadata": {},
   "outputs": [],
   "source": [
    "dataset_path = \"/Users/yuriivoievidka/UCU/CV/cv-project/data\"\n",
    "ui_dataset_all = UIDataset(root_dir=dataset_path, feature_extractor=feature_extractor)\n",
    "\n",
    "ui_train_size = int(len(ui_dataset_all) * 0.6)\n",
    "ui_val_size = int(len(ui_dataset_all) * 0.2)\n",
    "ui_test_size = len(ui_dataset_all) - ui_train_size - ui_val_size\n",
    "train_dataset, val_dataset, test_dataset = random_split(ui_dataset_all, [ui_train_size, ui_val_size, ui_test_size])\n",
    "\n",
    "ui_dataset_all_dataloader = DataLoader(ui_dataset_all, batch_size=32, shuffle=True)\n"
   ]
  },
  {
   "cell_type": "code",
   "execution_count": 7,
   "metadata": {},
   "outputs": [
    {
     "name": "stderr",
     "output_type": "stream",
     "text": [
      " 12%|█▏        | 16/130 [00:16<01:59,  1.05s/it]/Users/yuriivoievidka/.pyenv/versions/3.12.7/envs/torch/lib/python3.12/site-packages/PIL/Image.py:1054: UserWarning: Palette images with Transparency expressed in bytes should be converted to RGBA images\n",
      "  warnings.warn(\n",
      "100%|██████████| 130/130 [02:13<00:00,  1.03s/it]"
     ]
    },
    {
     "name": "stdout",
     "output_type": "stream",
     "text": [
      "Embeddings shape: torch.Size([4149, 512])\n"
     ]
    },
    {
     "name": "stderr",
     "output_type": "stream",
     "text": [
      "\n"
     ]
    }
   ],
   "source": [
    "with torch.no_grad():\n",
    "    all_embeddings = []\n",
    "    for batch in tqdm(ui_dataset_all_dataloader):\n",
    "        images, labels = batch\n",
    "        images = images.to(device)\n",
    "\n",
    "        embeddings = clip_model.get_image_features(images)\n",
    "\n",
    "        embeddings /= embeddings.norm(dim=-1, keepdim=True)\n",
    "\n",
    "        all_embeddings.append(embeddings.cpu())\n",
    "\n",
    "    all_embeddings = torch.cat(all_embeddings, dim=0)\n",
    "\n",
    "print(\"Embeddings shape:\", all_embeddings.shape)"
   ]
  },
  {
   "cell_type": "code",
   "execution_count": 9,
   "metadata": {},
   "outputs": [],
   "source": [
    "all_embeddings_np = all_embeddings.numpy()\n",
    "\n",
    "label_to_index = {label: idx for idx, label in enumerate(set(label for _, label in ui_dataset_all.image_paths))}\n",
    "all_labels_np = np.array([label_to_index[label] for _, label in ui_dataset_all.image_paths])\n",
    "\n",
    "np.save(\"clip_embeddings.npy\", all_embeddings_np)\n",
    "np.save(\"clip_labels.npy\", all_labels_np)"
   ]
  },
  {
   "cell_type": "code",
   "execution_count": 10,
   "metadata": {},
   "outputs": [],
   "source": [
    "!export WANDB_API_KEY=\"7e54b169f751025afccd3ef14aacaf584f797cb1\""
   ]
  },
  {
   "cell_type": "code",
   "execution_count": 8,
   "metadata": {},
   "outputs": [],
   "source": [
    "embeddings = np.load(\"clip_embeddings.npy\")  \n",
    "labels = np.load(\"clip_labels.npy\")  \n",
    "\n",
    "X_train, X_test, y_train, y_test = train_test_split(embeddings, labels, test_size=0.3, random_state=42)"
   ]
  },
  {
   "cell_type": "code",
   "execution_count": 9,
   "metadata": {},
   "outputs": [],
   "source": [
    "sweep_config = {\n",
    "    \"method\": \"random\", \n",
    "    \"metric\": {\n",
    "      \"name\": \"accuracy\",\n",
    "      \"goal\": \"maximize\"   \n",
    "    },\n",
    "    \"parameters\": {\n",
    "        \"booster\": {\n",
    "            \"values\": [\"gbtree\",\"gblinear\"]\n",
    "        },\n",
    "        \"max_depth\": {\n",
    "            \"values\": [3, 6, 9, 12]\n",
    "        },\n",
    "        \"learning_rate\": {\n",
    "            \"values\": [0.1, 0.05, 0.2]\n",
    "        },\n",
    "        \"subsample\": {\n",
    "            \"values\": [1, 0.5, 0.3]\n",
    "        }\n",
    "    }\n",
    "}"
   ]
  },
  {
   "cell_type": "code",
   "execution_count": 10,
   "metadata": {},
   "outputs": [
    {
     "name": "stdout",
     "output_type": "stream",
     "text": [
      "Create sweep with ID: 9rkuh7kp\n",
      "Sweep URL: https://wandb.ai/urik-voevidka-ukrainian-catholic-university/ui-classification-experiments/sweeps/9rkuh7kp\n"
     ]
    }
   ],
   "source": [
    "sweep_id = wandb.sweep(sweep_config, project=\"ui-classification-experiments\")"
   ]
  },
  {
   "cell_type": "code",
   "execution_count": 11,
   "metadata": {},
   "outputs": [],
   "source": [
    "def train():\n",
    "  config={\n",
    "        \"learning_rate\": 0.02,\n",
    "        \"architecture\": \"XGBoost\",\n",
    "        \"dataset\": \"DesktopUI\",\n",
    "        \"epochs\": 100,\n",
    "        \"model\": \"XGBoost\",\n",
    "        \"test_size\": 0.3,\n",
    "        \"random_state\": 42\n",
    "    }\n",
    "\n",
    "  wandb.init(config=config)  # defaults are over-ridden during the sweep\n",
    "  config = wandb.config\n",
    "\n",
    "  model = xgb.XGBClassifier(objective=\"multi:softmax\", booster=config.booster, max_depth=config.max_depth,\n",
    "                        learning_rate=config.learning_rate, subsample=config.subsample)\n",
    "  model.fit(X_train, y_train)\n",
    "\n",
    "  y_pred = model.predict(X_test)\n",
    "  predictions = [round(value) for value in y_pred]\n",
    "\n",
    "  accuracy = accuracy_score(y_test, predictions)\n",
    "  \n",
    "  f1 = f1_score(y_test, predictions, average=\"weighted\")\n",
    "  recall = recall_score(y_test, predictions, average=\"weighted\")\n",
    "  precision = precision_score(y_test, predictions, average=\"weighted\")\n",
    "\n",
    "  wandb.log({\n",
    "      \"accuracy\": accuracy,\n",
    "      \"f1_score\": f1,\n",
    "      \"recall\": recall, \n",
    "      \"precision\": precision,\n",
    "      \"classification_report\": classification_report(y_test, predictions, output_dict=True)\n",
    "  })\n",
    "  "
   ]
  },
  {
   "cell_type": "code",
   "execution_count": 12,
   "metadata": {},
   "outputs": [
    {
     "name": "stderr",
     "output_type": "stream",
     "text": [
      "\u001b[34m\u001b[1mwandb\u001b[0m: Agent Starting Run: bxw5a2ia with config:\n",
      "\u001b[34m\u001b[1mwandb\u001b[0m: \tbooster: gblinear\n",
      "\u001b[34m\u001b[1mwandb\u001b[0m: \tlearning_rate: 0.05\n",
      "\u001b[34m\u001b[1mwandb\u001b[0m: \tmax_depth: 9\n",
      "\u001b[34m\u001b[1mwandb\u001b[0m: \tsubsample: 0.3\n"
     ]
    },
    {
     "data": {
      "text/html": [
       "Tracking run with wandb version 0.19.7"
      ],
      "text/plain": [
       "<IPython.core.display.HTML object>"
      ]
     },
     "metadata": {},
     "output_type": "display_data"
    },
    {
     "data": {
      "text/html": [
       "Run data is saved locally in <code>/Users/yuriivoievidka/UCU/CV/cv-project/src/experiments/wandb/run-20250223_152536-bxw5a2ia</code>"
      ],
      "text/plain": [
       "<IPython.core.display.HTML object>"
      ]
     },
     "metadata": {},
     "output_type": "display_data"
    },
    {
     "data": {
      "text/html": [
       "Syncing run <strong><a href='https://wandb.ai/urik-voevidka-ukrainian-catholic-university/ui-classification-experiments/runs/bxw5a2ia' target=\"_blank\">devout-sweep-1</a></strong> to <a href='https://wandb.ai/urik-voevidka-ukrainian-catholic-university/ui-classification-experiments' target=\"_blank\">Weights & Biases</a> (<a href='https://wandb.me/developer-guide' target=\"_blank\">docs</a>)<br>Sweep page: <a href='https://wandb.ai/urik-voevidka-ukrainian-catholic-university/ui-classification-experiments/sweeps/9rkuh7kp' target=\"_blank\">https://wandb.ai/urik-voevidka-ukrainian-catholic-university/ui-classification-experiments/sweeps/9rkuh7kp</a>"
      ],
      "text/plain": [
       "<IPython.core.display.HTML object>"
      ]
     },
     "metadata": {},
     "output_type": "display_data"
    },
    {
     "data": {
      "text/html": [
       " View project at <a href='https://wandb.ai/urik-voevidka-ukrainian-catholic-university/ui-classification-experiments' target=\"_blank\">https://wandb.ai/urik-voevidka-ukrainian-catholic-university/ui-classification-experiments</a>"
      ],
      "text/plain": [
       "<IPython.core.display.HTML object>"
      ]
     },
     "metadata": {},
     "output_type": "display_data"
    },
    {
     "data": {
      "text/html": [
       " View sweep at <a href='https://wandb.ai/urik-voevidka-ukrainian-catholic-university/ui-classification-experiments/sweeps/9rkuh7kp' target=\"_blank\">https://wandb.ai/urik-voevidka-ukrainian-catholic-university/ui-classification-experiments/sweeps/9rkuh7kp</a>"
      ],
      "text/plain": [
       "<IPython.core.display.HTML object>"
      ]
     },
     "metadata": {},
     "output_type": "display_data"
    },
    {
     "data": {
      "text/html": [
       " View run at <a href='https://wandb.ai/urik-voevidka-ukrainian-catholic-university/ui-classification-experiments/runs/bxw5a2ia' target=\"_blank\">https://wandb.ai/urik-voevidka-ukrainian-catholic-university/ui-classification-experiments/runs/bxw5a2ia</a>"
      ],
      "text/plain": [
       "<IPython.core.display.HTML object>"
      ]
     },
     "metadata": {},
     "output_type": "display_data"
    },
    {
     "name": "stderr",
     "output_type": "stream",
     "text": [
      "[15:25:37] WARNING: /Users/runner/work/xgboost/xgboost/src/learner.cc:740: \n",
      "Parameters: { \"max_depth\", \"subsample\" } are not used.\n",
      "\n"
     ]
    },
    {
     "data": {
      "text/html": [],
      "text/plain": [
       "<IPython.core.display.HTML object>"
      ]
     },
     "metadata": {},
     "output_type": "display_data"
    },
    {
     "data": {
      "text/html": [
       "<br>    <style><br>        .wandb-row {<br>            display: flex;<br>            flex-direction: row;<br>            flex-wrap: wrap;<br>            justify-content: flex-start;<br>            width: 100%;<br>        }<br>        .wandb-col {<br>            display: flex;<br>            flex-direction: column;<br>            flex-basis: 100%;<br>            flex: 1;<br>            padding: 10px;<br>        }<br>    </style><br><div class=\"wandb-row\"><div class=\"wandb-col\"><h3>Run history:</h3><br/><table class=\"wandb\"><tr><td>accuracy</td><td>▁</td></tr><tr><td>f1_score</td><td>▁</td></tr><tr><td>precision</td><td>▁</td></tr><tr><td>recall</td><td>▁</td></tr></table><br/></div><div class=\"wandb-col\"><h3>Run summary:</h3><br/><table class=\"wandb\"><tr><td>accuracy</td><td>0.44096</td></tr><tr><td>f1_score</td><td>0.42114</td></tr><tr><td>precision</td><td>0.41561</td></tr><tr><td>recall</td><td>0.44096</td></tr></table><br/></div></div>"
      ],
      "text/plain": [
       "<IPython.core.display.HTML object>"
      ]
     },
     "metadata": {},
     "output_type": "display_data"
    },
    {
     "data": {
      "text/html": [
       " View run <strong style=\"color:#cdcd00\">devout-sweep-1</strong> at: <a href='https://wandb.ai/urik-voevidka-ukrainian-catholic-university/ui-classification-experiments/runs/bxw5a2ia' target=\"_blank\">https://wandb.ai/urik-voevidka-ukrainian-catholic-university/ui-classification-experiments/runs/bxw5a2ia</a><br> View project at: <a href='https://wandb.ai/urik-voevidka-ukrainian-catholic-university/ui-classification-experiments' target=\"_blank\">https://wandb.ai/urik-voevidka-ukrainian-catholic-university/ui-classification-experiments</a><br>Synced 5 W&B file(s), 0 media file(s), 0 artifact file(s) and 0 other file(s)"
      ],
      "text/plain": [
       "<IPython.core.display.HTML object>"
      ]
     },
     "metadata": {},
     "output_type": "display_data"
    },
    {
     "data": {
      "text/html": [
       "Find logs at: <code>./wandb/run-20250223_152536-bxw5a2ia/logs</code>"
      ],
      "text/plain": [
       "<IPython.core.display.HTML object>"
      ]
     },
     "metadata": {},
     "output_type": "display_data"
    },
    {
     "name": "stderr",
     "output_type": "stream",
     "text": [
      "\u001b[34m\u001b[1mwandb\u001b[0m: Agent Starting Run: py7hh5nn with config:\n",
      "\u001b[34m\u001b[1mwandb\u001b[0m: \tbooster: gblinear\n",
      "\u001b[34m\u001b[1mwandb\u001b[0m: \tlearning_rate: 0.05\n",
      "\u001b[34m\u001b[1mwandb\u001b[0m: \tmax_depth: 9\n",
      "\u001b[34m\u001b[1mwandb\u001b[0m: \tsubsample: 0.3\n"
     ]
    },
    {
     "data": {
      "text/html": [
       "Tracking run with wandb version 0.19.7"
      ],
      "text/plain": [
       "<IPython.core.display.HTML object>"
      ]
     },
     "metadata": {},
     "output_type": "display_data"
    },
    {
     "data": {
      "text/html": [
       "Run data is saved locally in <code>/Users/yuriivoievidka/UCU/CV/cv-project/src/experiments/wandb/run-20250223_152541-py7hh5nn</code>"
      ],
      "text/plain": [
       "<IPython.core.display.HTML object>"
      ]
     },
     "metadata": {},
     "output_type": "display_data"
    },
    {
     "data": {
      "text/html": [
       "Syncing run <strong><a href='https://wandb.ai/urik-voevidka-ukrainian-catholic-university/ui-classification-experiments/runs/py7hh5nn' target=\"_blank\">efficient-sweep-2</a></strong> to <a href='https://wandb.ai/urik-voevidka-ukrainian-catholic-university/ui-classification-experiments' target=\"_blank\">Weights & Biases</a> (<a href='https://wandb.me/developer-guide' target=\"_blank\">docs</a>)<br>Sweep page: <a href='https://wandb.ai/urik-voevidka-ukrainian-catholic-university/ui-classification-experiments/sweeps/9rkuh7kp' target=\"_blank\">https://wandb.ai/urik-voevidka-ukrainian-catholic-university/ui-classification-experiments/sweeps/9rkuh7kp</a>"
      ],
      "text/plain": [
       "<IPython.core.display.HTML object>"
      ]
     },
     "metadata": {},
     "output_type": "display_data"
    },
    {
     "data": {
      "text/html": [
       " View project at <a href='https://wandb.ai/urik-voevidka-ukrainian-catholic-university/ui-classification-experiments' target=\"_blank\">https://wandb.ai/urik-voevidka-ukrainian-catholic-university/ui-classification-experiments</a>"
      ],
      "text/plain": [
       "<IPython.core.display.HTML object>"
      ]
     },
     "metadata": {},
     "output_type": "display_data"
    },
    {
     "data": {
      "text/html": [
       " View sweep at <a href='https://wandb.ai/urik-voevidka-ukrainian-catholic-university/ui-classification-experiments/sweeps/9rkuh7kp' target=\"_blank\">https://wandb.ai/urik-voevidka-ukrainian-catholic-university/ui-classification-experiments/sweeps/9rkuh7kp</a>"
      ],
      "text/plain": [
       "<IPython.core.display.HTML object>"
      ]
     },
     "metadata": {},
     "output_type": "display_data"
    },
    {
     "data": {
      "text/html": [
       " View run at <a href='https://wandb.ai/urik-voevidka-ukrainian-catholic-university/ui-classification-experiments/runs/py7hh5nn' target=\"_blank\">https://wandb.ai/urik-voevidka-ukrainian-catholic-university/ui-classification-experiments/runs/py7hh5nn</a>"
      ],
      "text/plain": [
       "<IPython.core.display.HTML object>"
      ]
     },
     "metadata": {},
     "output_type": "display_data"
    },
    {
     "name": "stderr",
     "output_type": "stream",
     "text": [
      "[15:25:42] WARNING: /Users/runner/work/xgboost/xgboost/src/learner.cc:740: \n",
      "Parameters: { \"max_depth\", \"subsample\" } are not used.\n",
      "\n"
     ]
    },
    {
     "data": {
      "text/html": [],
      "text/plain": [
       "<IPython.core.display.HTML object>"
      ]
     },
     "metadata": {},
     "output_type": "display_data"
    },
    {
     "data": {
      "text/html": [
       "<br>    <style><br>        .wandb-row {<br>            display: flex;<br>            flex-direction: row;<br>            flex-wrap: wrap;<br>            justify-content: flex-start;<br>            width: 100%;<br>        }<br>        .wandb-col {<br>            display: flex;<br>            flex-direction: column;<br>            flex-basis: 100%;<br>            flex: 1;<br>            padding: 10px;<br>        }<br>    </style><br><div class=\"wandb-row\"><div class=\"wandb-col\"><h3>Run history:</h3><br/><table class=\"wandb\"><tr><td>accuracy</td><td>▁</td></tr><tr><td>f1_score</td><td>▁</td></tr><tr><td>precision</td><td>▁</td></tr><tr><td>recall</td><td>▁</td></tr></table><br/></div><div class=\"wandb-col\"><h3>Run summary:</h3><br/><table class=\"wandb\"><tr><td>accuracy</td><td>0.44177</td></tr><tr><td>f1_score</td><td>0.42187</td></tr><tr><td>precision</td><td>0.41637</td></tr><tr><td>recall</td><td>0.44177</td></tr></table><br/></div></div>"
      ],
      "text/plain": [
       "<IPython.core.display.HTML object>"
      ]
     },
     "metadata": {},
     "output_type": "display_data"
    },
    {
     "data": {
      "text/html": [
       " View run <strong style=\"color:#cdcd00\">efficient-sweep-2</strong> at: <a href='https://wandb.ai/urik-voevidka-ukrainian-catholic-university/ui-classification-experiments/runs/py7hh5nn' target=\"_blank\">https://wandb.ai/urik-voevidka-ukrainian-catholic-university/ui-classification-experiments/runs/py7hh5nn</a><br> View project at: <a href='https://wandb.ai/urik-voevidka-ukrainian-catholic-university/ui-classification-experiments' target=\"_blank\">https://wandb.ai/urik-voevidka-ukrainian-catholic-university/ui-classification-experiments</a><br>Synced 5 W&B file(s), 0 media file(s), 0 artifact file(s) and 0 other file(s)"
      ],
      "text/plain": [
       "<IPython.core.display.HTML object>"
      ]
     },
     "metadata": {},
     "output_type": "display_data"
    },
    {
     "data": {
      "text/html": [
       "Find logs at: <code>./wandb/run-20250223_152541-py7hh5nn/logs</code>"
      ],
      "text/plain": [
       "<IPython.core.display.HTML object>"
      ]
     },
     "metadata": {},
     "output_type": "display_data"
    },
    {
     "name": "stderr",
     "output_type": "stream",
     "text": [
      "\u001b[34m\u001b[1mwandb\u001b[0m: Agent Starting Run: o1bpfbnh with config:\n",
      "\u001b[34m\u001b[1mwandb\u001b[0m: \tbooster: gbtree\n",
      "\u001b[34m\u001b[1mwandb\u001b[0m: \tlearning_rate: 0.2\n",
      "\u001b[34m\u001b[1mwandb\u001b[0m: \tmax_depth: 3\n",
      "\u001b[34m\u001b[1mwandb\u001b[0m: \tsubsample: 0.5\n"
     ]
    },
    {
     "data": {
      "text/html": [
       "Tracking run with wandb version 0.19.7"
      ],
      "text/plain": [
       "<IPython.core.display.HTML object>"
      ]
     },
     "metadata": {},
     "output_type": "display_data"
    },
    {
     "data": {
      "text/html": [
       "Run data is saved locally in <code>/Users/yuriivoievidka/UCU/CV/cv-project/src/experiments/wandb/run-20250223_152547-o1bpfbnh</code>"
      ],
      "text/plain": [
       "<IPython.core.display.HTML object>"
      ]
     },
     "metadata": {},
     "output_type": "display_data"
    },
    {
     "data": {
      "text/html": [
       "Syncing run <strong><a href='https://wandb.ai/urik-voevidka-ukrainian-catholic-university/ui-classification-experiments/runs/o1bpfbnh' target=\"_blank\">youthful-sweep-3</a></strong> to <a href='https://wandb.ai/urik-voevidka-ukrainian-catholic-university/ui-classification-experiments' target=\"_blank\">Weights & Biases</a> (<a href='https://wandb.me/developer-guide' target=\"_blank\">docs</a>)<br>Sweep page: <a href='https://wandb.ai/urik-voevidka-ukrainian-catholic-university/ui-classification-experiments/sweeps/9rkuh7kp' target=\"_blank\">https://wandb.ai/urik-voevidka-ukrainian-catholic-university/ui-classification-experiments/sweeps/9rkuh7kp</a>"
      ],
      "text/plain": [
       "<IPython.core.display.HTML object>"
      ]
     },
     "metadata": {},
     "output_type": "display_data"
    },
    {
     "data": {
      "text/html": [
       " View project at <a href='https://wandb.ai/urik-voevidka-ukrainian-catholic-university/ui-classification-experiments' target=\"_blank\">https://wandb.ai/urik-voevidka-ukrainian-catholic-university/ui-classification-experiments</a>"
      ],
      "text/plain": [
       "<IPython.core.display.HTML object>"
      ]
     },
     "metadata": {},
     "output_type": "display_data"
    },
    {
     "data": {
      "text/html": [
       " View sweep at <a href='https://wandb.ai/urik-voevidka-ukrainian-catholic-university/ui-classification-experiments/sweeps/9rkuh7kp' target=\"_blank\">https://wandb.ai/urik-voevidka-ukrainian-catholic-university/ui-classification-experiments/sweeps/9rkuh7kp</a>"
      ],
      "text/plain": [
       "<IPython.core.display.HTML object>"
      ]
     },
     "metadata": {},
     "output_type": "display_data"
    },
    {
     "data": {
      "text/html": [
       " View run at <a href='https://wandb.ai/urik-voevidka-ukrainian-catholic-university/ui-classification-experiments/runs/o1bpfbnh' target=\"_blank\">https://wandb.ai/urik-voevidka-ukrainian-catholic-university/ui-classification-experiments/runs/o1bpfbnh</a>"
      ],
      "text/plain": [
       "<IPython.core.display.HTML object>"
      ]
     },
     "metadata": {},
     "output_type": "display_data"
    },
    {
     "data": {
      "text/html": [],
      "text/plain": [
       "<IPython.core.display.HTML object>"
      ]
     },
     "metadata": {},
     "output_type": "display_data"
    },
    {
     "data": {
      "text/html": [
       "<br>    <style><br>        .wandb-row {<br>            display: flex;<br>            flex-direction: row;<br>            flex-wrap: wrap;<br>            justify-content: flex-start;<br>            width: 100%;<br>        }<br>        .wandb-col {<br>            display: flex;<br>            flex-direction: column;<br>            flex-basis: 100%;<br>            flex: 1;<br>            padding: 10px;<br>        }<br>    </style><br><div class=\"wandb-row\"><div class=\"wandb-col\"><h3>Run history:</h3><br/><table class=\"wandb\"><tr><td>accuracy</td><td>▁</td></tr><tr><td>f1_score</td><td>▁</td></tr><tr><td>precision</td><td>▁</td></tr><tr><td>recall</td><td>▁</td></tr></table><br/></div><div class=\"wandb-col\"><h3>Run summary:</h3><br/><table class=\"wandb\"><tr><td>accuracy</td><td>0.42329</td></tr><tr><td>f1_score</td><td>0.40235</td></tr><tr><td>precision</td><td>0.39439</td></tr><tr><td>recall</td><td>0.42329</td></tr></table><br/></div></div>"
      ],
      "text/plain": [
       "<IPython.core.display.HTML object>"
      ]
     },
     "metadata": {},
     "output_type": "display_data"
    },
    {
     "data": {
      "text/html": [
       " View run <strong style=\"color:#cdcd00\">youthful-sweep-3</strong> at: <a href='https://wandb.ai/urik-voevidka-ukrainian-catholic-university/ui-classification-experiments/runs/o1bpfbnh' target=\"_blank\">https://wandb.ai/urik-voevidka-ukrainian-catholic-university/ui-classification-experiments/runs/o1bpfbnh</a><br> View project at: <a href='https://wandb.ai/urik-voevidka-ukrainian-catholic-university/ui-classification-experiments' target=\"_blank\">https://wandb.ai/urik-voevidka-ukrainian-catholic-university/ui-classification-experiments</a><br>Synced 5 W&B file(s), 0 media file(s), 0 artifact file(s) and 0 other file(s)"
      ],
      "text/plain": [
       "<IPython.core.display.HTML object>"
      ]
     },
     "metadata": {},
     "output_type": "display_data"
    },
    {
     "data": {
      "text/html": [
       "Find logs at: <code>./wandb/run-20250223_152547-o1bpfbnh/logs</code>"
      ],
      "text/plain": [
       "<IPython.core.display.HTML object>"
      ]
     },
     "metadata": {},
     "output_type": "display_data"
    },
    {
     "name": "stderr",
     "output_type": "stream",
     "text": [
      "\u001b[34m\u001b[1mwandb\u001b[0m: Agent Starting Run: yc9ds863 with config:\n",
      "\u001b[34m\u001b[1mwandb\u001b[0m: \tbooster: gblinear\n",
      "\u001b[34m\u001b[1mwandb\u001b[0m: \tlearning_rate: 0.1\n",
      "\u001b[34m\u001b[1mwandb\u001b[0m: \tmax_depth: 3\n",
      "\u001b[34m\u001b[1mwandb\u001b[0m: \tsubsample: 1\n"
     ]
    },
    {
     "data": {
      "text/html": [
       "Tracking run with wandb version 0.19.7"
      ],
      "text/plain": [
       "<IPython.core.display.HTML object>"
      ]
     },
     "metadata": {},
     "output_type": "display_data"
    },
    {
     "data": {
      "text/html": [
       "Run data is saved locally in <code>/Users/yuriivoievidka/UCU/CV/cv-project/src/experiments/wandb/run-20250223_152552-yc9ds863</code>"
      ],
      "text/plain": [
       "<IPython.core.display.HTML object>"
      ]
     },
     "metadata": {},
     "output_type": "display_data"
    },
    {
     "data": {
      "text/html": [
       "Syncing run <strong><a href='https://wandb.ai/urik-voevidka-ukrainian-catholic-university/ui-classification-experiments/runs/yc9ds863' target=\"_blank\">radiant-sweep-4</a></strong> to <a href='https://wandb.ai/urik-voevidka-ukrainian-catholic-university/ui-classification-experiments' target=\"_blank\">Weights & Biases</a> (<a href='https://wandb.me/developer-guide' target=\"_blank\">docs</a>)<br>Sweep page: <a href='https://wandb.ai/urik-voevidka-ukrainian-catholic-university/ui-classification-experiments/sweeps/9rkuh7kp' target=\"_blank\">https://wandb.ai/urik-voevidka-ukrainian-catholic-university/ui-classification-experiments/sweeps/9rkuh7kp</a>"
      ],
      "text/plain": [
       "<IPython.core.display.HTML object>"
      ]
     },
     "metadata": {},
     "output_type": "display_data"
    },
    {
     "data": {
      "text/html": [
       " View project at <a href='https://wandb.ai/urik-voevidka-ukrainian-catholic-university/ui-classification-experiments' target=\"_blank\">https://wandb.ai/urik-voevidka-ukrainian-catholic-university/ui-classification-experiments</a>"
      ],
      "text/plain": [
       "<IPython.core.display.HTML object>"
      ]
     },
     "metadata": {},
     "output_type": "display_data"
    },
    {
     "data": {
      "text/html": [
       " View sweep at <a href='https://wandb.ai/urik-voevidka-ukrainian-catholic-university/ui-classification-experiments/sweeps/9rkuh7kp' target=\"_blank\">https://wandb.ai/urik-voevidka-ukrainian-catholic-university/ui-classification-experiments/sweeps/9rkuh7kp</a>"
      ],
      "text/plain": [
       "<IPython.core.display.HTML object>"
      ]
     },
     "metadata": {},
     "output_type": "display_data"
    },
    {
     "data": {
      "text/html": [
       " View run at <a href='https://wandb.ai/urik-voevidka-ukrainian-catholic-university/ui-classification-experiments/runs/yc9ds863' target=\"_blank\">https://wandb.ai/urik-voevidka-ukrainian-catholic-university/ui-classification-experiments/runs/yc9ds863</a>"
      ],
      "text/plain": [
       "<IPython.core.display.HTML object>"
      ]
     },
     "metadata": {},
     "output_type": "display_data"
    },
    {
     "name": "stderr",
     "output_type": "stream",
     "text": [
      "[15:25:52] WARNING: /Users/runner/work/xgboost/xgboost/src/learner.cc:740: \n",
      "Parameters: { \"max_depth\", \"subsample\" } are not used.\n",
      "\n"
     ]
    },
    {
     "data": {
      "text/html": [],
      "text/plain": [
       "<IPython.core.display.HTML object>"
      ]
     },
     "metadata": {},
     "output_type": "display_data"
    },
    {
     "data": {
      "text/html": [
       "<br>    <style><br>        .wandb-row {<br>            display: flex;<br>            flex-direction: row;<br>            flex-wrap: wrap;<br>            justify-content: flex-start;<br>            width: 100%;<br>        }<br>        .wandb-col {<br>            display: flex;<br>            flex-direction: column;<br>            flex-basis: 100%;<br>            flex: 1;<br>            padding: 10px;<br>        }<br>    </style><br><div class=\"wandb-row\"><div class=\"wandb-col\"><h3>Run history:</h3><br/><table class=\"wandb\"><tr><td>accuracy</td><td>▁</td></tr><tr><td>f1_score</td><td>▁</td></tr><tr><td>precision</td><td>▁</td></tr><tr><td>recall</td><td>▁</td></tr></table><br/></div><div class=\"wandb-col\"><h3>Run summary:</h3><br/><table class=\"wandb\"><tr><td>accuracy</td><td>0.43213</td></tr><tr><td>f1_score</td><td>0.41846</td></tr><tr><td>precision</td><td>0.41194</td></tr><tr><td>recall</td><td>0.43213</td></tr></table><br/></div></div>"
      ],
      "text/plain": [
       "<IPython.core.display.HTML object>"
      ]
     },
     "metadata": {},
     "output_type": "display_data"
    },
    {
     "data": {
      "text/html": [
       " View run <strong style=\"color:#cdcd00\">radiant-sweep-4</strong> at: <a href='https://wandb.ai/urik-voevidka-ukrainian-catholic-university/ui-classification-experiments/runs/yc9ds863' target=\"_blank\">https://wandb.ai/urik-voevidka-ukrainian-catholic-university/ui-classification-experiments/runs/yc9ds863</a><br> View project at: <a href='https://wandb.ai/urik-voevidka-ukrainian-catholic-university/ui-classification-experiments' target=\"_blank\">https://wandb.ai/urik-voevidka-ukrainian-catholic-university/ui-classification-experiments</a><br>Synced 5 W&B file(s), 0 media file(s), 0 artifact file(s) and 0 other file(s)"
      ],
      "text/plain": [
       "<IPython.core.display.HTML object>"
      ]
     },
     "metadata": {},
     "output_type": "display_data"
    },
    {
     "data": {
      "text/html": [
       "Find logs at: <code>./wandb/run-20250223_152552-yc9ds863/logs</code>"
      ],
      "text/plain": [
       "<IPython.core.display.HTML object>"
      ]
     },
     "metadata": {},
     "output_type": "display_data"
    },
    {
     "name": "stderr",
     "output_type": "stream",
     "text": [
      "\u001b[34m\u001b[1mwandb\u001b[0m: Agent Starting Run: fz6mkht1 with config:\n",
      "\u001b[34m\u001b[1mwandb\u001b[0m: \tbooster: gbtree\n",
      "\u001b[34m\u001b[1mwandb\u001b[0m: \tlearning_rate: 0.05\n",
      "\u001b[34m\u001b[1mwandb\u001b[0m: \tmax_depth: 9\n",
      "\u001b[34m\u001b[1mwandb\u001b[0m: \tsubsample: 1\n"
     ]
    },
    {
     "data": {
      "text/html": [
       "Tracking run with wandb version 0.19.7"
      ],
      "text/plain": [
       "<IPython.core.display.HTML object>"
      ]
     },
     "metadata": {},
     "output_type": "display_data"
    },
    {
     "data": {
      "text/html": [
       "Run data is saved locally in <code>/Users/yuriivoievidka/UCU/CV/cv-project/src/experiments/wandb/run-20250223_152558-fz6mkht1</code>"
      ],
      "text/plain": [
       "<IPython.core.display.HTML object>"
      ]
     },
     "metadata": {},
     "output_type": "display_data"
    },
    {
     "data": {
      "text/html": [
       "Syncing run <strong><a href='https://wandb.ai/urik-voevidka-ukrainian-catholic-university/ui-classification-experiments/runs/fz6mkht1' target=\"_blank\">helpful-sweep-5</a></strong> to <a href='https://wandb.ai/urik-voevidka-ukrainian-catholic-university/ui-classification-experiments' target=\"_blank\">Weights & Biases</a> (<a href='https://wandb.me/developer-guide' target=\"_blank\">docs</a>)<br>Sweep page: <a href='https://wandb.ai/urik-voevidka-ukrainian-catholic-university/ui-classification-experiments/sweeps/9rkuh7kp' target=\"_blank\">https://wandb.ai/urik-voevidka-ukrainian-catholic-university/ui-classification-experiments/sweeps/9rkuh7kp</a>"
      ],
      "text/plain": [
       "<IPython.core.display.HTML object>"
      ]
     },
     "metadata": {},
     "output_type": "display_data"
    },
    {
     "data": {
      "text/html": [
       " View project at <a href='https://wandb.ai/urik-voevidka-ukrainian-catholic-university/ui-classification-experiments' target=\"_blank\">https://wandb.ai/urik-voevidka-ukrainian-catholic-university/ui-classification-experiments</a>"
      ],
      "text/plain": [
       "<IPython.core.display.HTML object>"
      ]
     },
     "metadata": {},
     "output_type": "display_data"
    },
    {
     "data": {
      "text/html": [
       " View sweep at <a href='https://wandb.ai/urik-voevidka-ukrainian-catholic-university/ui-classification-experiments/sweeps/9rkuh7kp' target=\"_blank\">https://wandb.ai/urik-voevidka-ukrainian-catholic-university/ui-classification-experiments/sweeps/9rkuh7kp</a>"
      ],
      "text/plain": [
       "<IPython.core.display.HTML object>"
      ]
     },
     "metadata": {},
     "output_type": "display_data"
    },
    {
     "data": {
      "text/html": [
       " View run at <a href='https://wandb.ai/urik-voevidka-ukrainian-catholic-university/ui-classification-experiments/runs/fz6mkht1' target=\"_blank\">https://wandb.ai/urik-voevidka-ukrainian-catholic-university/ui-classification-experiments/runs/fz6mkht1</a>"
      ],
      "text/plain": [
       "<IPython.core.display.HTML object>"
      ]
     },
     "metadata": {},
     "output_type": "display_data"
    },
    {
     "data": {
      "text/html": [],
      "text/plain": [
       "<IPython.core.display.HTML object>"
      ]
     },
     "metadata": {},
     "output_type": "display_data"
    },
    {
     "data": {
      "text/html": [
       "<br>    <style><br>        .wandb-row {<br>            display: flex;<br>            flex-direction: row;<br>            flex-wrap: wrap;<br>            justify-content: flex-start;<br>            width: 100%;<br>        }<br>        .wandb-col {<br>            display: flex;<br>            flex-direction: column;<br>            flex-basis: 100%;<br>            flex: 1;<br>            padding: 10px;<br>        }<br>    </style><br><div class=\"wandb-row\"><div class=\"wandb-col\"><h3>Run history:</h3><br/><table class=\"wandb\"><tr><td>accuracy</td><td>▁</td></tr><tr><td>f1_score</td><td>▁</td></tr><tr><td>precision</td><td>▁</td></tr><tr><td>recall</td><td>▁</td></tr></table><br/></div><div class=\"wandb-col\"><h3>Run summary:</h3><br/><table class=\"wandb\"><tr><td>accuracy</td><td>0.44337</td></tr><tr><td>f1_score</td><td>0.41909</td></tr><tr><td>precision</td><td>0.41588</td></tr><tr><td>recall</td><td>0.44337</td></tr></table><br/></div></div>"
      ],
      "text/plain": [
       "<IPython.core.display.HTML object>"
      ]
     },
     "metadata": {},
     "output_type": "display_data"
    },
    {
     "data": {
      "text/html": [
       " View run <strong style=\"color:#cdcd00\">helpful-sweep-5</strong> at: <a href='https://wandb.ai/urik-voevidka-ukrainian-catholic-university/ui-classification-experiments/runs/fz6mkht1' target=\"_blank\">https://wandb.ai/urik-voevidka-ukrainian-catholic-university/ui-classification-experiments/runs/fz6mkht1</a><br> View project at: <a href='https://wandb.ai/urik-voevidka-ukrainian-catholic-university/ui-classification-experiments' target=\"_blank\">https://wandb.ai/urik-voevidka-ukrainian-catholic-university/ui-classification-experiments</a><br>Synced 5 W&B file(s), 0 media file(s), 0 artifact file(s) and 0 other file(s)"
      ],
      "text/plain": [
       "<IPython.core.display.HTML object>"
      ]
     },
     "metadata": {},
     "output_type": "display_data"
    },
    {
     "data": {
      "text/html": [
       "Find logs at: <code>./wandb/run-20250223_152558-fz6mkht1/logs</code>"
      ],
      "text/plain": [
       "<IPython.core.display.HTML object>"
      ]
     },
     "metadata": {},
     "output_type": "display_data"
    },
    {
     "name": "stderr",
     "output_type": "stream",
     "text": [
      "\u001b[34m\u001b[1mwandb\u001b[0m: Agent Starting Run: 3snz0ssy with config:\n",
      "\u001b[34m\u001b[1mwandb\u001b[0m: \tbooster: gblinear\n",
      "\u001b[34m\u001b[1mwandb\u001b[0m: \tlearning_rate: 0.05\n",
      "\u001b[34m\u001b[1mwandb\u001b[0m: \tmax_depth: 12\n",
      "\u001b[34m\u001b[1mwandb\u001b[0m: \tsubsample: 1\n"
     ]
    },
    {
     "data": {
      "text/html": [
       "Tracking run with wandb version 0.19.7"
      ],
      "text/plain": [
       "<IPython.core.display.HTML object>"
      ]
     },
     "metadata": {},
     "output_type": "display_data"
    },
    {
     "data": {
      "text/html": [
       "Run data is saved locally in <code>/Users/yuriivoievidka/UCU/CV/cv-project/src/experiments/wandb/run-20250223_152613-3snz0ssy</code>"
      ],
      "text/plain": [
       "<IPython.core.display.HTML object>"
      ]
     },
     "metadata": {},
     "output_type": "display_data"
    },
    {
     "data": {
      "text/html": [
       "Syncing run <strong><a href='https://wandb.ai/urik-voevidka-ukrainian-catholic-university/ui-classification-experiments/runs/3snz0ssy' target=\"_blank\">swift-sweep-6</a></strong> to <a href='https://wandb.ai/urik-voevidka-ukrainian-catholic-university/ui-classification-experiments' target=\"_blank\">Weights & Biases</a> (<a href='https://wandb.me/developer-guide' target=\"_blank\">docs</a>)<br>Sweep page: <a href='https://wandb.ai/urik-voevidka-ukrainian-catholic-university/ui-classification-experiments/sweeps/9rkuh7kp' target=\"_blank\">https://wandb.ai/urik-voevidka-ukrainian-catholic-university/ui-classification-experiments/sweeps/9rkuh7kp</a>"
      ],
      "text/plain": [
       "<IPython.core.display.HTML object>"
      ]
     },
     "metadata": {},
     "output_type": "display_data"
    },
    {
     "data": {
      "text/html": [
       " View project at <a href='https://wandb.ai/urik-voevidka-ukrainian-catholic-university/ui-classification-experiments' target=\"_blank\">https://wandb.ai/urik-voevidka-ukrainian-catholic-university/ui-classification-experiments</a>"
      ],
      "text/plain": [
       "<IPython.core.display.HTML object>"
      ]
     },
     "metadata": {},
     "output_type": "display_data"
    },
    {
     "data": {
      "text/html": [
       " View sweep at <a href='https://wandb.ai/urik-voevidka-ukrainian-catholic-university/ui-classification-experiments/sweeps/9rkuh7kp' target=\"_blank\">https://wandb.ai/urik-voevidka-ukrainian-catholic-university/ui-classification-experiments/sweeps/9rkuh7kp</a>"
      ],
      "text/plain": [
       "<IPython.core.display.HTML object>"
      ]
     },
     "metadata": {},
     "output_type": "display_data"
    },
    {
     "data": {
      "text/html": [
       " View run at <a href='https://wandb.ai/urik-voevidka-ukrainian-catholic-university/ui-classification-experiments/runs/3snz0ssy' target=\"_blank\">https://wandb.ai/urik-voevidka-ukrainian-catholic-university/ui-classification-experiments/runs/3snz0ssy</a>"
      ],
      "text/plain": [
       "<IPython.core.display.HTML object>"
      ]
     },
     "metadata": {},
     "output_type": "display_data"
    },
    {
     "name": "stderr",
     "output_type": "stream",
     "text": [
      "[15:26:13] WARNING: /Users/runner/work/xgboost/xgboost/src/learner.cc:740: \n",
      "Parameters: { \"max_depth\", \"subsample\" } are not used.\n",
      "\n"
     ]
    },
    {
     "data": {
      "text/html": [],
      "text/plain": [
       "<IPython.core.display.HTML object>"
      ]
     },
     "metadata": {},
     "output_type": "display_data"
    },
    {
     "data": {
      "text/html": [
       "<br>    <style><br>        .wandb-row {<br>            display: flex;<br>            flex-direction: row;<br>            flex-wrap: wrap;<br>            justify-content: flex-start;<br>            width: 100%;<br>        }<br>        .wandb-col {<br>            display: flex;<br>            flex-direction: column;<br>            flex-basis: 100%;<br>            flex: 1;<br>            padding: 10px;<br>        }<br>    </style><br><div class=\"wandb-row\"><div class=\"wandb-col\"><h3>Run history:</h3><br/><table class=\"wandb\"><tr><td>accuracy</td><td>▁</td></tr><tr><td>f1_score</td><td>▁</td></tr><tr><td>precision</td><td>▁</td></tr><tr><td>recall</td><td>▁</td></tr></table><br/></div><div class=\"wandb-col\"><h3>Run summary:</h3><br/><table class=\"wandb\"><tr><td>accuracy</td><td>0.44096</td></tr><tr><td>f1_score</td><td>0.42107</td></tr><tr><td>precision</td><td>0.41565</td></tr><tr><td>recall</td><td>0.44096</td></tr></table><br/></div></div>"
      ],
      "text/plain": [
       "<IPython.core.display.HTML object>"
      ]
     },
     "metadata": {},
     "output_type": "display_data"
    },
    {
     "data": {
      "text/html": [
       " View run <strong style=\"color:#cdcd00\">swift-sweep-6</strong> at: <a href='https://wandb.ai/urik-voevidka-ukrainian-catholic-university/ui-classification-experiments/runs/3snz0ssy' target=\"_blank\">https://wandb.ai/urik-voevidka-ukrainian-catholic-university/ui-classification-experiments/runs/3snz0ssy</a><br> View project at: <a href='https://wandb.ai/urik-voevidka-ukrainian-catholic-university/ui-classification-experiments' target=\"_blank\">https://wandb.ai/urik-voevidka-ukrainian-catholic-university/ui-classification-experiments</a><br>Synced 5 W&B file(s), 0 media file(s), 0 artifact file(s) and 0 other file(s)"
      ],
      "text/plain": [
       "<IPython.core.display.HTML object>"
      ]
     },
     "metadata": {},
     "output_type": "display_data"
    },
    {
     "data": {
      "text/html": [
       "Find logs at: <code>./wandb/run-20250223_152613-3snz0ssy/logs</code>"
      ],
      "text/plain": [
       "<IPython.core.display.HTML object>"
      ]
     },
     "metadata": {},
     "output_type": "display_data"
    },
    {
     "name": "stderr",
     "output_type": "stream",
     "text": [
      "\u001b[34m\u001b[1mwandb\u001b[0m: Agent Starting Run: a35zx1m9 with config:\n",
      "\u001b[34m\u001b[1mwandb\u001b[0m: \tbooster: gbtree\n",
      "\u001b[34m\u001b[1mwandb\u001b[0m: \tlearning_rate: 0.1\n",
      "\u001b[34m\u001b[1mwandb\u001b[0m: \tmax_depth: 3\n",
      "\u001b[34m\u001b[1mwandb\u001b[0m: \tsubsample: 0.5\n"
     ]
    },
    {
     "data": {
      "text/html": [
       "Tracking run with wandb version 0.19.7"
      ],
      "text/plain": [
       "<IPython.core.display.HTML object>"
      ]
     },
     "metadata": {},
     "output_type": "display_data"
    },
    {
     "data": {
      "text/html": [
       "Run data is saved locally in <code>/Users/yuriivoievidka/UCU/CV/cv-project/src/experiments/wandb/run-20250223_152619-a35zx1m9</code>"
      ],
      "text/plain": [
       "<IPython.core.display.HTML object>"
      ]
     },
     "metadata": {},
     "output_type": "display_data"
    },
    {
     "data": {
      "text/html": [
       "Syncing run <strong><a href='https://wandb.ai/urik-voevidka-ukrainian-catholic-university/ui-classification-experiments/runs/a35zx1m9' target=\"_blank\">comic-sweep-7</a></strong> to <a href='https://wandb.ai/urik-voevidka-ukrainian-catholic-university/ui-classification-experiments' target=\"_blank\">Weights & Biases</a> (<a href='https://wandb.me/developer-guide' target=\"_blank\">docs</a>)<br>Sweep page: <a href='https://wandb.ai/urik-voevidka-ukrainian-catholic-university/ui-classification-experiments/sweeps/9rkuh7kp' target=\"_blank\">https://wandb.ai/urik-voevidka-ukrainian-catholic-university/ui-classification-experiments/sweeps/9rkuh7kp</a>"
      ],
      "text/plain": [
       "<IPython.core.display.HTML object>"
      ]
     },
     "metadata": {},
     "output_type": "display_data"
    },
    {
     "data": {
      "text/html": [
       " View project at <a href='https://wandb.ai/urik-voevidka-ukrainian-catholic-university/ui-classification-experiments' target=\"_blank\">https://wandb.ai/urik-voevidka-ukrainian-catholic-university/ui-classification-experiments</a>"
      ],
      "text/plain": [
       "<IPython.core.display.HTML object>"
      ]
     },
     "metadata": {},
     "output_type": "display_data"
    },
    {
     "data": {
      "text/html": [
       " View sweep at <a href='https://wandb.ai/urik-voevidka-ukrainian-catholic-university/ui-classification-experiments/sweeps/9rkuh7kp' target=\"_blank\">https://wandb.ai/urik-voevidka-ukrainian-catholic-university/ui-classification-experiments/sweeps/9rkuh7kp</a>"
      ],
      "text/plain": [
       "<IPython.core.display.HTML object>"
      ]
     },
     "metadata": {},
     "output_type": "display_data"
    },
    {
     "data": {
      "text/html": [
       " View run at <a href='https://wandb.ai/urik-voevidka-ukrainian-catholic-university/ui-classification-experiments/runs/a35zx1m9' target=\"_blank\">https://wandb.ai/urik-voevidka-ukrainian-catholic-university/ui-classification-experiments/runs/a35zx1m9</a>"
      ],
      "text/plain": [
       "<IPython.core.display.HTML object>"
      ]
     },
     "metadata": {},
     "output_type": "display_data"
    },
    {
     "name": "stderr",
     "output_type": "stream",
     "text": [
      "/Users/yuriivoievidka/.pyenv/versions/3.12.7/envs/torch/lib/python3.12/site-packages/sklearn/metrics/_classification.py:1531: UndefinedMetricWarning: Precision is ill-defined and being set to 0.0 in labels with no predicted samples. Use `zero_division` parameter to control this behavior.\n",
      "  _warn_prf(average, modifier, f\"{metric.capitalize()} is\", len(result))\n",
      "/Users/yuriivoievidka/.pyenv/versions/3.12.7/envs/torch/lib/python3.12/site-packages/sklearn/metrics/_classification.py:1531: UndefinedMetricWarning: Precision is ill-defined and being set to 0.0 in labels with no predicted samples. Use `zero_division` parameter to control this behavior.\n",
      "  _warn_prf(average, modifier, f\"{metric.capitalize()} is\", len(result))\n",
      "/Users/yuriivoievidka/.pyenv/versions/3.12.7/envs/torch/lib/python3.12/site-packages/sklearn/metrics/_classification.py:1531: UndefinedMetricWarning: Precision is ill-defined and being set to 0.0 in labels with no predicted samples. Use `zero_division` parameter to control this behavior.\n",
      "  _warn_prf(average, modifier, f\"{metric.capitalize()} is\", len(result))\n",
      "/Users/yuriivoievidka/.pyenv/versions/3.12.7/envs/torch/lib/python3.12/site-packages/sklearn/metrics/_classification.py:1531: UndefinedMetricWarning: Precision is ill-defined and being set to 0.0 in labels with no predicted samples. Use `zero_division` parameter to control this behavior.\n",
      "  _warn_prf(average, modifier, f\"{metric.capitalize()} is\", len(result))\n"
     ]
    },
    {
     "data": {
      "text/html": [],
      "text/plain": [
       "<IPython.core.display.HTML object>"
      ]
     },
     "metadata": {},
     "output_type": "display_data"
    },
    {
     "data": {
      "text/html": [
       "<br>    <style><br>        .wandb-row {<br>            display: flex;<br>            flex-direction: row;<br>            flex-wrap: wrap;<br>            justify-content: flex-start;<br>            width: 100%;<br>        }<br>        .wandb-col {<br>            display: flex;<br>            flex-direction: column;<br>            flex-basis: 100%;<br>            flex: 1;<br>            padding: 10px;<br>        }<br>    </style><br><div class=\"wandb-row\"><div class=\"wandb-col\"><h3>Run history:</h3><br/><table class=\"wandb\"><tr><td>accuracy</td><td>▁</td></tr><tr><td>f1_score</td><td>▁</td></tr><tr><td>precision</td><td>▁</td></tr><tr><td>recall</td><td>▁</td></tr></table><br/></div><div class=\"wandb-col\"><h3>Run summary:</h3><br/><table class=\"wandb\"><tr><td>accuracy</td><td>0.44498</td></tr><tr><td>f1_score</td><td>0.41848</td></tr><tr><td>precision</td><td>0.39629</td></tr><tr><td>recall</td><td>0.44498</td></tr></table><br/></div></div>"
      ],
      "text/plain": [
       "<IPython.core.display.HTML object>"
      ]
     },
     "metadata": {},
     "output_type": "display_data"
    },
    {
     "data": {
      "text/html": [
       " View run <strong style=\"color:#cdcd00\">comic-sweep-7</strong> at: <a href='https://wandb.ai/urik-voevidka-ukrainian-catholic-university/ui-classification-experiments/runs/a35zx1m9' target=\"_blank\">https://wandb.ai/urik-voevidka-ukrainian-catholic-university/ui-classification-experiments/runs/a35zx1m9</a><br> View project at: <a href='https://wandb.ai/urik-voevidka-ukrainian-catholic-university/ui-classification-experiments' target=\"_blank\">https://wandb.ai/urik-voevidka-ukrainian-catholic-university/ui-classification-experiments</a><br>Synced 5 W&B file(s), 0 media file(s), 0 artifact file(s) and 0 other file(s)"
      ],
      "text/plain": [
       "<IPython.core.display.HTML object>"
      ]
     },
     "metadata": {},
     "output_type": "display_data"
    },
    {
     "data": {
      "text/html": [
       "Find logs at: <code>./wandb/run-20250223_152619-a35zx1m9/logs</code>"
      ],
      "text/plain": [
       "<IPython.core.display.HTML object>"
      ]
     },
     "metadata": {},
     "output_type": "display_data"
    },
    {
     "name": "stderr",
     "output_type": "stream",
     "text": [
      "\u001b[34m\u001b[1mwandb\u001b[0m: Agent Starting Run: o2gpt5tm with config:\n",
      "\u001b[34m\u001b[1mwandb\u001b[0m: \tbooster: gbtree\n",
      "\u001b[34m\u001b[1mwandb\u001b[0m: \tlearning_rate: 0.2\n",
      "\u001b[34m\u001b[1mwandb\u001b[0m: \tmax_depth: 6\n",
      "\u001b[34m\u001b[1mwandb\u001b[0m: \tsubsample: 0.5\n"
     ]
    },
    {
     "data": {
      "text/html": [
       "Tracking run with wandb version 0.19.7"
      ],
      "text/plain": [
       "<IPython.core.display.HTML object>"
      ]
     },
     "metadata": {},
     "output_type": "display_data"
    },
    {
     "data": {
      "text/html": [
       "Run data is saved locally in <code>/Users/yuriivoievidka/UCU/CV/cv-project/src/experiments/wandb/run-20250223_152624-o2gpt5tm</code>"
      ],
      "text/plain": [
       "<IPython.core.display.HTML object>"
      ]
     },
     "metadata": {},
     "output_type": "display_data"
    },
    {
     "data": {
      "text/html": [
       "Syncing run <strong><a href='https://wandb.ai/urik-voevidka-ukrainian-catholic-university/ui-classification-experiments/runs/o2gpt5tm' target=\"_blank\">misty-sweep-8</a></strong> to <a href='https://wandb.ai/urik-voevidka-ukrainian-catholic-university/ui-classification-experiments' target=\"_blank\">Weights & Biases</a> (<a href='https://wandb.me/developer-guide' target=\"_blank\">docs</a>)<br>Sweep page: <a href='https://wandb.ai/urik-voevidka-ukrainian-catholic-university/ui-classification-experiments/sweeps/9rkuh7kp' target=\"_blank\">https://wandb.ai/urik-voevidka-ukrainian-catholic-university/ui-classification-experiments/sweeps/9rkuh7kp</a>"
      ],
      "text/plain": [
       "<IPython.core.display.HTML object>"
      ]
     },
     "metadata": {},
     "output_type": "display_data"
    },
    {
     "data": {
      "text/html": [
       " View project at <a href='https://wandb.ai/urik-voevidka-ukrainian-catholic-university/ui-classification-experiments' target=\"_blank\">https://wandb.ai/urik-voevidka-ukrainian-catholic-university/ui-classification-experiments</a>"
      ],
      "text/plain": [
       "<IPython.core.display.HTML object>"
      ]
     },
     "metadata": {},
     "output_type": "display_data"
    },
    {
     "data": {
      "text/html": [
       " View sweep at <a href='https://wandb.ai/urik-voevidka-ukrainian-catholic-university/ui-classification-experiments/sweeps/9rkuh7kp' target=\"_blank\">https://wandb.ai/urik-voevidka-ukrainian-catholic-university/ui-classification-experiments/sweeps/9rkuh7kp</a>"
      ],
      "text/plain": [
       "<IPython.core.display.HTML object>"
      ]
     },
     "metadata": {},
     "output_type": "display_data"
    },
    {
     "data": {
      "text/html": [
       " View run at <a href='https://wandb.ai/urik-voevidka-ukrainian-catholic-university/ui-classification-experiments/runs/o2gpt5tm' target=\"_blank\">https://wandb.ai/urik-voevidka-ukrainian-catholic-university/ui-classification-experiments/runs/o2gpt5tm</a>"
      ],
      "text/plain": [
       "<IPython.core.display.HTML object>"
      ]
     },
     "metadata": {},
     "output_type": "display_data"
    },
    {
     "data": {
      "text/html": [],
      "text/plain": [
       "<IPython.core.display.HTML object>"
      ]
     },
     "metadata": {},
     "output_type": "display_data"
    },
    {
     "data": {
      "text/html": [
       "<br>    <style><br>        .wandb-row {<br>            display: flex;<br>            flex-direction: row;<br>            flex-wrap: wrap;<br>            justify-content: flex-start;<br>            width: 100%;<br>        }<br>        .wandb-col {<br>            display: flex;<br>            flex-direction: column;<br>            flex-basis: 100%;<br>            flex: 1;<br>            padding: 10px;<br>        }<br>    </style><br><div class=\"wandb-row\"><div class=\"wandb-col\"><h3>Run history:</h3><br/><table class=\"wandb\"><tr><td>accuracy</td><td>▁</td></tr><tr><td>f1_score</td><td>▁</td></tr><tr><td>precision</td><td>▁</td></tr><tr><td>recall</td><td>▁</td></tr></table><br/></div><div class=\"wandb-col\"><h3>Run summary:</h3><br/><table class=\"wandb\"><tr><td>accuracy</td><td>0.44739</td></tr><tr><td>f1_score</td><td>0.42339</td></tr><tr><td>precision</td><td>0.40287</td></tr><tr><td>recall</td><td>0.44739</td></tr></table><br/></div></div>"
      ],
      "text/plain": [
       "<IPython.core.display.HTML object>"
      ]
     },
     "metadata": {},
     "output_type": "display_data"
    },
    {
     "data": {
      "text/html": [
       " View run <strong style=\"color:#cdcd00\">misty-sweep-8</strong> at: <a href='https://wandb.ai/urik-voevidka-ukrainian-catholic-university/ui-classification-experiments/runs/o2gpt5tm' target=\"_blank\">https://wandb.ai/urik-voevidka-ukrainian-catholic-university/ui-classification-experiments/runs/o2gpt5tm</a><br> View project at: <a href='https://wandb.ai/urik-voevidka-ukrainian-catholic-university/ui-classification-experiments' target=\"_blank\">https://wandb.ai/urik-voevidka-ukrainian-catholic-university/ui-classification-experiments</a><br>Synced 5 W&B file(s), 0 media file(s), 0 artifact file(s) and 0 other file(s)"
      ],
      "text/plain": [
       "<IPython.core.display.HTML object>"
      ]
     },
     "metadata": {},
     "output_type": "display_data"
    },
    {
     "data": {
      "text/html": [
       "Find logs at: <code>./wandb/run-20250223_152624-o2gpt5tm/logs</code>"
      ],
      "text/plain": [
       "<IPython.core.display.HTML object>"
      ]
     },
     "metadata": {},
     "output_type": "display_data"
    },
    {
     "name": "stderr",
     "output_type": "stream",
     "text": [
      "\u001b[34m\u001b[1mwandb\u001b[0m: Agent Starting Run: iwzmvqbc with config:\n",
      "\u001b[34m\u001b[1mwandb\u001b[0m: \tbooster: gblinear\n",
      "\u001b[34m\u001b[1mwandb\u001b[0m: \tlearning_rate: 0.2\n",
      "\u001b[34m\u001b[1mwandb\u001b[0m: \tmax_depth: 3\n",
      "\u001b[34m\u001b[1mwandb\u001b[0m: \tsubsample: 0.5\n"
     ]
    },
    {
     "data": {
      "text/html": [
       "Tracking run with wandb version 0.19.7"
      ],
      "text/plain": [
       "<IPython.core.display.HTML object>"
      ]
     },
     "metadata": {},
     "output_type": "display_data"
    },
    {
     "data": {
      "text/html": [
       "Run data is saved locally in <code>/Users/yuriivoievidka/UCU/CV/cv-project/src/experiments/wandb/run-20250223_152634-iwzmvqbc</code>"
      ],
      "text/plain": [
       "<IPython.core.display.HTML object>"
      ]
     },
     "metadata": {},
     "output_type": "display_data"
    },
    {
     "data": {
      "text/html": [
       "Syncing run <strong><a href='https://wandb.ai/urik-voevidka-ukrainian-catholic-university/ui-classification-experiments/runs/iwzmvqbc' target=\"_blank\">generous-sweep-9</a></strong> to <a href='https://wandb.ai/urik-voevidka-ukrainian-catholic-university/ui-classification-experiments' target=\"_blank\">Weights & Biases</a> (<a href='https://wandb.me/developer-guide' target=\"_blank\">docs</a>)<br>Sweep page: <a href='https://wandb.ai/urik-voevidka-ukrainian-catholic-university/ui-classification-experiments/sweeps/9rkuh7kp' target=\"_blank\">https://wandb.ai/urik-voevidka-ukrainian-catholic-university/ui-classification-experiments/sweeps/9rkuh7kp</a>"
      ],
      "text/plain": [
       "<IPython.core.display.HTML object>"
      ]
     },
     "metadata": {},
     "output_type": "display_data"
    },
    {
     "data": {
      "text/html": [
       " View project at <a href='https://wandb.ai/urik-voevidka-ukrainian-catholic-university/ui-classification-experiments' target=\"_blank\">https://wandb.ai/urik-voevidka-ukrainian-catholic-university/ui-classification-experiments</a>"
      ],
      "text/plain": [
       "<IPython.core.display.HTML object>"
      ]
     },
     "metadata": {},
     "output_type": "display_data"
    },
    {
     "data": {
      "text/html": [
       " View sweep at <a href='https://wandb.ai/urik-voevidka-ukrainian-catholic-university/ui-classification-experiments/sweeps/9rkuh7kp' target=\"_blank\">https://wandb.ai/urik-voevidka-ukrainian-catholic-university/ui-classification-experiments/sweeps/9rkuh7kp</a>"
      ],
      "text/plain": [
       "<IPython.core.display.HTML object>"
      ]
     },
     "metadata": {},
     "output_type": "display_data"
    },
    {
     "data": {
      "text/html": [
       " View run at <a href='https://wandb.ai/urik-voevidka-ukrainian-catholic-university/ui-classification-experiments/runs/iwzmvqbc' target=\"_blank\">https://wandb.ai/urik-voevidka-ukrainian-catholic-university/ui-classification-experiments/runs/iwzmvqbc</a>"
      ],
      "text/plain": [
       "<IPython.core.display.HTML object>"
      ]
     },
     "metadata": {},
     "output_type": "display_data"
    },
    {
     "name": "stderr",
     "output_type": "stream",
     "text": [
      "[15:26:35] WARNING: /Users/runner/work/xgboost/xgboost/src/learner.cc:740: \n",
      "Parameters: { \"max_depth\", \"subsample\" } are not used.\n",
      "\n"
     ]
    },
    {
     "data": {
      "text/html": [],
      "text/plain": [
       "<IPython.core.display.HTML object>"
      ]
     },
     "metadata": {},
     "output_type": "display_data"
    },
    {
     "data": {
      "text/html": [
       "<br>    <style><br>        .wandb-row {<br>            display: flex;<br>            flex-direction: row;<br>            flex-wrap: wrap;<br>            justify-content: flex-start;<br>            width: 100%;<br>        }<br>        .wandb-col {<br>            display: flex;<br>            flex-direction: column;<br>            flex-basis: 100%;<br>            flex: 1;<br>            padding: 10px;<br>        }<br>    </style><br><div class=\"wandb-row\"><div class=\"wandb-col\"><h3>Run history:</h3><br/><table class=\"wandb\"><tr><td>accuracy</td><td>▁</td></tr><tr><td>f1_score</td><td>▁</td></tr><tr><td>precision</td><td>▁</td></tr><tr><td>recall</td><td>▁</td></tr></table><br/></div><div class=\"wandb-col\"><h3>Run summary:</h3><br/><table class=\"wandb\"><tr><td>accuracy</td><td>0.4249</td></tr><tr><td>f1_score</td><td>0.41718</td></tr><tr><td>precision</td><td>0.4135</td></tr><tr><td>recall</td><td>0.4249</td></tr></table><br/></div></div>"
      ],
      "text/plain": [
       "<IPython.core.display.HTML object>"
      ]
     },
     "metadata": {},
     "output_type": "display_data"
    },
    {
     "data": {
      "text/html": [
       " View run <strong style=\"color:#cdcd00\">generous-sweep-9</strong> at: <a href='https://wandb.ai/urik-voevidka-ukrainian-catholic-university/ui-classification-experiments/runs/iwzmvqbc' target=\"_blank\">https://wandb.ai/urik-voevidka-ukrainian-catholic-university/ui-classification-experiments/runs/iwzmvqbc</a><br> View project at: <a href='https://wandb.ai/urik-voevidka-ukrainian-catholic-university/ui-classification-experiments' target=\"_blank\">https://wandb.ai/urik-voevidka-ukrainian-catholic-university/ui-classification-experiments</a><br>Synced 5 W&B file(s), 0 media file(s), 0 artifact file(s) and 0 other file(s)"
      ],
      "text/plain": [
       "<IPython.core.display.HTML object>"
      ]
     },
     "metadata": {},
     "output_type": "display_data"
    },
    {
     "data": {
      "text/html": [
       "Find logs at: <code>./wandb/run-20250223_152634-iwzmvqbc/logs</code>"
      ],
      "text/plain": [
       "<IPython.core.display.HTML object>"
      ]
     },
     "metadata": {},
     "output_type": "display_data"
    },
    {
     "name": "stderr",
     "output_type": "stream",
     "text": [
      "\u001b[34m\u001b[1mwandb\u001b[0m: Agent Starting Run: mmzxrhzu with config:\n",
      "\u001b[34m\u001b[1mwandb\u001b[0m: \tbooster: gbtree\n",
      "\u001b[34m\u001b[1mwandb\u001b[0m: \tlearning_rate: 0.05\n",
      "\u001b[34m\u001b[1mwandb\u001b[0m: \tmax_depth: 6\n",
      "\u001b[34m\u001b[1mwandb\u001b[0m: \tsubsample: 1\n"
     ]
    },
    {
     "data": {
      "text/html": [
       "Tracking run with wandb version 0.19.7"
      ],
      "text/plain": [
       "<IPython.core.display.HTML object>"
      ]
     },
     "metadata": {},
     "output_type": "display_data"
    },
    {
     "data": {
      "text/html": [
       "Run data is saved locally in <code>/Users/yuriivoievidka/UCU/CV/cv-project/src/experiments/wandb/run-20250223_152640-mmzxrhzu</code>"
      ],
      "text/plain": [
       "<IPython.core.display.HTML object>"
      ]
     },
     "metadata": {},
     "output_type": "display_data"
    },
    {
     "data": {
      "text/html": [
       "Syncing run <strong><a href='https://wandb.ai/urik-voevidka-ukrainian-catholic-university/ui-classification-experiments/runs/mmzxrhzu' target=\"_blank\">happy-sweep-10</a></strong> to <a href='https://wandb.ai/urik-voevidka-ukrainian-catholic-university/ui-classification-experiments' target=\"_blank\">Weights & Biases</a> (<a href='https://wandb.me/developer-guide' target=\"_blank\">docs</a>)<br>Sweep page: <a href='https://wandb.ai/urik-voevidka-ukrainian-catholic-university/ui-classification-experiments/sweeps/9rkuh7kp' target=\"_blank\">https://wandb.ai/urik-voevidka-ukrainian-catholic-university/ui-classification-experiments/sweeps/9rkuh7kp</a>"
      ],
      "text/plain": [
       "<IPython.core.display.HTML object>"
      ]
     },
     "metadata": {},
     "output_type": "display_data"
    },
    {
     "data": {
      "text/html": [
       " View project at <a href='https://wandb.ai/urik-voevidka-ukrainian-catholic-university/ui-classification-experiments' target=\"_blank\">https://wandb.ai/urik-voevidka-ukrainian-catholic-university/ui-classification-experiments</a>"
      ],
      "text/plain": [
       "<IPython.core.display.HTML object>"
      ]
     },
     "metadata": {},
     "output_type": "display_data"
    },
    {
     "data": {
      "text/html": [
       " View sweep at <a href='https://wandb.ai/urik-voevidka-ukrainian-catholic-university/ui-classification-experiments/sweeps/9rkuh7kp' target=\"_blank\">https://wandb.ai/urik-voevidka-ukrainian-catholic-university/ui-classification-experiments/sweeps/9rkuh7kp</a>"
      ],
      "text/plain": [
       "<IPython.core.display.HTML object>"
      ]
     },
     "metadata": {},
     "output_type": "display_data"
    },
    {
     "data": {
      "text/html": [
       " View run at <a href='https://wandb.ai/urik-voevidka-ukrainian-catholic-university/ui-classification-experiments/runs/mmzxrhzu' target=\"_blank\">https://wandb.ai/urik-voevidka-ukrainian-catholic-university/ui-classification-experiments/runs/mmzxrhzu</a>"
      ],
      "text/plain": [
       "<IPython.core.display.HTML object>"
      ]
     },
     "metadata": {},
     "output_type": "display_data"
    },
    {
     "data": {
      "text/html": [],
      "text/plain": [
       "<IPython.core.display.HTML object>"
      ]
     },
     "metadata": {},
     "output_type": "display_data"
    },
    {
     "data": {
      "text/html": [
       "<br>    <style><br>        .wandb-row {<br>            display: flex;<br>            flex-direction: row;<br>            flex-wrap: wrap;<br>            justify-content: flex-start;<br>            width: 100%;<br>        }<br>        .wandb-col {<br>            display: flex;<br>            flex-direction: column;<br>            flex-basis: 100%;<br>            flex: 1;<br>            padding: 10px;<br>        }<br>    </style><br><div class=\"wandb-row\"><div class=\"wandb-col\"><h3>Run history:</h3><br/><table class=\"wandb\"><tr><td>accuracy</td><td>▁</td></tr><tr><td>f1_score</td><td>▁</td></tr><tr><td>precision</td><td>▁</td></tr><tr><td>recall</td><td>▁</td></tr></table><br/></div><div class=\"wandb-col\"><h3>Run summary:</h3><br/><table class=\"wandb\"><tr><td>accuracy</td><td>0.43293</td></tr><tr><td>f1_score</td><td>0.40813</td></tr><tr><td>precision</td><td>0.38686</td></tr><tr><td>recall</td><td>0.43293</td></tr></table><br/></div></div>"
      ],
      "text/plain": [
       "<IPython.core.display.HTML object>"
      ]
     },
     "metadata": {},
     "output_type": "display_data"
    },
    {
     "data": {
      "text/html": [
       " View run <strong style=\"color:#cdcd00\">happy-sweep-10</strong> at: <a href='https://wandb.ai/urik-voevidka-ukrainian-catholic-university/ui-classification-experiments/runs/mmzxrhzu' target=\"_blank\">https://wandb.ai/urik-voevidka-ukrainian-catholic-university/ui-classification-experiments/runs/mmzxrhzu</a><br> View project at: <a href='https://wandb.ai/urik-voevidka-ukrainian-catholic-university/ui-classification-experiments' target=\"_blank\">https://wandb.ai/urik-voevidka-ukrainian-catholic-university/ui-classification-experiments</a><br>Synced 5 W&B file(s), 0 media file(s), 0 artifact file(s) and 0 other file(s)"
      ],
      "text/plain": [
       "<IPython.core.display.HTML object>"
      ]
     },
     "metadata": {},
     "output_type": "display_data"
    },
    {
     "data": {
      "text/html": [
       "Find logs at: <code>./wandb/run-20250223_152640-mmzxrhzu/logs</code>"
      ],
      "text/plain": [
       "<IPython.core.display.HTML object>"
      ]
     },
     "metadata": {},
     "output_type": "display_data"
    },
    {
     "name": "stderr",
     "output_type": "stream",
     "text": [
      "\u001b[34m\u001b[1mwandb\u001b[0m: Agent Starting Run: t7xd2oj9 with config:\n",
      "\u001b[34m\u001b[1mwandb\u001b[0m: \tbooster: gblinear\n",
      "\u001b[34m\u001b[1mwandb\u001b[0m: \tlearning_rate: 0.1\n",
      "\u001b[34m\u001b[1mwandb\u001b[0m: \tmax_depth: 12\n",
      "\u001b[34m\u001b[1mwandb\u001b[0m: \tsubsample: 1\n"
     ]
    },
    {
     "data": {
      "text/html": [
       "Tracking run with wandb version 0.19.7"
      ],
      "text/plain": [
       "<IPython.core.display.HTML object>"
      ]
     },
     "metadata": {},
     "output_type": "display_data"
    },
    {
     "data": {
      "text/html": [
       "Run data is saved locally in <code>/Users/yuriivoievidka/UCU/CV/cv-project/src/experiments/wandb/run-20250223_152650-t7xd2oj9</code>"
      ],
      "text/plain": [
       "<IPython.core.display.HTML object>"
      ]
     },
     "metadata": {},
     "output_type": "display_data"
    },
    {
     "data": {
      "text/html": [
       "Syncing run <strong><a href='https://wandb.ai/urik-voevidka-ukrainian-catholic-university/ui-classification-experiments/runs/t7xd2oj9' target=\"_blank\">misty-sweep-11</a></strong> to <a href='https://wandb.ai/urik-voevidka-ukrainian-catholic-university/ui-classification-experiments' target=\"_blank\">Weights & Biases</a> (<a href='https://wandb.me/developer-guide' target=\"_blank\">docs</a>)<br>Sweep page: <a href='https://wandb.ai/urik-voevidka-ukrainian-catholic-university/ui-classification-experiments/sweeps/9rkuh7kp' target=\"_blank\">https://wandb.ai/urik-voevidka-ukrainian-catholic-university/ui-classification-experiments/sweeps/9rkuh7kp</a>"
      ],
      "text/plain": [
       "<IPython.core.display.HTML object>"
      ]
     },
     "metadata": {},
     "output_type": "display_data"
    },
    {
     "data": {
      "text/html": [
       " View project at <a href='https://wandb.ai/urik-voevidka-ukrainian-catholic-university/ui-classification-experiments' target=\"_blank\">https://wandb.ai/urik-voevidka-ukrainian-catholic-university/ui-classification-experiments</a>"
      ],
      "text/plain": [
       "<IPython.core.display.HTML object>"
      ]
     },
     "metadata": {},
     "output_type": "display_data"
    },
    {
     "data": {
      "text/html": [
       " View sweep at <a href='https://wandb.ai/urik-voevidka-ukrainian-catholic-university/ui-classification-experiments/sweeps/9rkuh7kp' target=\"_blank\">https://wandb.ai/urik-voevidka-ukrainian-catholic-university/ui-classification-experiments/sweeps/9rkuh7kp</a>"
      ],
      "text/plain": [
       "<IPython.core.display.HTML object>"
      ]
     },
     "metadata": {},
     "output_type": "display_data"
    },
    {
     "data": {
      "text/html": [
       " View run at <a href='https://wandb.ai/urik-voevidka-ukrainian-catholic-university/ui-classification-experiments/runs/t7xd2oj9' target=\"_blank\">https://wandb.ai/urik-voevidka-ukrainian-catholic-university/ui-classification-experiments/runs/t7xd2oj9</a>"
      ],
      "text/plain": [
       "<IPython.core.display.HTML object>"
      ]
     },
     "metadata": {},
     "output_type": "display_data"
    },
    {
     "name": "stderr",
     "output_type": "stream",
     "text": [
      "[15:26:51] WARNING: /Users/runner/work/xgboost/xgboost/src/learner.cc:740: \n",
      "Parameters: { \"max_depth\", \"subsample\" } are not used.\n",
      "\n"
     ]
    },
    {
     "data": {
      "text/html": [],
      "text/plain": [
       "<IPython.core.display.HTML object>"
      ]
     },
     "metadata": {},
     "output_type": "display_data"
    },
    {
     "data": {
      "text/html": [
       "<br>    <style><br>        .wandb-row {<br>            display: flex;<br>            flex-direction: row;<br>            flex-wrap: wrap;<br>            justify-content: flex-start;<br>            width: 100%;<br>        }<br>        .wandb-col {<br>            display: flex;<br>            flex-direction: column;<br>            flex-basis: 100%;<br>            flex: 1;<br>            padding: 10px;<br>        }<br>    </style><br><div class=\"wandb-row\"><div class=\"wandb-col\"><h3>Run history:</h3><br/><table class=\"wandb\"><tr><td>accuracy</td><td>▁</td></tr><tr><td>f1_score</td><td>▁</td></tr><tr><td>precision</td><td>▁</td></tr><tr><td>recall</td><td>▁</td></tr></table><br/></div><div class=\"wandb-col\"><h3>Run summary:</h3><br/><table class=\"wandb\"><tr><td>accuracy</td><td>0.43373</td></tr><tr><td>f1_score</td><td>0.42003</td></tr><tr><td>precision</td><td>0.41355</td></tr><tr><td>recall</td><td>0.43373</td></tr></table><br/></div></div>"
      ],
      "text/plain": [
       "<IPython.core.display.HTML object>"
      ]
     },
     "metadata": {},
     "output_type": "display_data"
    },
    {
     "data": {
      "text/html": [
       " View run <strong style=\"color:#cdcd00\">misty-sweep-11</strong> at: <a href='https://wandb.ai/urik-voevidka-ukrainian-catholic-university/ui-classification-experiments/runs/t7xd2oj9' target=\"_blank\">https://wandb.ai/urik-voevidka-ukrainian-catholic-university/ui-classification-experiments/runs/t7xd2oj9</a><br> View project at: <a href='https://wandb.ai/urik-voevidka-ukrainian-catholic-university/ui-classification-experiments' target=\"_blank\">https://wandb.ai/urik-voevidka-ukrainian-catholic-university/ui-classification-experiments</a><br>Synced 5 W&B file(s), 0 media file(s), 0 artifact file(s) and 0 other file(s)"
      ],
      "text/plain": [
       "<IPython.core.display.HTML object>"
      ]
     },
     "metadata": {},
     "output_type": "display_data"
    },
    {
     "data": {
      "text/html": [
       "Find logs at: <code>./wandb/run-20250223_152650-t7xd2oj9/logs</code>"
      ],
      "text/plain": [
       "<IPython.core.display.HTML object>"
      ]
     },
     "metadata": {},
     "output_type": "display_data"
    },
    {
     "name": "stderr",
     "output_type": "stream",
     "text": [
      "\u001b[34m\u001b[1mwandb\u001b[0m: Agent Starting Run: ondctahb with config:\n",
      "\u001b[34m\u001b[1mwandb\u001b[0m: \tbooster: gbtree\n",
      "\u001b[34m\u001b[1mwandb\u001b[0m: \tlearning_rate: 0.2\n",
      "\u001b[34m\u001b[1mwandb\u001b[0m: \tmax_depth: 12\n",
      "\u001b[34m\u001b[1mwandb\u001b[0m: \tsubsample: 0.5\n"
     ]
    },
    {
     "data": {
      "text/html": [
       "Tracking run with wandb version 0.19.7"
      ],
      "text/plain": [
       "<IPython.core.display.HTML object>"
      ]
     },
     "metadata": {},
     "output_type": "display_data"
    },
    {
     "data": {
      "text/html": [
       "Run data is saved locally in <code>/Users/yuriivoievidka/UCU/CV/cv-project/src/experiments/wandb/run-20250223_152655-ondctahb</code>"
      ],
      "text/plain": [
       "<IPython.core.display.HTML object>"
      ]
     },
     "metadata": {},
     "output_type": "display_data"
    },
    {
     "data": {
      "text/html": [
       "Syncing run <strong><a href='https://wandb.ai/urik-voevidka-ukrainian-catholic-university/ui-classification-experiments/runs/ondctahb' target=\"_blank\">fanciful-sweep-12</a></strong> to <a href='https://wandb.ai/urik-voevidka-ukrainian-catholic-university/ui-classification-experiments' target=\"_blank\">Weights & Biases</a> (<a href='https://wandb.me/developer-guide' target=\"_blank\">docs</a>)<br>Sweep page: <a href='https://wandb.ai/urik-voevidka-ukrainian-catholic-university/ui-classification-experiments/sweeps/9rkuh7kp' target=\"_blank\">https://wandb.ai/urik-voevidka-ukrainian-catholic-university/ui-classification-experiments/sweeps/9rkuh7kp</a>"
      ],
      "text/plain": [
       "<IPython.core.display.HTML object>"
      ]
     },
     "metadata": {},
     "output_type": "display_data"
    },
    {
     "data": {
      "text/html": [
       " View project at <a href='https://wandb.ai/urik-voevidka-ukrainian-catholic-university/ui-classification-experiments' target=\"_blank\">https://wandb.ai/urik-voevidka-ukrainian-catholic-university/ui-classification-experiments</a>"
      ],
      "text/plain": [
       "<IPython.core.display.HTML object>"
      ]
     },
     "metadata": {},
     "output_type": "display_data"
    },
    {
     "data": {
      "text/html": [
       " View sweep at <a href='https://wandb.ai/urik-voevidka-ukrainian-catholic-university/ui-classification-experiments/sweeps/9rkuh7kp' target=\"_blank\">https://wandb.ai/urik-voevidka-ukrainian-catholic-university/ui-classification-experiments/sweeps/9rkuh7kp</a>"
      ],
      "text/plain": [
       "<IPython.core.display.HTML object>"
      ]
     },
     "metadata": {},
     "output_type": "display_data"
    },
    {
     "data": {
      "text/html": [
       " View run at <a href='https://wandb.ai/urik-voevidka-ukrainian-catholic-university/ui-classification-experiments/runs/ondctahb' target=\"_blank\">https://wandb.ai/urik-voevidka-ukrainian-catholic-university/ui-classification-experiments/runs/ondctahb</a>"
      ],
      "text/plain": [
       "<IPython.core.display.HTML object>"
      ]
     },
     "metadata": {},
     "output_type": "display_data"
    },
    {
     "data": {
      "text/html": [],
      "text/plain": [
       "<IPython.core.display.HTML object>"
      ]
     },
     "metadata": {},
     "output_type": "display_data"
    },
    {
     "data": {
      "text/html": [
       "<br>    <style><br>        .wandb-row {<br>            display: flex;<br>            flex-direction: row;<br>            flex-wrap: wrap;<br>            justify-content: flex-start;<br>            width: 100%;<br>        }<br>        .wandb-col {<br>            display: flex;<br>            flex-direction: column;<br>            flex-basis: 100%;<br>            flex: 1;<br>            padding: 10px;<br>        }<br>    </style><br><div class=\"wandb-row\"><div class=\"wandb-col\"><h3>Run history:</h3><br/><table class=\"wandb\"><tr><td>accuracy</td><td>▁</td></tr><tr><td>f1_score</td><td>▁</td></tr><tr><td>precision</td><td>▁</td></tr><tr><td>recall</td><td>▁</td></tr></table><br/></div><div class=\"wandb-col\"><h3>Run summary:</h3><br/><table class=\"wandb\"><tr><td>accuracy</td><td>0.42972</td></tr><tr><td>f1_score</td><td>0.40696</td></tr><tr><td>precision</td><td>0.39646</td></tr><tr><td>recall</td><td>0.42972</td></tr></table><br/></div></div>"
      ],
      "text/plain": [
       "<IPython.core.display.HTML object>"
      ]
     },
     "metadata": {},
     "output_type": "display_data"
    },
    {
     "data": {
      "text/html": [
       " View run <strong style=\"color:#cdcd00\">fanciful-sweep-12</strong> at: <a href='https://wandb.ai/urik-voevidka-ukrainian-catholic-university/ui-classification-experiments/runs/ondctahb' target=\"_blank\">https://wandb.ai/urik-voevidka-ukrainian-catholic-university/ui-classification-experiments/runs/ondctahb</a><br> View project at: <a href='https://wandb.ai/urik-voevidka-ukrainian-catholic-university/ui-classification-experiments' target=\"_blank\">https://wandb.ai/urik-voevidka-ukrainian-catholic-university/ui-classification-experiments</a><br>Synced 5 W&B file(s), 0 media file(s), 0 artifact file(s) and 0 other file(s)"
      ],
      "text/plain": [
       "<IPython.core.display.HTML object>"
      ]
     },
     "metadata": {},
     "output_type": "display_data"
    },
    {
     "data": {
      "text/html": [
       "Find logs at: <code>./wandb/run-20250223_152655-ondctahb/logs</code>"
      ],
      "text/plain": [
       "<IPython.core.display.HTML object>"
      ]
     },
     "metadata": {},
     "output_type": "display_data"
    },
    {
     "name": "stderr",
     "output_type": "stream",
     "text": [
      "\u001b[34m\u001b[1mwandb\u001b[0m: Agent Starting Run: xzd52iwu with config:\n",
      "\u001b[34m\u001b[1mwandb\u001b[0m: \tbooster: gblinear\n",
      "\u001b[34m\u001b[1mwandb\u001b[0m: \tlearning_rate: 0.05\n",
      "\u001b[34m\u001b[1mwandb\u001b[0m: \tmax_depth: 12\n",
      "\u001b[34m\u001b[1mwandb\u001b[0m: \tsubsample: 0.5\n"
     ]
    },
    {
     "data": {
      "text/html": [
       "Tracking run with wandb version 0.19.7"
      ],
      "text/plain": [
       "<IPython.core.display.HTML object>"
      ]
     },
     "metadata": {},
     "output_type": "display_data"
    },
    {
     "data": {
      "text/html": [
       "Run data is saved locally in <code>/Users/yuriivoievidka/UCU/CV/cv-project/src/experiments/wandb/run-20250223_152706-xzd52iwu</code>"
      ],
      "text/plain": [
       "<IPython.core.display.HTML object>"
      ]
     },
     "metadata": {},
     "output_type": "display_data"
    },
    {
     "data": {
      "text/html": [
       "Syncing run <strong><a href='https://wandb.ai/urik-voevidka-ukrainian-catholic-university/ui-classification-experiments/runs/xzd52iwu' target=\"_blank\">light-sweep-13</a></strong> to <a href='https://wandb.ai/urik-voevidka-ukrainian-catholic-university/ui-classification-experiments' target=\"_blank\">Weights & Biases</a> (<a href='https://wandb.me/developer-guide' target=\"_blank\">docs</a>)<br>Sweep page: <a href='https://wandb.ai/urik-voevidka-ukrainian-catholic-university/ui-classification-experiments/sweeps/9rkuh7kp' target=\"_blank\">https://wandb.ai/urik-voevidka-ukrainian-catholic-university/ui-classification-experiments/sweeps/9rkuh7kp</a>"
      ],
      "text/plain": [
       "<IPython.core.display.HTML object>"
      ]
     },
     "metadata": {},
     "output_type": "display_data"
    },
    {
     "data": {
      "text/html": [
       " View project at <a href='https://wandb.ai/urik-voevidka-ukrainian-catholic-university/ui-classification-experiments' target=\"_blank\">https://wandb.ai/urik-voevidka-ukrainian-catholic-university/ui-classification-experiments</a>"
      ],
      "text/plain": [
       "<IPython.core.display.HTML object>"
      ]
     },
     "metadata": {},
     "output_type": "display_data"
    },
    {
     "data": {
      "text/html": [
       " View sweep at <a href='https://wandb.ai/urik-voevidka-ukrainian-catholic-university/ui-classification-experiments/sweeps/9rkuh7kp' target=\"_blank\">https://wandb.ai/urik-voevidka-ukrainian-catholic-university/ui-classification-experiments/sweeps/9rkuh7kp</a>"
      ],
      "text/plain": [
       "<IPython.core.display.HTML object>"
      ]
     },
     "metadata": {},
     "output_type": "display_data"
    },
    {
     "data": {
      "text/html": [
       " View run at <a href='https://wandb.ai/urik-voevidka-ukrainian-catholic-university/ui-classification-experiments/runs/xzd52iwu' target=\"_blank\">https://wandb.ai/urik-voevidka-ukrainian-catholic-university/ui-classification-experiments/runs/xzd52iwu</a>"
      ],
      "text/plain": [
       "<IPython.core.display.HTML object>"
      ]
     },
     "metadata": {},
     "output_type": "display_data"
    },
    {
     "name": "stderr",
     "output_type": "stream",
     "text": [
      "[15:27:06] WARNING: /Users/runner/work/xgboost/xgboost/src/learner.cc:740: \n",
      "Parameters: { \"max_depth\", \"subsample\" } are not used.\n",
      "\n"
     ]
    },
    {
     "data": {
      "text/html": [],
      "text/plain": [
       "<IPython.core.display.HTML object>"
      ]
     },
     "metadata": {},
     "output_type": "display_data"
    },
    {
     "data": {
      "text/html": [
       "<br>    <style><br>        .wandb-row {<br>            display: flex;<br>            flex-direction: row;<br>            flex-wrap: wrap;<br>            justify-content: flex-start;<br>            width: 100%;<br>        }<br>        .wandb-col {<br>            display: flex;<br>            flex-direction: column;<br>            flex-basis: 100%;<br>            flex: 1;<br>            padding: 10px;<br>        }<br>    </style><br><div class=\"wandb-row\"><div class=\"wandb-col\"><h3>Run history:</h3><br/><table class=\"wandb\"><tr><td>accuracy</td><td>▁</td></tr><tr><td>f1_score</td><td>▁</td></tr><tr><td>precision</td><td>▁</td></tr><tr><td>recall</td><td>▁</td></tr></table><br/></div><div class=\"wandb-col\"><h3>Run summary:</h3><br/><table class=\"wandb\"><tr><td>accuracy</td><td>0.44096</td></tr><tr><td>f1_score</td><td>0.42114</td></tr><tr><td>precision</td><td>0.41561</td></tr><tr><td>recall</td><td>0.44096</td></tr></table><br/></div></div>"
      ],
      "text/plain": [
       "<IPython.core.display.HTML object>"
      ]
     },
     "metadata": {},
     "output_type": "display_data"
    },
    {
     "data": {
      "text/html": [
       " View run <strong style=\"color:#cdcd00\">light-sweep-13</strong> at: <a href='https://wandb.ai/urik-voevidka-ukrainian-catholic-university/ui-classification-experiments/runs/xzd52iwu' target=\"_blank\">https://wandb.ai/urik-voevidka-ukrainian-catholic-university/ui-classification-experiments/runs/xzd52iwu</a><br> View project at: <a href='https://wandb.ai/urik-voevidka-ukrainian-catholic-university/ui-classification-experiments' target=\"_blank\">https://wandb.ai/urik-voevidka-ukrainian-catholic-university/ui-classification-experiments</a><br>Synced 5 W&B file(s), 0 media file(s), 0 artifact file(s) and 0 other file(s)"
      ],
      "text/plain": [
       "<IPython.core.display.HTML object>"
      ]
     },
     "metadata": {},
     "output_type": "display_data"
    },
    {
     "data": {
      "text/html": [
       "Find logs at: <code>./wandb/run-20250223_152706-xzd52iwu/logs</code>"
      ],
      "text/plain": [
       "<IPython.core.display.HTML object>"
      ]
     },
     "metadata": {},
     "output_type": "display_data"
    },
    {
     "name": "stderr",
     "output_type": "stream",
     "text": [
      "\u001b[34m\u001b[1mwandb\u001b[0m: Agent Starting Run: n9yk6tbu with config:\n",
      "\u001b[34m\u001b[1mwandb\u001b[0m: \tbooster: gbtree\n",
      "\u001b[34m\u001b[1mwandb\u001b[0m: \tlearning_rate: 0.05\n",
      "\u001b[34m\u001b[1mwandb\u001b[0m: \tmax_depth: 12\n",
      "\u001b[34m\u001b[1mwandb\u001b[0m: \tsubsample: 0.3\n"
     ]
    },
    {
     "data": {
      "text/html": [
       "Tracking run with wandb version 0.19.7"
      ],
      "text/plain": [
       "<IPython.core.display.HTML object>"
      ]
     },
     "metadata": {},
     "output_type": "display_data"
    },
    {
     "data": {
      "text/html": [
       "Run data is saved locally in <code>/Users/yuriivoievidka/UCU/CV/cv-project/src/experiments/wandb/run-20250223_152711-n9yk6tbu</code>"
      ],
      "text/plain": [
       "<IPython.core.display.HTML object>"
      ]
     },
     "metadata": {},
     "output_type": "display_data"
    },
    {
     "data": {
      "text/html": [
       "Syncing run <strong><a href='https://wandb.ai/urik-voevidka-ukrainian-catholic-university/ui-classification-experiments/runs/n9yk6tbu' target=\"_blank\">cerulean-sweep-14</a></strong> to <a href='https://wandb.ai/urik-voevidka-ukrainian-catholic-university/ui-classification-experiments' target=\"_blank\">Weights & Biases</a> (<a href='https://wandb.me/developer-guide' target=\"_blank\">docs</a>)<br>Sweep page: <a href='https://wandb.ai/urik-voevidka-ukrainian-catholic-university/ui-classification-experiments/sweeps/9rkuh7kp' target=\"_blank\">https://wandb.ai/urik-voevidka-ukrainian-catholic-university/ui-classification-experiments/sweeps/9rkuh7kp</a>"
      ],
      "text/plain": [
       "<IPython.core.display.HTML object>"
      ]
     },
     "metadata": {},
     "output_type": "display_data"
    },
    {
     "data": {
      "text/html": [
       " View project at <a href='https://wandb.ai/urik-voevidka-ukrainian-catholic-university/ui-classification-experiments' target=\"_blank\">https://wandb.ai/urik-voevidka-ukrainian-catholic-university/ui-classification-experiments</a>"
      ],
      "text/plain": [
       "<IPython.core.display.HTML object>"
      ]
     },
     "metadata": {},
     "output_type": "display_data"
    },
    {
     "data": {
      "text/html": [
       " View sweep at <a href='https://wandb.ai/urik-voevidka-ukrainian-catholic-university/ui-classification-experiments/sweeps/9rkuh7kp' target=\"_blank\">https://wandb.ai/urik-voevidka-ukrainian-catholic-university/ui-classification-experiments/sweeps/9rkuh7kp</a>"
      ],
      "text/plain": [
       "<IPython.core.display.HTML object>"
      ]
     },
     "metadata": {},
     "output_type": "display_data"
    },
    {
     "data": {
      "text/html": [
       " View run at <a href='https://wandb.ai/urik-voevidka-ukrainian-catholic-university/ui-classification-experiments/runs/n9yk6tbu' target=\"_blank\">https://wandb.ai/urik-voevidka-ukrainian-catholic-university/ui-classification-experiments/runs/n9yk6tbu</a>"
      ],
      "text/plain": [
       "<IPython.core.display.HTML object>"
      ]
     },
     "metadata": {},
     "output_type": "display_data"
    },
    {
     "data": {
      "text/html": [],
      "text/plain": [
       "<IPython.core.display.HTML object>"
      ]
     },
     "metadata": {},
     "output_type": "display_data"
    },
    {
     "data": {
      "text/html": [
       "<br>    <style><br>        .wandb-row {<br>            display: flex;<br>            flex-direction: row;<br>            flex-wrap: wrap;<br>            justify-content: flex-start;<br>            width: 100%;<br>        }<br>        .wandb-col {<br>            display: flex;<br>            flex-direction: column;<br>            flex-basis: 100%;<br>            flex: 1;<br>            padding: 10px;<br>        }<br>    </style><br><div class=\"wandb-row\"><div class=\"wandb-col\"><h3>Run history:</h3><br/><table class=\"wandb\"><tr><td>accuracy</td><td>▁</td></tr><tr><td>f1_score</td><td>▁</td></tr><tr><td>precision</td><td>▁</td></tr><tr><td>recall</td><td>▁</td></tr></table><br/></div><div class=\"wandb-col\"><h3>Run summary:</h3><br/><table class=\"wandb\"><tr><td>accuracy</td><td>0.45141</td></tr><tr><td>f1_score</td><td>0.42508</td></tr><tr><td>precision</td><td>0.40266</td></tr><tr><td>recall</td><td>0.45141</td></tr></table><br/></div></div>"
      ],
      "text/plain": [
       "<IPython.core.display.HTML object>"
      ]
     },
     "metadata": {},
     "output_type": "display_data"
    },
    {
     "data": {
      "text/html": [
       " View run <strong style=\"color:#cdcd00\">cerulean-sweep-14</strong> at: <a href='https://wandb.ai/urik-voevidka-ukrainian-catholic-university/ui-classification-experiments/runs/n9yk6tbu' target=\"_blank\">https://wandb.ai/urik-voevidka-ukrainian-catholic-university/ui-classification-experiments/runs/n9yk6tbu</a><br> View project at: <a href='https://wandb.ai/urik-voevidka-ukrainian-catholic-university/ui-classification-experiments' target=\"_blank\">https://wandb.ai/urik-voevidka-ukrainian-catholic-university/ui-classification-experiments</a><br>Synced 5 W&B file(s), 0 media file(s), 0 artifact file(s) and 0 other file(s)"
      ],
      "text/plain": [
       "<IPython.core.display.HTML object>"
      ]
     },
     "metadata": {},
     "output_type": "display_data"
    },
    {
     "data": {
      "text/html": [
       "Find logs at: <code>./wandb/run-20250223_152711-n9yk6tbu/logs</code>"
      ],
      "text/plain": [
       "<IPython.core.display.HTML object>"
      ]
     },
     "metadata": {},
     "output_type": "display_data"
    },
    {
     "name": "stderr",
     "output_type": "stream",
     "text": [
      "\u001b[34m\u001b[1mwandb\u001b[0m: Sweep Agent: Waiting for job.\n",
      "\u001b[34m\u001b[1mwandb\u001b[0m: Job received.\n",
      "\u001b[34m\u001b[1mwandb\u001b[0m: Agent Starting Run: ds5bhs87 with config:\n",
      "\u001b[34m\u001b[1mwandb\u001b[0m: \tbooster: gblinear\n",
      "\u001b[34m\u001b[1mwandb\u001b[0m: \tlearning_rate: 0.05\n",
      "\u001b[34m\u001b[1mwandb\u001b[0m: \tmax_depth: 3\n",
      "\u001b[34m\u001b[1mwandb\u001b[0m: \tsubsample: 1\n"
     ]
    },
    {
     "data": {
      "text/html": [
       "Tracking run with wandb version 0.19.7"
      ],
      "text/plain": [
       "<IPython.core.display.HTML object>"
      ]
     },
     "metadata": {},
     "output_type": "display_data"
    },
    {
     "data": {
      "text/html": [
       "Run data is saved locally in <code>/Users/yuriivoievidka/UCU/CV/cv-project/src/experiments/wandb/run-20250223_152732-ds5bhs87</code>"
      ],
      "text/plain": [
       "<IPython.core.display.HTML object>"
      ]
     },
     "metadata": {},
     "output_type": "display_data"
    },
    {
     "data": {
      "text/html": [
       "Syncing run <strong><a href='https://wandb.ai/urik-voevidka-ukrainian-catholic-university/ui-classification-experiments/runs/ds5bhs87' target=\"_blank\">major-sweep-15</a></strong> to <a href='https://wandb.ai/urik-voevidka-ukrainian-catholic-university/ui-classification-experiments' target=\"_blank\">Weights & Biases</a> (<a href='https://wandb.me/developer-guide' target=\"_blank\">docs</a>)<br>Sweep page: <a href='https://wandb.ai/urik-voevidka-ukrainian-catholic-university/ui-classification-experiments/sweeps/9rkuh7kp' target=\"_blank\">https://wandb.ai/urik-voevidka-ukrainian-catholic-university/ui-classification-experiments/sweeps/9rkuh7kp</a>"
      ],
      "text/plain": [
       "<IPython.core.display.HTML object>"
      ]
     },
     "metadata": {},
     "output_type": "display_data"
    },
    {
     "data": {
      "text/html": [
       " View project at <a href='https://wandb.ai/urik-voevidka-ukrainian-catholic-university/ui-classification-experiments' target=\"_blank\">https://wandb.ai/urik-voevidka-ukrainian-catholic-university/ui-classification-experiments</a>"
      ],
      "text/plain": [
       "<IPython.core.display.HTML object>"
      ]
     },
     "metadata": {},
     "output_type": "display_data"
    },
    {
     "data": {
      "text/html": [
       " View sweep at <a href='https://wandb.ai/urik-voevidka-ukrainian-catholic-university/ui-classification-experiments/sweeps/9rkuh7kp' target=\"_blank\">https://wandb.ai/urik-voevidka-ukrainian-catholic-university/ui-classification-experiments/sweeps/9rkuh7kp</a>"
      ],
      "text/plain": [
       "<IPython.core.display.HTML object>"
      ]
     },
     "metadata": {},
     "output_type": "display_data"
    },
    {
     "data": {
      "text/html": [
       " View run at <a href='https://wandb.ai/urik-voevidka-ukrainian-catholic-university/ui-classification-experiments/runs/ds5bhs87' target=\"_blank\">https://wandb.ai/urik-voevidka-ukrainian-catholic-university/ui-classification-experiments/runs/ds5bhs87</a>"
      ],
      "text/plain": [
       "<IPython.core.display.HTML object>"
      ]
     },
     "metadata": {},
     "output_type": "display_data"
    },
    {
     "name": "stderr",
     "output_type": "stream",
     "text": [
      "[15:27:33] WARNING: /Users/runner/work/xgboost/xgboost/src/learner.cc:740: \n",
      "Parameters: { \"max_depth\", \"subsample\" } are not used.\n",
      "\n"
     ]
    },
    {
     "data": {
      "text/html": [],
      "text/plain": [
       "<IPython.core.display.HTML object>"
      ]
     },
     "metadata": {},
     "output_type": "display_data"
    },
    {
     "data": {
      "text/html": [
       "<br>    <style><br>        .wandb-row {<br>            display: flex;<br>            flex-direction: row;<br>            flex-wrap: wrap;<br>            justify-content: flex-start;<br>            width: 100%;<br>        }<br>        .wandb-col {<br>            display: flex;<br>            flex-direction: column;<br>            flex-basis: 100%;<br>            flex: 1;<br>            padding: 10px;<br>        }<br>    </style><br><div class=\"wandb-row\"><div class=\"wandb-col\"><h3>Run history:</h3><br/><table class=\"wandb\"><tr><td>accuracy</td><td>▁</td></tr><tr><td>f1_score</td><td>▁</td></tr><tr><td>precision</td><td>▁</td></tr><tr><td>recall</td><td>▁</td></tr></table><br/></div><div class=\"wandb-col\"><h3>Run summary:</h3><br/><table class=\"wandb\"><tr><td>accuracy</td><td>0.44177</td></tr><tr><td>f1_score</td><td>0.4218</td></tr><tr><td>precision</td><td>0.41641</td></tr><tr><td>recall</td><td>0.44177</td></tr></table><br/></div></div>"
      ],
      "text/plain": [
       "<IPython.core.display.HTML object>"
      ]
     },
     "metadata": {},
     "output_type": "display_data"
    },
    {
     "data": {
      "text/html": [
       " View run <strong style=\"color:#cdcd00\">major-sweep-15</strong> at: <a href='https://wandb.ai/urik-voevidka-ukrainian-catholic-university/ui-classification-experiments/runs/ds5bhs87' target=\"_blank\">https://wandb.ai/urik-voevidka-ukrainian-catholic-university/ui-classification-experiments/runs/ds5bhs87</a><br> View project at: <a href='https://wandb.ai/urik-voevidka-ukrainian-catholic-university/ui-classification-experiments' target=\"_blank\">https://wandb.ai/urik-voevidka-ukrainian-catholic-university/ui-classification-experiments</a><br>Synced 5 W&B file(s), 0 media file(s), 0 artifact file(s) and 0 other file(s)"
      ],
      "text/plain": [
       "<IPython.core.display.HTML object>"
      ]
     },
     "metadata": {},
     "output_type": "display_data"
    },
    {
     "data": {
      "text/html": [
       "Find logs at: <code>./wandb/run-20250223_152732-ds5bhs87/logs</code>"
      ],
      "text/plain": [
       "<IPython.core.display.HTML object>"
      ]
     },
     "metadata": {},
     "output_type": "display_data"
    },
    {
     "name": "stderr",
     "output_type": "stream",
     "text": [
      "\u001b[34m\u001b[1mwandb\u001b[0m: Agent Starting Run: 9n508syv with config:\n",
      "\u001b[34m\u001b[1mwandb\u001b[0m: \tbooster: gbtree\n",
      "\u001b[34m\u001b[1mwandb\u001b[0m: \tlearning_rate: 0.05\n",
      "\u001b[34m\u001b[1mwandb\u001b[0m: \tmax_depth: 9\n",
      "\u001b[34m\u001b[1mwandb\u001b[0m: \tsubsample: 0.3\n"
     ]
    },
    {
     "data": {
      "text/html": [
       "Tracking run with wandb version 0.19.7"
      ],
      "text/plain": [
       "<IPython.core.display.HTML object>"
      ]
     },
     "metadata": {},
     "output_type": "display_data"
    },
    {
     "data": {
      "text/html": [
       "Run data is saved locally in <code>/Users/yuriivoievidka/UCU/CV/cv-project/src/experiments/wandb/run-20250223_152738-9n508syv</code>"
      ],
      "text/plain": [
       "<IPython.core.display.HTML object>"
      ]
     },
     "metadata": {},
     "output_type": "display_data"
    },
    {
     "data": {
      "text/html": [
       "Syncing run <strong><a href='https://wandb.ai/urik-voevidka-ukrainian-catholic-university/ui-classification-experiments/runs/9n508syv' target=\"_blank\">logical-sweep-16</a></strong> to <a href='https://wandb.ai/urik-voevidka-ukrainian-catholic-university/ui-classification-experiments' target=\"_blank\">Weights & Biases</a> (<a href='https://wandb.me/developer-guide' target=\"_blank\">docs</a>)<br>Sweep page: <a href='https://wandb.ai/urik-voevidka-ukrainian-catholic-university/ui-classification-experiments/sweeps/9rkuh7kp' target=\"_blank\">https://wandb.ai/urik-voevidka-ukrainian-catholic-university/ui-classification-experiments/sweeps/9rkuh7kp</a>"
      ],
      "text/plain": [
       "<IPython.core.display.HTML object>"
      ]
     },
     "metadata": {},
     "output_type": "display_data"
    },
    {
     "data": {
      "text/html": [
       " View project at <a href='https://wandb.ai/urik-voevidka-ukrainian-catholic-university/ui-classification-experiments' target=\"_blank\">https://wandb.ai/urik-voevidka-ukrainian-catholic-university/ui-classification-experiments</a>"
      ],
      "text/plain": [
       "<IPython.core.display.HTML object>"
      ]
     },
     "metadata": {},
     "output_type": "display_data"
    },
    {
     "data": {
      "text/html": [
       " View sweep at <a href='https://wandb.ai/urik-voevidka-ukrainian-catholic-university/ui-classification-experiments/sweeps/9rkuh7kp' target=\"_blank\">https://wandb.ai/urik-voevidka-ukrainian-catholic-university/ui-classification-experiments/sweeps/9rkuh7kp</a>"
      ],
      "text/plain": [
       "<IPython.core.display.HTML object>"
      ]
     },
     "metadata": {},
     "output_type": "display_data"
    },
    {
     "data": {
      "text/html": [
       " View run at <a href='https://wandb.ai/urik-voevidka-ukrainian-catholic-university/ui-classification-experiments/runs/9n508syv' target=\"_blank\">https://wandb.ai/urik-voevidka-ukrainian-catholic-university/ui-classification-experiments/runs/9n508syv</a>"
      ],
      "text/plain": [
       "<IPython.core.display.HTML object>"
      ]
     },
     "metadata": {},
     "output_type": "display_data"
    },
    {
     "data": {
      "text/html": [],
      "text/plain": [
       "<IPython.core.display.HTML object>"
      ]
     },
     "metadata": {},
     "output_type": "display_data"
    },
    {
     "data": {
      "text/html": [
       "<br>    <style><br>        .wandb-row {<br>            display: flex;<br>            flex-direction: row;<br>            flex-wrap: wrap;<br>            justify-content: flex-start;<br>            width: 100%;<br>        }<br>        .wandb-col {<br>            display: flex;<br>            flex-direction: column;<br>            flex-basis: 100%;<br>            flex: 1;<br>            padding: 10px;<br>        }<br>    </style><br><div class=\"wandb-row\"><div class=\"wandb-col\"><h3>Run history:</h3><br/><table class=\"wandb\"><tr><td>accuracy</td><td>▁</td></tr><tr><td>f1_score</td><td>▁</td></tr><tr><td>precision</td><td>▁</td></tr><tr><td>recall</td><td>▁</td></tr></table><br/></div><div class=\"wandb-col\"><h3>Run summary:</h3><br/><table class=\"wandb\"><tr><td>accuracy</td><td>0.45944</td></tr><tr><td>f1_score</td><td>0.43272</td></tr><tr><td>precision</td><td>0.41005</td></tr><tr><td>recall</td><td>0.45944</td></tr></table><br/></div></div>"
      ],
      "text/plain": [
       "<IPython.core.display.HTML object>"
      ]
     },
     "metadata": {},
     "output_type": "display_data"
    },
    {
     "data": {
      "text/html": [
       " View run <strong style=\"color:#cdcd00\">logical-sweep-16</strong> at: <a href='https://wandb.ai/urik-voevidka-ukrainian-catholic-university/ui-classification-experiments/runs/9n508syv' target=\"_blank\">https://wandb.ai/urik-voevidka-ukrainian-catholic-university/ui-classification-experiments/runs/9n508syv</a><br> View project at: <a href='https://wandb.ai/urik-voevidka-ukrainian-catholic-university/ui-classification-experiments' target=\"_blank\">https://wandb.ai/urik-voevidka-ukrainian-catholic-university/ui-classification-experiments</a><br>Synced 5 W&B file(s), 0 media file(s), 0 artifact file(s) and 0 other file(s)"
      ],
      "text/plain": [
       "<IPython.core.display.HTML object>"
      ]
     },
     "metadata": {},
     "output_type": "display_data"
    },
    {
     "data": {
      "text/html": [
       "Find logs at: <code>./wandb/run-20250223_152738-9n508syv/logs</code>"
      ],
      "text/plain": [
       "<IPython.core.display.HTML object>"
      ]
     },
     "metadata": {},
     "output_type": "display_data"
    },
    {
     "name": "stderr",
     "output_type": "stream",
     "text": [
      "\u001b[34m\u001b[1mwandb\u001b[0m: Agent Starting Run: jx2unpfo with config:\n",
      "\u001b[34m\u001b[1mwandb\u001b[0m: \tbooster: gbtree\n",
      "\u001b[34m\u001b[1mwandb\u001b[0m: \tlearning_rate: 0.05\n",
      "\u001b[34m\u001b[1mwandb\u001b[0m: \tmax_depth: 6\n",
      "\u001b[34m\u001b[1mwandb\u001b[0m: \tsubsample: 0.3\n"
     ]
    },
    {
     "data": {
      "text/html": [
       "Tracking run with wandb version 0.19.7"
      ],
      "text/plain": [
       "<IPython.core.display.HTML object>"
      ]
     },
     "metadata": {},
     "output_type": "display_data"
    },
    {
     "data": {
      "text/html": [
       "Run data is saved locally in <code>/Users/yuriivoievidka/UCU/CV/cv-project/src/experiments/wandb/run-20250223_152748-jx2unpfo</code>"
      ],
      "text/plain": [
       "<IPython.core.display.HTML object>"
      ]
     },
     "metadata": {},
     "output_type": "display_data"
    },
    {
     "data": {
      "text/html": [
       "Syncing run <strong><a href='https://wandb.ai/urik-voevidka-ukrainian-catholic-university/ui-classification-experiments/runs/jx2unpfo' target=\"_blank\">dry-sweep-17</a></strong> to <a href='https://wandb.ai/urik-voevidka-ukrainian-catholic-university/ui-classification-experiments' target=\"_blank\">Weights & Biases</a> (<a href='https://wandb.me/developer-guide' target=\"_blank\">docs</a>)<br>Sweep page: <a href='https://wandb.ai/urik-voevidka-ukrainian-catholic-university/ui-classification-experiments/sweeps/9rkuh7kp' target=\"_blank\">https://wandb.ai/urik-voevidka-ukrainian-catholic-university/ui-classification-experiments/sweeps/9rkuh7kp</a>"
      ],
      "text/plain": [
       "<IPython.core.display.HTML object>"
      ]
     },
     "metadata": {},
     "output_type": "display_data"
    },
    {
     "data": {
      "text/html": [
       " View project at <a href='https://wandb.ai/urik-voevidka-ukrainian-catholic-university/ui-classification-experiments' target=\"_blank\">https://wandb.ai/urik-voevidka-ukrainian-catholic-university/ui-classification-experiments</a>"
      ],
      "text/plain": [
       "<IPython.core.display.HTML object>"
      ]
     },
     "metadata": {},
     "output_type": "display_data"
    },
    {
     "data": {
      "text/html": [
       " View sweep at <a href='https://wandb.ai/urik-voevidka-ukrainian-catholic-university/ui-classification-experiments/sweeps/9rkuh7kp' target=\"_blank\">https://wandb.ai/urik-voevidka-ukrainian-catholic-university/ui-classification-experiments/sweeps/9rkuh7kp</a>"
      ],
      "text/plain": [
       "<IPython.core.display.HTML object>"
      ]
     },
     "metadata": {},
     "output_type": "display_data"
    },
    {
     "data": {
      "text/html": [
       " View run at <a href='https://wandb.ai/urik-voevidka-ukrainian-catholic-university/ui-classification-experiments/runs/jx2unpfo' target=\"_blank\">https://wandb.ai/urik-voevidka-ukrainian-catholic-university/ui-classification-experiments/runs/jx2unpfo</a>"
      ],
      "text/plain": [
       "<IPython.core.display.HTML object>"
      ]
     },
     "metadata": {},
     "output_type": "display_data"
    },
    {
     "data": {
      "text/html": [],
      "text/plain": [
       "<IPython.core.display.HTML object>"
      ]
     },
     "metadata": {},
     "output_type": "display_data"
    },
    {
     "data": {
      "text/html": [
       "<br>    <style><br>        .wandb-row {<br>            display: flex;<br>            flex-direction: row;<br>            flex-wrap: wrap;<br>            justify-content: flex-start;<br>            width: 100%;<br>        }<br>        .wandb-col {<br>            display: flex;<br>            flex-direction: column;<br>            flex-basis: 100%;<br>            flex: 1;<br>            padding: 10px;<br>        }<br>    </style><br><div class=\"wandb-row\"><div class=\"wandb-col\"><h3>Run history:</h3><br/><table class=\"wandb\"><tr><td>accuracy</td><td>▁</td></tr><tr><td>f1_score</td><td>▁</td></tr><tr><td>precision</td><td>▁</td></tr><tr><td>recall</td><td>▁</td></tr></table><br/></div><div class=\"wandb-col\"><h3>Run summary:</h3><br/><table class=\"wandb\"><tr><td>accuracy</td><td>0.44819</td></tr><tr><td>f1_score</td><td>0.42198</td></tr><tr><td>precision</td><td>0.39914</td></tr><tr><td>recall</td><td>0.44819</td></tr></table><br/></div></div>"
      ],
      "text/plain": [
       "<IPython.core.display.HTML object>"
      ]
     },
     "metadata": {},
     "output_type": "display_data"
    },
    {
     "data": {
      "text/html": [
       " View run <strong style=\"color:#cdcd00\">dry-sweep-17</strong> at: <a href='https://wandb.ai/urik-voevidka-ukrainian-catholic-university/ui-classification-experiments/runs/jx2unpfo' target=\"_blank\">https://wandb.ai/urik-voevidka-ukrainian-catholic-university/ui-classification-experiments/runs/jx2unpfo</a><br> View project at: <a href='https://wandb.ai/urik-voevidka-ukrainian-catholic-university/ui-classification-experiments' target=\"_blank\">https://wandb.ai/urik-voevidka-ukrainian-catholic-university/ui-classification-experiments</a><br>Synced 5 W&B file(s), 0 media file(s), 0 artifact file(s) and 0 other file(s)"
      ],
      "text/plain": [
       "<IPython.core.display.HTML object>"
      ]
     },
     "metadata": {},
     "output_type": "display_data"
    },
    {
     "data": {
      "text/html": [
       "Find logs at: <code>./wandb/run-20250223_152748-jx2unpfo/logs</code>"
      ],
      "text/plain": [
       "<IPython.core.display.HTML object>"
      ]
     },
     "metadata": {},
     "output_type": "display_data"
    },
    {
     "name": "stderr",
     "output_type": "stream",
     "text": [
      "\u001b[34m\u001b[1mwandb\u001b[0m: Sweep Agent: Waiting for job.\n",
      "\u001b[34m\u001b[1mwandb\u001b[0m: Job received.\n",
      "\u001b[34m\u001b[1mwandb\u001b[0m: Agent Starting Run: v2k87jv5 with config:\n",
      "\u001b[34m\u001b[1mwandb\u001b[0m: \tbooster: gblinear\n",
      "\u001b[34m\u001b[1mwandb\u001b[0m: \tlearning_rate: 0.05\n",
      "\u001b[34m\u001b[1mwandb\u001b[0m: \tmax_depth: 3\n",
      "\u001b[34m\u001b[1mwandb\u001b[0m: \tsubsample: 0.3\n"
     ]
    },
    {
     "data": {
      "text/html": [
       "Tracking run with wandb version 0.19.7"
      ],
      "text/plain": [
       "<IPython.core.display.HTML object>"
      ]
     },
     "metadata": {},
     "output_type": "display_data"
    },
    {
     "data": {
      "text/html": [
       "Run data is saved locally in <code>/Users/yuriivoievidka/UCU/CV/cv-project/src/experiments/wandb/run-20250223_152804-v2k87jv5</code>"
      ],
      "text/plain": [
       "<IPython.core.display.HTML object>"
      ]
     },
     "metadata": {},
     "output_type": "display_data"
    },
    {
     "data": {
      "text/html": [
       "Syncing run <strong><a href='https://wandb.ai/urik-voevidka-ukrainian-catholic-university/ui-classification-experiments/runs/v2k87jv5' target=\"_blank\">vibrant-sweep-18</a></strong> to <a href='https://wandb.ai/urik-voevidka-ukrainian-catholic-university/ui-classification-experiments' target=\"_blank\">Weights & Biases</a> (<a href='https://wandb.me/developer-guide' target=\"_blank\">docs</a>)<br>Sweep page: <a href='https://wandb.ai/urik-voevidka-ukrainian-catholic-university/ui-classification-experiments/sweeps/9rkuh7kp' target=\"_blank\">https://wandb.ai/urik-voevidka-ukrainian-catholic-university/ui-classification-experiments/sweeps/9rkuh7kp</a>"
      ],
      "text/plain": [
       "<IPython.core.display.HTML object>"
      ]
     },
     "metadata": {},
     "output_type": "display_data"
    },
    {
     "data": {
      "text/html": [
       " View project at <a href='https://wandb.ai/urik-voevidka-ukrainian-catholic-university/ui-classification-experiments' target=\"_blank\">https://wandb.ai/urik-voevidka-ukrainian-catholic-university/ui-classification-experiments</a>"
      ],
      "text/plain": [
       "<IPython.core.display.HTML object>"
      ]
     },
     "metadata": {},
     "output_type": "display_data"
    },
    {
     "data": {
      "text/html": [
       " View sweep at <a href='https://wandb.ai/urik-voevidka-ukrainian-catholic-university/ui-classification-experiments/sweeps/9rkuh7kp' target=\"_blank\">https://wandb.ai/urik-voevidka-ukrainian-catholic-university/ui-classification-experiments/sweeps/9rkuh7kp</a>"
      ],
      "text/plain": [
       "<IPython.core.display.HTML object>"
      ]
     },
     "metadata": {},
     "output_type": "display_data"
    },
    {
     "data": {
      "text/html": [
       " View run at <a href='https://wandb.ai/urik-voevidka-ukrainian-catholic-university/ui-classification-experiments/runs/v2k87jv5' target=\"_blank\">https://wandb.ai/urik-voevidka-ukrainian-catholic-university/ui-classification-experiments/runs/v2k87jv5</a>"
      ],
      "text/plain": [
       "<IPython.core.display.HTML object>"
      ]
     },
     "metadata": {},
     "output_type": "display_data"
    },
    {
     "name": "stderr",
     "output_type": "stream",
     "text": [
      "[15:28:04] WARNING: /Users/runner/work/xgboost/xgboost/src/learner.cc:740: \n",
      "Parameters: { \"max_depth\", \"subsample\" } are not used.\n",
      "\n"
     ]
    },
    {
     "data": {
      "text/html": [],
      "text/plain": [
       "<IPython.core.display.HTML object>"
      ]
     },
     "metadata": {},
     "output_type": "display_data"
    },
    {
     "data": {
      "text/html": [
       "<br>    <style><br>        .wandb-row {<br>            display: flex;<br>            flex-direction: row;<br>            flex-wrap: wrap;<br>            justify-content: flex-start;<br>            width: 100%;<br>        }<br>        .wandb-col {<br>            display: flex;<br>            flex-direction: column;<br>            flex-basis: 100%;<br>            flex: 1;<br>            padding: 10px;<br>        }<br>    </style><br><div class=\"wandb-row\"><div class=\"wandb-col\"><h3>Run history:</h3><br/><table class=\"wandb\"><tr><td>accuracy</td><td>▁</td></tr><tr><td>f1_score</td><td>▁</td></tr><tr><td>precision</td><td>▁</td></tr><tr><td>recall</td><td>▁</td></tr></table><br/></div><div class=\"wandb-col\"><h3>Run summary:</h3><br/><table class=\"wandb\"><tr><td>accuracy</td><td>0.44096</td></tr><tr><td>f1_score</td><td>0.42114</td></tr><tr><td>precision</td><td>0.41561</td></tr><tr><td>recall</td><td>0.44096</td></tr></table><br/></div></div>"
      ],
      "text/plain": [
       "<IPython.core.display.HTML object>"
      ]
     },
     "metadata": {},
     "output_type": "display_data"
    },
    {
     "data": {
      "text/html": [
       " View run <strong style=\"color:#cdcd00\">vibrant-sweep-18</strong> at: <a href='https://wandb.ai/urik-voevidka-ukrainian-catholic-university/ui-classification-experiments/runs/v2k87jv5' target=\"_blank\">https://wandb.ai/urik-voevidka-ukrainian-catholic-university/ui-classification-experiments/runs/v2k87jv5</a><br> View project at: <a href='https://wandb.ai/urik-voevidka-ukrainian-catholic-university/ui-classification-experiments' target=\"_blank\">https://wandb.ai/urik-voevidka-ukrainian-catholic-university/ui-classification-experiments</a><br>Synced 5 W&B file(s), 0 media file(s), 0 artifact file(s) and 0 other file(s)"
      ],
      "text/plain": [
       "<IPython.core.display.HTML object>"
      ]
     },
     "metadata": {},
     "output_type": "display_data"
    },
    {
     "data": {
      "text/html": [
       "Find logs at: <code>./wandb/run-20250223_152804-v2k87jv5/logs</code>"
      ],
      "text/plain": [
       "<IPython.core.display.HTML object>"
      ]
     },
     "metadata": {},
     "output_type": "display_data"
    },
    {
     "name": "stderr",
     "output_type": "stream",
     "text": [
      "\u001b[34m\u001b[1mwandb\u001b[0m: Agent Starting Run: 41f3b4hs with config:\n",
      "\u001b[34m\u001b[1mwandb\u001b[0m: \tbooster: gblinear\n",
      "\u001b[34m\u001b[1mwandb\u001b[0m: \tlearning_rate: 0.05\n",
      "\u001b[34m\u001b[1mwandb\u001b[0m: \tmax_depth: 6\n",
      "\u001b[34m\u001b[1mwandb\u001b[0m: \tsubsample: 0.5\n"
     ]
    },
    {
     "data": {
      "text/html": [
       "Tracking run with wandb version 0.19.7"
      ],
      "text/plain": [
       "<IPython.core.display.HTML object>"
      ]
     },
     "metadata": {},
     "output_type": "display_data"
    },
    {
     "data": {
      "text/html": [
       "Run data is saved locally in <code>/Users/yuriivoievidka/UCU/CV/cv-project/src/experiments/wandb/run-20250223_152809-41f3b4hs</code>"
      ],
      "text/plain": [
       "<IPython.core.display.HTML object>"
      ]
     },
     "metadata": {},
     "output_type": "display_data"
    },
    {
     "data": {
      "text/html": [
       "Syncing run <strong><a href='https://wandb.ai/urik-voevidka-ukrainian-catholic-university/ui-classification-experiments/runs/41f3b4hs' target=\"_blank\">frosty-sweep-19</a></strong> to <a href='https://wandb.ai/urik-voevidka-ukrainian-catholic-university/ui-classification-experiments' target=\"_blank\">Weights & Biases</a> (<a href='https://wandb.me/developer-guide' target=\"_blank\">docs</a>)<br>Sweep page: <a href='https://wandb.ai/urik-voevidka-ukrainian-catholic-university/ui-classification-experiments/sweeps/9rkuh7kp' target=\"_blank\">https://wandb.ai/urik-voevidka-ukrainian-catholic-university/ui-classification-experiments/sweeps/9rkuh7kp</a>"
      ],
      "text/plain": [
       "<IPython.core.display.HTML object>"
      ]
     },
     "metadata": {},
     "output_type": "display_data"
    },
    {
     "data": {
      "text/html": [
       " View project at <a href='https://wandb.ai/urik-voevidka-ukrainian-catholic-university/ui-classification-experiments' target=\"_blank\">https://wandb.ai/urik-voevidka-ukrainian-catholic-university/ui-classification-experiments</a>"
      ],
      "text/plain": [
       "<IPython.core.display.HTML object>"
      ]
     },
     "metadata": {},
     "output_type": "display_data"
    },
    {
     "data": {
      "text/html": [
       " View sweep at <a href='https://wandb.ai/urik-voevidka-ukrainian-catholic-university/ui-classification-experiments/sweeps/9rkuh7kp' target=\"_blank\">https://wandb.ai/urik-voevidka-ukrainian-catholic-university/ui-classification-experiments/sweeps/9rkuh7kp</a>"
      ],
      "text/plain": [
       "<IPython.core.display.HTML object>"
      ]
     },
     "metadata": {},
     "output_type": "display_data"
    },
    {
     "data": {
      "text/html": [
       " View run at <a href='https://wandb.ai/urik-voevidka-ukrainian-catholic-university/ui-classification-experiments/runs/41f3b4hs' target=\"_blank\">https://wandb.ai/urik-voevidka-ukrainian-catholic-university/ui-classification-experiments/runs/41f3b4hs</a>"
      ],
      "text/plain": [
       "<IPython.core.display.HTML object>"
      ]
     },
     "metadata": {},
     "output_type": "display_data"
    },
    {
     "name": "stderr",
     "output_type": "stream",
     "text": [
      "[15:28:10] WARNING: /Users/runner/work/xgboost/xgboost/src/learner.cc:740: \n",
      "Parameters: { \"max_depth\", \"subsample\" } are not used.\n",
      "\n"
     ]
    },
    {
     "data": {
      "text/html": [],
      "text/plain": [
       "<IPython.core.display.HTML object>"
      ]
     },
     "metadata": {},
     "output_type": "display_data"
    },
    {
     "data": {
      "text/html": [
       "<br>    <style><br>        .wandb-row {<br>            display: flex;<br>            flex-direction: row;<br>            flex-wrap: wrap;<br>            justify-content: flex-start;<br>            width: 100%;<br>        }<br>        .wandb-col {<br>            display: flex;<br>            flex-direction: column;<br>            flex-basis: 100%;<br>            flex: 1;<br>            padding: 10px;<br>        }<br>    </style><br><div class=\"wandb-row\"><div class=\"wandb-col\"><h3>Run history:</h3><br/><table class=\"wandb\"><tr><td>accuracy</td><td>▁</td></tr><tr><td>f1_score</td><td>▁</td></tr><tr><td>precision</td><td>▁</td></tr><tr><td>recall</td><td>▁</td></tr></table><br/></div><div class=\"wandb-col\"><h3>Run summary:</h3><br/><table class=\"wandb\"><tr><td>accuracy</td><td>0.44096</td></tr><tr><td>f1_score</td><td>0.42114</td></tr><tr><td>precision</td><td>0.41561</td></tr><tr><td>recall</td><td>0.44096</td></tr></table><br/></div></div>"
      ],
      "text/plain": [
       "<IPython.core.display.HTML object>"
      ]
     },
     "metadata": {},
     "output_type": "display_data"
    },
    {
     "data": {
      "text/html": [
       " View run <strong style=\"color:#cdcd00\">frosty-sweep-19</strong> at: <a href='https://wandb.ai/urik-voevidka-ukrainian-catholic-university/ui-classification-experiments/runs/41f3b4hs' target=\"_blank\">https://wandb.ai/urik-voevidka-ukrainian-catholic-university/ui-classification-experiments/runs/41f3b4hs</a><br> View project at: <a href='https://wandb.ai/urik-voevidka-ukrainian-catholic-university/ui-classification-experiments' target=\"_blank\">https://wandb.ai/urik-voevidka-ukrainian-catholic-university/ui-classification-experiments</a><br>Synced 5 W&B file(s), 0 media file(s), 0 artifact file(s) and 0 other file(s)"
      ],
      "text/plain": [
       "<IPython.core.display.HTML object>"
      ]
     },
     "metadata": {},
     "output_type": "display_data"
    },
    {
     "data": {
      "text/html": [
       "Find logs at: <code>./wandb/run-20250223_152809-41f3b4hs/logs</code>"
      ],
      "text/plain": [
       "<IPython.core.display.HTML object>"
      ]
     },
     "metadata": {},
     "output_type": "display_data"
    },
    {
     "name": "stderr",
     "output_type": "stream",
     "text": [
      "\u001b[34m\u001b[1mwandb\u001b[0m: Agent Starting Run: b1e0y4cr with config:\n",
      "\u001b[34m\u001b[1mwandb\u001b[0m: \tbooster: gbtree\n",
      "\u001b[34m\u001b[1mwandb\u001b[0m: \tlearning_rate: 0.2\n",
      "\u001b[34m\u001b[1mwandb\u001b[0m: \tmax_depth: 12\n",
      "\u001b[34m\u001b[1mwandb\u001b[0m: \tsubsample: 0.5\n"
     ]
    },
    {
     "data": {
      "text/html": [
       "Tracking run with wandb version 0.19.7"
      ],
      "text/plain": [
       "<IPython.core.display.HTML object>"
      ]
     },
     "metadata": {},
     "output_type": "display_data"
    },
    {
     "data": {
      "text/html": [
       "Run data is saved locally in <code>/Users/yuriivoievidka/UCU/CV/cv-project/src/experiments/wandb/run-20250223_152815-b1e0y4cr</code>"
      ],
      "text/plain": [
       "<IPython.core.display.HTML object>"
      ]
     },
     "metadata": {},
     "output_type": "display_data"
    },
    {
     "data": {
      "text/html": [
       "Syncing run <strong><a href='https://wandb.ai/urik-voevidka-ukrainian-catholic-university/ui-classification-experiments/runs/b1e0y4cr' target=\"_blank\">glamorous-sweep-20</a></strong> to <a href='https://wandb.ai/urik-voevidka-ukrainian-catholic-university/ui-classification-experiments' target=\"_blank\">Weights & Biases</a> (<a href='https://wandb.me/developer-guide' target=\"_blank\">docs</a>)<br>Sweep page: <a href='https://wandb.ai/urik-voevidka-ukrainian-catholic-university/ui-classification-experiments/sweeps/9rkuh7kp' target=\"_blank\">https://wandb.ai/urik-voevidka-ukrainian-catholic-university/ui-classification-experiments/sweeps/9rkuh7kp</a>"
      ],
      "text/plain": [
       "<IPython.core.display.HTML object>"
      ]
     },
     "metadata": {},
     "output_type": "display_data"
    },
    {
     "data": {
      "text/html": [
       " View project at <a href='https://wandb.ai/urik-voevidka-ukrainian-catholic-university/ui-classification-experiments' target=\"_blank\">https://wandb.ai/urik-voevidka-ukrainian-catholic-university/ui-classification-experiments</a>"
      ],
      "text/plain": [
       "<IPython.core.display.HTML object>"
      ]
     },
     "metadata": {},
     "output_type": "display_data"
    },
    {
     "data": {
      "text/html": [
       " View sweep at <a href='https://wandb.ai/urik-voevidka-ukrainian-catholic-university/ui-classification-experiments/sweeps/9rkuh7kp' target=\"_blank\">https://wandb.ai/urik-voevidka-ukrainian-catholic-university/ui-classification-experiments/sweeps/9rkuh7kp</a>"
      ],
      "text/plain": [
       "<IPython.core.display.HTML object>"
      ]
     },
     "metadata": {},
     "output_type": "display_data"
    },
    {
     "data": {
      "text/html": [
       " View run at <a href='https://wandb.ai/urik-voevidka-ukrainian-catholic-university/ui-classification-experiments/runs/b1e0y4cr' target=\"_blank\">https://wandb.ai/urik-voevidka-ukrainian-catholic-university/ui-classification-experiments/runs/b1e0y4cr</a>"
      ],
      "text/plain": [
       "<IPython.core.display.HTML object>"
      ]
     },
     "metadata": {},
     "output_type": "display_data"
    },
    {
     "data": {
      "text/html": [],
      "text/plain": [
       "<IPython.core.display.HTML object>"
      ]
     },
     "metadata": {},
     "output_type": "display_data"
    },
    {
     "data": {
      "text/html": [
       "<br>    <style><br>        .wandb-row {<br>            display: flex;<br>            flex-direction: row;<br>            flex-wrap: wrap;<br>            justify-content: flex-start;<br>            width: 100%;<br>        }<br>        .wandb-col {<br>            display: flex;<br>            flex-direction: column;<br>            flex-basis: 100%;<br>            flex: 1;<br>            padding: 10px;<br>        }<br>    </style><br><div class=\"wandb-row\"><div class=\"wandb-col\"><h3>Run history:</h3><br/><table class=\"wandb\"><tr><td>accuracy</td><td>▁</td></tr><tr><td>f1_score</td><td>▁</td></tr><tr><td>precision</td><td>▁</td></tr><tr><td>recall</td><td>▁</td></tr></table><br/></div><div class=\"wandb-col\"><h3>Run summary:</h3><br/><table class=\"wandb\"><tr><td>accuracy</td><td>0.42972</td></tr><tr><td>f1_score</td><td>0.40696</td></tr><tr><td>precision</td><td>0.39646</td></tr><tr><td>recall</td><td>0.42972</td></tr></table><br/></div></div>"
      ],
      "text/plain": [
       "<IPython.core.display.HTML object>"
      ]
     },
     "metadata": {},
     "output_type": "display_data"
    },
    {
     "data": {
      "text/html": [
       " View run <strong style=\"color:#cdcd00\">glamorous-sweep-20</strong> at: <a href='https://wandb.ai/urik-voevidka-ukrainian-catholic-university/ui-classification-experiments/runs/b1e0y4cr' target=\"_blank\">https://wandb.ai/urik-voevidka-ukrainian-catholic-university/ui-classification-experiments/runs/b1e0y4cr</a><br> View project at: <a href='https://wandb.ai/urik-voevidka-ukrainian-catholic-university/ui-classification-experiments' target=\"_blank\">https://wandb.ai/urik-voevidka-ukrainian-catholic-university/ui-classification-experiments</a><br>Synced 5 W&B file(s), 0 media file(s), 0 artifact file(s) and 0 other file(s)"
      ],
      "text/plain": [
       "<IPython.core.display.HTML object>"
      ]
     },
     "metadata": {},
     "output_type": "display_data"
    },
    {
     "data": {
      "text/html": [
       "Find logs at: <code>./wandb/run-20250223_152815-b1e0y4cr/logs</code>"
      ],
      "text/plain": [
       "<IPython.core.display.HTML object>"
      ]
     },
     "metadata": {},
     "output_type": "display_data"
    },
    {
     "name": "stderr",
     "output_type": "stream",
     "text": [
      "\u001b[34m\u001b[1mwandb\u001b[0m: Agent Starting Run: ek26xipq with config:\n",
      "\u001b[34m\u001b[1mwandb\u001b[0m: \tbooster: gblinear\n",
      "\u001b[34m\u001b[1mwandb\u001b[0m: \tlearning_rate: 0.05\n",
      "\u001b[34m\u001b[1mwandb\u001b[0m: \tmax_depth: 12\n",
      "\u001b[34m\u001b[1mwandb\u001b[0m: \tsubsample: 0.3\n"
     ]
    },
    {
     "data": {
      "text/html": [
       "Tracking run with wandb version 0.19.7"
      ],
      "text/plain": [
       "<IPython.core.display.HTML object>"
      ]
     },
     "metadata": {},
     "output_type": "display_data"
    },
    {
     "data": {
      "text/html": [
       "Run data is saved locally in <code>/Users/yuriivoievidka/UCU/CV/cv-project/src/experiments/wandb/run-20250223_152825-ek26xipq</code>"
      ],
      "text/plain": [
       "<IPython.core.display.HTML object>"
      ]
     },
     "metadata": {},
     "output_type": "display_data"
    },
    {
     "data": {
      "text/html": [
       "Syncing run <strong><a href='https://wandb.ai/urik-voevidka-ukrainian-catholic-university/ui-classification-experiments/runs/ek26xipq' target=\"_blank\">splendid-sweep-21</a></strong> to <a href='https://wandb.ai/urik-voevidka-ukrainian-catholic-university/ui-classification-experiments' target=\"_blank\">Weights & Biases</a> (<a href='https://wandb.me/developer-guide' target=\"_blank\">docs</a>)<br>Sweep page: <a href='https://wandb.ai/urik-voevidka-ukrainian-catholic-university/ui-classification-experiments/sweeps/9rkuh7kp' target=\"_blank\">https://wandb.ai/urik-voevidka-ukrainian-catholic-university/ui-classification-experiments/sweeps/9rkuh7kp</a>"
      ],
      "text/plain": [
       "<IPython.core.display.HTML object>"
      ]
     },
     "metadata": {},
     "output_type": "display_data"
    },
    {
     "data": {
      "text/html": [
       " View project at <a href='https://wandb.ai/urik-voevidka-ukrainian-catholic-university/ui-classification-experiments' target=\"_blank\">https://wandb.ai/urik-voevidka-ukrainian-catholic-university/ui-classification-experiments</a>"
      ],
      "text/plain": [
       "<IPython.core.display.HTML object>"
      ]
     },
     "metadata": {},
     "output_type": "display_data"
    },
    {
     "data": {
      "text/html": [
       " View sweep at <a href='https://wandb.ai/urik-voevidka-ukrainian-catholic-university/ui-classification-experiments/sweeps/9rkuh7kp' target=\"_blank\">https://wandb.ai/urik-voevidka-ukrainian-catholic-university/ui-classification-experiments/sweeps/9rkuh7kp</a>"
      ],
      "text/plain": [
       "<IPython.core.display.HTML object>"
      ]
     },
     "metadata": {},
     "output_type": "display_data"
    },
    {
     "data": {
      "text/html": [
       " View run at <a href='https://wandb.ai/urik-voevidka-ukrainian-catholic-university/ui-classification-experiments/runs/ek26xipq' target=\"_blank\">https://wandb.ai/urik-voevidka-ukrainian-catholic-university/ui-classification-experiments/runs/ek26xipq</a>"
      ],
      "text/plain": [
       "<IPython.core.display.HTML object>"
      ]
     },
     "metadata": {},
     "output_type": "display_data"
    },
    {
     "name": "stderr",
     "output_type": "stream",
     "text": [
      "[15:28:26] WARNING: /Users/runner/work/xgboost/xgboost/src/learner.cc:740: \n",
      "Parameters: { \"max_depth\", \"subsample\" } are not used.\n",
      "\n"
     ]
    },
    {
     "data": {
      "text/html": [],
      "text/plain": [
       "<IPython.core.display.HTML object>"
      ]
     },
     "metadata": {},
     "output_type": "display_data"
    },
    {
     "data": {
      "text/html": [
       "<br>    <style><br>        .wandb-row {<br>            display: flex;<br>            flex-direction: row;<br>            flex-wrap: wrap;<br>            justify-content: flex-start;<br>            width: 100%;<br>        }<br>        .wandb-col {<br>            display: flex;<br>            flex-direction: column;<br>            flex-basis: 100%;<br>            flex: 1;<br>            padding: 10px;<br>        }<br>    </style><br><div class=\"wandb-row\"><div class=\"wandb-col\"><h3>Run history:</h3><br/><table class=\"wandb\"><tr><td>accuracy</td><td>▁</td></tr><tr><td>f1_score</td><td>▁</td></tr><tr><td>precision</td><td>▁</td></tr><tr><td>recall</td><td>▁</td></tr></table><br/></div><div class=\"wandb-col\"><h3>Run summary:</h3><br/><table class=\"wandb\"><tr><td>accuracy</td><td>0.44177</td></tr><tr><td>f1_score</td><td>0.42187</td></tr><tr><td>precision</td><td>0.41637</td></tr><tr><td>recall</td><td>0.44177</td></tr></table><br/></div></div>"
      ],
      "text/plain": [
       "<IPython.core.display.HTML object>"
      ]
     },
     "metadata": {},
     "output_type": "display_data"
    },
    {
     "data": {
      "text/html": [
       " View run <strong style=\"color:#cdcd00\">splendid-sweep-21</strong> at: <a href='https://wandb.ai/urik-voevidka-ukrainian-catholic-university/ui-classification-experiments/runs/ek26xipq' target=\"_blank\">https://wandb.ai/urik-voevidka-ukrainian-catholic-university/ui-classification-experiments/runs/ek26xipq</a><br> View project at: <a href='https://wandb.ai/urik-voevidka-ukrainian-catholic-university/ui-classification-experiments' target=\"_blank\">https://wandb.ai/urik-voevidka-ukrainian-catholic-university/ui-classification-experiments</a><br>Synced 5 W&B file(s), 0 media file(s), 0 artifact file(s) and 0 other file(s)"
      ],
      "text/plain": [
       "<IPython.core.display.HTML object>"
      ]
     },
     "metadata": {},
     "output_type": "display_data"
    },
    {
     "data": {
      "text/html": [
       "Find logs at: <code>./wandb/run-20250223_152825-ek26xipq/logs</code>"
      ],
      "text/plain": [
       "<IPython.core.display.HTML object>"
      ]
     },
     "metadata": {},
     "output_type": "display_data"
    },
    {
     "name": "stderr",
     "output_type": "stream",
     "text": [
      "\u001b[34m\u001b[1mwandb\u001b[0m: Agent Starting Run: t0u8kwen with config:\n",
      "\u001b[34m\u001b[1mwandb\u001b[0m: \tbooster: gblinear\n",
      "\u001b[34m\u001b[1mwandb\u001b[0m: \tlearning_rate: 0.05\n",
      "\u001b[34m\u001b[1mwandb\u001b[0m: \tmax_depth: 6\n",
      "\u001b[34m\u001b[1mwandb\u001b[0m: \tsubsample: 1\n"
     ]
    },
    {
     "data": {
      "text/html": [
       "Tracking run with wandb version 0.19.7"
      ],
      "text/plain": [
       "<IPython.core.display.HTML object>"
      ]
     },
     "metadata": {},
     "output_type": "display_data"
    },
    {
     "data": {
      "text/html": [
       "Run data is saved locally in <code>/Users/yuriivoievidka/UCU/CV/cv-project/src/experiments/wandb/run-20250223_152831-t0u8kwen</code>"
      ],
      "text/plain": [
       "<IPython.core.display.HTML object>"
      ]
     },
     "metadata": {},
     "output_type": "display_data"
    },
    {
     "data": {
      "text/html": [
       "Syncing run <strong><a href='https://wandb.ai/urik-voevidka-ukrainian-catholic-university/ui-classification-experiments/runs/t0u8kwen' target=\"_blank\">resilient-sweep-22</a></strong> to <a href='https://wandb.ai/urik-voevidka-ukrainian-catholic-university/ui-classification-experiments' target=\"_blank\">Weights & Biases</a> (<a href='https://wandb.me/developer-guide' target=\"_blank\">docs</a>)<br>Sweep page: <a href='https://wandb.ai/urik-voevidka-ukrainian-catholic-university/ui-classification-experiments/sweeps/9rkuh7kp' target=\"_blank\">https://wandb.ai/urik-voevidka-ukrainian-catholic-university/ui-classification-experiments/sweeps/9rkuh7kp</a>"
      ],
      "text/plain": [
       "<IPython.core.display.HTML object>"
      ]
     },
     "metadata": {},
     "output_type": "display_data"
    },
    {
     "data": {
      "text/html": [
       " View project at <a href='https://wandb.ai/urik-voevidka-ukrainian-catholic-university/ui-classification-experiments' target=\"_blank\">https://wandb.ai/urik-voevidka-ukrainian-catholic-university/ui-classification-experiments</a>"
      ],
      "text/plain": [
       "<IPython.core.display.HTML object>"
      ]
     },
     "metadata": {},
     "output_type": "display_data"
    },
    {
     "data": {
      "text/html": [
       " View sweep at <a href='https://wandb.ai/urik-voevidka-ukrainian-catholic-university/ui-classification-experiments/sweeps/9rkuh7kp' target=\"_blank\">https://wandb.ai/urik-voevidka-ukrainian-catholic-university/ui-classification-experiments/sweeps/9rkuh7kp</a>"
      ],
      "text/plain": [
       "<IPython.core.display.HTML object>"
      ]
     },
     "metadata": {},
     "output_type": "display_data"
    },
    {
     "data": {
      "text/html": [
       " View run at <a href='https://wandb.ai/urik-voevidka-ukrainian-catholic-university/ui-classification-experiments/runs/t0u8kwen' target=\"_blank\">https://wandb.ai/urik-voevidka-ukrainian-catholic-university/ui-classification-experiments/runs/t0u8kwen</a>"
      ],
      "text/plain": [
       "<IPython.core.display.HTML object>"
      ]
     },
     "metadata": {},
     "output_type": "display_data"
    },
    {
     "name": "stderr",
     "output_type": "stream",
     "text": [
      "[15:28:31] WARNING: /Users/runner/work/xgboost/xgboost/src/learner.cc:740: \n",
      "Parameters: { \"max_depth\", \"subsample\" } are not used.\n",
      "\n"
     ]
    },
    {
     "data": {
      "text/html": [],
      "text/plain": [
       "<IPython.core.display.HTML object>"
      ]
     },
     "metadata": {},
     "output_type": "display_data"
    },
    {
     "data": {
      "text/html": [
       "<br>    <style><br>        .wandb-row {<br>            display: flex;<br>            flex-direction: row;<br>            flex-wrap: wrap;<br>            justify-content: flex-start;<br>            width: 100%;<br>        }<br>        .wandb-col {<br>            display: flex;<br>            flex-direction: column;<br>            flex-basis: 100%;<br>            flex: 1;<br>            padding: 10px;<br>        }<br>    </style><br><div class=\"wandb-row\"><div class=\"wandb-col\"><h3>Run history:</h3><br/><table class=\"wandb\"><tr><td>accuracy</td><td>▁</td></tr><tr><td>f1_score</td><td>▁</td></tr><tr><td>precision</td><td>▁</td></tr><tr><td>recall</td><td>▁</td></tr></table><br/></div><div class=\"wandb-col\"><h3>Run summary:</h3><br/><table class=\"wandb\"><tr><td>accuracy</td><td>0.44096</td></tr><tr><td>f1_score</td><td>0.42107</td></tr><tr><td>precision</td><td>0.41565</td></tr><tr><td>recall</td><td>0.44096</td></tr></table><br/></div></div>"
      ],
      "text/plain": [
       "<IPython.core.display.HTML object>"
      ]
     },
     "metadata": {},
     "output_type": "display_data"
    },
    {
     "data": {
      "text/html": [
       " View run <strong style=\"color:#cdcd00\">resilient-sweep-22</strong> at: <a href='https://wandb.ai/urik-voevidka-ukrainian-catholic-university/ui-classification-experiments/runs/t0u8kwen' target=\"_blank\">https://wandb.ai/urik-voevidka-ukrainian-catholic-university/ui-classification-experiments/runs/t0u8kwen</a><br> View project at: <a href='https://wandb.ai/urik-voevidka-ukrainian-catholic-university/ui-classification-experiments' target=\"_blank\">https://wandb.ai/urik-voevidka-ukrainian-catholic-university/ui-classification-experiments</a><br>Synced 5 W&B file(s), 0 media file(s), 0 artifact file(s) and 0 other file(s)"
      ],
      "text/plain": [
       "<IPython.core.display.HTML object>"
      ]
     },
     "metadata": {},
     "output_type": "display_data"
    },
    {
     "data": {
      "text/html": [
       "Find logs at: <code>./wandb/run-20250223_152831-t0u8kwen/logs</code>"
      ],
      "text/plain": [
       "<IPython.core.display.HTML object>"
      ]
     },
     "metadata": {},
     "output_type": "display_data"
    },
    {
     "name": "stderr",
     "output_type": "stream",
     "text": [
      "\u001b[34m\u001b[1mwandb\u001b[0m: Agent Starting Run: apxgc1wa with config:\n",
      "\u001b[34m\u001b[1mwandb\u001b[0m: \tbooster: gbtree\n",
      "\u001b[34m\u001b[1mwandb\u001b[0m: \tlearning_rate: 0.1\n",
      "\u001b[34m\u001b[1mwandb\u001b[0m: \tmax_depth: 12\n",
      "\u001b[34m\u001b[1mwandb\u001b[0m: \tsubsample: 0.3\n"
     ]
    },
    {
     "data": {
      "text/html": [
       "Tracking run with wandb version 0.19.7"
      ],
      "text/plain": [
       "<IPython.core.display.HTML object>"
      ]
     },
     "metadata": {},
     "output_type": "display_data"
    },
    {
     "data": {
      "text/html": [
       "Run data is saved locally in <code>/Users/yuriivoievidka/UCU/CV/cv-project/src/experiments/wandb/run-20250223_152836-apxgc1wa</code>"
      ],
      "text/plain": [
       "<IPython.core.display.HTML object>"
      ]
     },
     "metadata": {},
     "output_type": "display_data"
    },
    {
     "data": {
      "text/html": [
       "Syncing run <strong><a href='https://wandb.ai/urik-voevidka-ukrainian-catholic-university/ui-classification-experiments/runs/apxgc1wa' target=\"_blank\">laced-sweep-23</a></strong> to <a href='https://wandb.ai/urik-voevidka-ukrainian-catholic-university/ui-classification-experiments' target=\"_blank\">Weights & Biases</a> (<a href='https://wandb.me/developer-guide' target=\"_blank\">docs</a>)<br>Sweep page: <a href='https://wandb.ai/urik-voevidka-ukrainian-catholic-university/ui-classification-experiments/sweeps/9rkuh7kp' target=\"_blank\">https://wandb.ai/urik-voevidka-ukrainian-catholic-university/ui-classification-experiments/sweeps/9rkuh7kp</a>"
      ],
      "text/plain": [
       "<IPython.core.display.HTML object>"
      ]
     },
     "metadata": {},
     "output_type": "display_data"
    },
    {
     "data": {
      "text/html": [
       " View project at <a href='https://wandb.ai/urik-voevidka-ukrainian-catholic-university/ui-classification-experiments' target=\"_blank\">https://wandb.ai/urik-voevidka-ukrainian-catholic-university/ui-classification-experiments</a>"
      ],
      "text/plain": [
       "<IPython.core.display.HTML object>"
      ]
     },
     "metadata": {},
     "output_type": "display_data"
    },
    {
     "data": {
      "text/html": [
       " View sweep at <a href='https://wandb.ai/urik-voevidka-ukrainian-catholic-university/ui-classification-experiments/sweeps/9rkuh7kp' target=\"_blank\">https://wandb.ai/urik-voevidka-ukrainian-catholic-university/ui-classification-experiments/sweeps/9rkuh7kp</a>"
      ],
      "text/plain": [
       "<IPython.core.display.HTML object>"
      ]
     },
     "metadata": {},
     "output_type": "display_data"
    },
    {
     "data": {
      "text/html": [
       " View run at <a href='https://wandb.ai/urik-voevidka-ukrainian-catholic-university/ui-classification-experiments/runs/apxgc1wa' target=\"_blank\">https://wandb.ai/urik-voevidka-ukrainian-catholic-university/ui-classification-experiments/runs/apxgc1wa</a>"
      ],
      "text/plain": [
       "<IPython.core.display.HTML object>"
      ]
     },
     "metadata": {},
     "output_type": "display_data"
    },
    {
     "data": {
      "text/html": [],
      "text/plain": [
       "<IPython.core.display.HTML object>"
      ]
     },
     "metadata": {},
     "output_type": "display_data"
    },
    {
     "data": {
      "text/html": [
       "<br>    <style><br>        .wandb-row {<br>            display: flex;<br>            flex-direction: row;<br>            flex-wrap: wrap;<br>            justify-content: flex-start;<br>            width: 100%;<br>        }<br>        .wandb-col {<br>            display: flex;<br>            flex-direction: column;<br>            flex-basis: 100%;<br>            flex: 1;<br>            padding: 10px;<br>        }<br>    </style><br><div class=\"wandb-row\"><div class=\"wandb-col\"><h3>Run history:</h3><br/><table class=\"wandb\"><tr><td>accuracy</td><td>▁</td></tr><tr><td>f1_score</td><td>▁</td></tr><tr><td>precision</td><td>▁</td></tr><tr><td>recall</td><td>▁</td></tr></table><br/></div><div class=\"wandb-col\"><h3>Run summary:</h3><br/><table class=\"wandb\"><tr><td>accuracy</td><td>0.44418</td></tr><tr><td>f1_score</td><td>0.41875</td></tr><tr><td>precision</td><td>0.3967</td></tr><tr><td>recall</td><td>0.44418</td></tr></table><br/></div></div>"
      ],
      "text/plain": [
       "<IPython.core.display.HTML object>"
      ]
     },
     "metadata": {},
     "output_type": "display_data"
    },
    {
     "data": {
      "text/html": [
       " View run <strong style=\"color:#cdcd00\">laced-sweep-23</strong> at: <a href='https://wandb.ai/urik-voevidka-ukrainian-catholic-university/ui-classification-experiments/runs/apxgc1wa' target=\"_blank\">https://wandb.ai/urik-voevidka-ukrainian-catholic-university/ui-classification-experiments/runs/apxgc1wa</a><br> View project at: <a href='https://wandb.ai/urik-voevidka-ukrainian-catholic-university/ui-classification-experiments' target=\"_blank\">https://wandb.ai/urik-voevidka-ukrainian-catholic-university/ui-classification-experiments</a><br>Synced 5 W&B file(s), 0 media file(s), 0 artifact file(s) and 0 other file(s)"
      ],
      "text/plain": [
       "<IPython.core.display.HTML object>"
      ]
     },
     "metadata": {},
     "output_type": "display_data"
    },
    {
     "data": {
      "text/html": [
       "Find logs at: <code>./wandb/run-20250223_152836-apxgc1wa/logs</code>"
      ],
      "text/plain": [
       "<IPython.core.display.HTML object>"
      ]
     },
     "metadata": {},
     "output_type": "display_data"
    },
    {
     "name": "stderr",
     "output_type": "stream",
     "text": [
      "\u001b[34m\u001b[1mwandb\u001b[0m: Sweep Agent: Waiting for job.\n",
      "\u001b[34m\u001b[1mwandb\u001b[0m: Job received.\n",
      "\u001b[34m\u001b[1mwandb\u001b[0m: Agent Starting Run: t65tq0jj with config:\n",
      "\u001b[34m\u001b[1mwandb\u001b[0m: \tbooster: gbtree\n",
      "\u001b[34m\u001b[1mwandb\u001b[0m: \tlearning_rate: 0.1\n",
      "\u001b[34m\u001b[1mwandb\u001b[0m: \tmax_depth: 6\n",
      "\u001b[34m\u001b[1mwandb\u001b[0m: \tsubsample: 0.3\n"
     ]
    },
    {
     "data": {
      "text/html": [
       "Tracking run with wandb version 0.19.7"
      ],
      "text/plain": [
       "<IPython.core.display.HTML object>"
      ]
     },
     "metadata": {},
     "output_type": "display_data"
    },
    {
     "data": {
      "text/html": [
       "Run data is saved locally in <code>/Users/yuriivoievidka/UCU/CV/cv-project/src/experiments/wandb/run-20250223_152857-t65tq0jj</code>"
      ],
      "text/plain": [
       "<IPython.core.display.HTML object>"
      ]
     },
     "metadata": {},
     "output_type": "display_data"
    },
    {
     "data": {
      "text/html": [
       "Syncing run <strong><a href='https://wandb.ai/urik-voevidka-ukrainian-catholic-university/ui-classification-experiments/runs/t65tq0jj' target=\"_blank\">hearty-sweep-24</a></strong> to <a href='https://wandb.ai/urik-voevidka-ukrainian-catholic-university/ui-classification-experiments' target=\"_blank\">Weights & Biases</a> (<a href='https://wandb.me/developer-guide' target=\"_blank\">docs</a>)<br>Sweep page: <a href='https://wandb.ai/urik-voevidka-ukrainian-catholic-university/ui-classification-experiments/sweeps/9rkuh7kp' target=\"_blank\">https://wandb.ai/urik-voevidka-ukrainian-catholic-university/ui-classification-experiments/sweeps/9rkuh7kp</a>"
      ],
      "text/plain": [
       "<IPython.core.display.HTML object>"
      ]
     },
     "metadata": {},
     "output_type": "display_data"
    },
    {
     "data": {
      "text/html": [
       " View project at <a href='https://wandb.ai/urik-voevidka-ukrainian-catholic-university/ui-classification-experiments' target=\"_blank\">https://wandb.ai/urik-voevidka-ukrainian-catholic-university/ui-classification-experiments</a>"
      ],
      "text/plain": [
       "<IPython.core.display.HTML object>"
      ]
     },
     "metadata": {},
     "output_type": "display_data"
    },
    {
     "data": {
      "text/html": [
       " View sweep at <a href='https://wandb.ai/urik-voevidka-ukrainian-catholic-university/ui-classification-experiments/sweeps/9rkuh7kp' target=\"_blank\">https://wandb.ai/urik-voevidka-ukrainian-catholic-university/ui-classification-experiments/sweeps/9rkuh7kp</a>"
      ],
      "text/plain": [
       "<IPython.core.display.HTML object>"
      ]
     },
     "metadata": {},
     "output_type": "display_data"
    },
    {
     "data": {
      "text/html": [
       " View run at <a href='https://wandb.ai/urik-voevidka-ukrainian-catholic-university/ui-classification-experiments/runs/t65tq0jj' target=\"_blank\">https://wandb.ai/urik-voevidka-ukrainian-catholic-university/ui-classification-experiments/runs/t65tq0jj</a>"
      ],
      "text/plain": [
       "<IPython.core.display.HTML object>"
      ]
     },
     "metadata": {},
     "output_type": "display_data"
    },
    {
     "data": {
      "text/html": [],
      "text/plain": [
       "<IPython.core.display.HTML object>"
      ]
     },
     "metadata": {},
     "output_type": "display_data"
    },
    {
     "data": {
      "text/html": [
       "<br>    <style><br>        .wandb-row {<br>            display: flex;<br>            flex-direction: row;<br>            flex-wrap: wrap;<br>            justify-content: flex-start;<br>            width: 100%;<br>        }<br>        .wandb-col {<br>            display: flex;<br>            flex-direction: column;<br>            flex-basis: 100%;<br>            flex: 1;<br>            padding: 10px;<br>        }<br>    </style><br><div class=\"wandb-row\"><div class=\"wandb-col\"><h3>Run history:</h3><br/><table class=\"wandb\"><tr><td>accuracy</td><td>▁</td></tr><tr><td>f1_score</td><td>▁</td></tr><tr><td>precision</td><td>▁</td></tr><tr><td>recall</td><td>▁</td></tr></table><br/></div><div class=\"wandb-col\"><h3>Run summary:</h3><br/><table class=\"wandb\"><tr><td>accuracy</td><td>0.45141</td></tr><tr><td>f1_score</td><td>0.42546</td></tr><tr><td>precision</td><td>0.4027</td></tr><tr><td>recall</td><td>0.45141</td></tr></table><br/></div></div>"
      ],
      "text/plain": [
       "<IPython.core.display.HTML object>"
      ]
     },
     "metadata": {},
     "output_type": "display_data"
    },
    {
     "data": {
      "text/html": [
       " View run <strong style=\"color:#cdcd00\">hearty-sweep-24</strong> at: <a href='https://wandb.ai/urik-voevidka-ukrainian-catholic-university/ui-classification-experiments/runs/t65tq0jj' target=\"_blank\">https://wandb.ai/urik-voevidka-ukrainian-catholic-university/ui-classification-experiments/runs/t65tq0jj</a><br> View project at: <a href='https://wandb.ai/urik-voevidka-ukrainian-catholic-university/ui-classification-experiments' target=\"_blank\">https://wandb.ai/urik-voevidka-ukrainian-catholic-university/ui-classification-experiments</a><br>Synced 5 W&B file(s), 0 media file(s), 0 artifact file(s) and 0 other file(s)"
      ],
      "text/plain": [
       "<IPython.core.display.HTML object>"
      ]
     },
     "metadata": {},
     "output_type": "display_data"
    },
    {
     "data": {
      "text/html": [
       "Find logs at: <code>./wandb/run-20250223_152857-t65tq0jj/logs</code>"
      ],
      "text/plain": [
       "<IPython.core.display.HTML object>"
      ]
     },
     "metadata": {},
     "output_type": "display_data"
    },
    {
     "name": "stderr",
     "output_type": "stream",
     "text": [
      "\u001b[34m\u001b[1mwandb\u001b[0m: Agent Starting Run: 5151by7v with config:\n",
      "\u001b[34m\u001b[1mwandb\u001b[0m: \tbooster: gblinear\n",
      "\u001b[34m\u001b[1mwandb\u001b[0m: \tlearning_rate: 0.1\n",
      "\u001b[34m\u001b[1mwandb\u001b[0m: \tmax_depth: 9\n",
      "\u001b[34m\u001b[1mwandb\u001b[0m: \tsubsample: 0.5\n"
     ]
    },
    {
     "data": {
      "text/html": [
       "Tracking run with wandb version 0.19.7"
      ],
      "text/plain": [
       "<IPython.core.display.HTML object>"
      ]
     },
     "metadata": {},
     "output_type": "display_data"
    },
    {
     "data": {
      "text/html": [
       "Run data is saved locally in <code>/Users/yuriivoievidka/UCU/CV/cv-project/src/experiments/wandb/run-20250223_152908-5151by7v</code>"
      ],
      "text/plain": [
       "<IPython.core.display.HTML object>"
      ]
     },
     "metadata": {},
     "output_type": "display_data"
    },
    {
     "data": {
      "text/html": [
       "Syncing run <strong><a href='https://wandb.ai/urik-voevidka-ukrainian-catholic-university/ui-classification-experiments/runs/5151by7v' target=\"_blank\">vital-sweep-25</a></strong> to <a href='https://wandb.ai/urik-voevidka-ukrainian-catholic-university/ui-classification-experiments' target=\"_blank\">Weights & Biases</a> (<a href='https://wandb.me/developer-guide' target=\"_blank\">docs</a>)<br>Sweep page: <a href='https://wandb.ai/urik-voevidka-ukrainian-catholic-university/ui-classification-experiments/sweeps/9rkuh7kp' target=\"_blank\">https://wandb.ai/urik-voevidka-ukrainian-catholic-university/ui-classification-experiments/sweeps/9rkuh7kp</a>"
      ],
      "text/plain": [
       "<IPython.core.display.HTML object>"
      ]
     },
     "metadata": {},
     "output_type": "display_data"
    },
    {
     "data": {
      "text/html": [
       " View project at <a href='https://wandb.ai/urik-voevidka-ukrainian-catholic-university/ui-classification-experiments' target=\"_blank\">https://wandb.ai/urik-voevidka-ukrainian-catholic-university/ui-classification-experiments</a>"
      ],
      "text/plain": [
       "<IPython.core.display.HTML object>"
      ]
     },
     "metadata": {},
     "output_type": "display_data"
    },
    {
     "data": {
      "text/html": [
       " View sweep at <a href='https://wandb.ai/urik-voevidka-ukrainian-catholic-university/ui-classification-experiments/sweeps/9rkuh7kp' target=\"_blank\">https://wandb.ai/urik-voevidka-ukrainian-catholic-university/ui-classification-experiments/sweeps/9rkuh7kp</a>"
      ],
      "text/plain": [
       "<IPython.core.display.HTML object>"
      ]
     },
     "metadata": {},
     "output_type": "display_data"
    },
    {
     "data": {
      "text/html": [
       " View run at <a href='https://wandb.ai/urik-voevidka-ukrainian-catholic-university/ui-classification-experiments/runs/5151by7v' target=\"_blank\">https://wandb.ai/urik-voevidka-ukrainian-catholic-university/ui-classification-experiments/runs/5151by7v</a>"
      ],
      "text/plain": [
       "<IPython.core.display.HTML object>"
      ]
     },
     "metadata": {},
     "output_type": "display_data"
    },
    {
     "name": "stderr",
     "output_type": "stream",
     "text": [
      "[15:29:08] WARNING: /Users/runner/work/xgboost/xgboost/src/learner.cc:740: \n",
      "Parameters: { \"max_depth\", \"subsample\" } are not used.\n",
      "\n"
     ]
    },
    {
     "data": {
      "text/html": [],
      "text/plain": [
       "<IPython.core.display.HTML object>"
      ]
     },
     "metadata": {},
     "output_type": "display_data"
    },
    {
     "data": {
      "text/html": [
       "<br>    <style><br>        .wandb-row {<br>            display: flex;<br>            flex-direction: row;<br>            flex-wrap: wrap;<br>            justify-content: flex-start;<br>            width: 100%;<br>        }<br>        .wandb-col {<br>            display: flex;<br>            flex-direction: column;<br>            flex-basis: 100%;<br>            flex: 1;<br>            padding: 10px;<br>        }<br>    </style><br><div class=\"wandb-row\"><div class=\"wandb-col\"><h3>Run history:</h3><br/><table class=\"wandb\"><tr><td>accuracy</td><td>▁</td></tr><tr><td>f1_score</td><td>▁</td></tr><tr><td>precision</td><td>▁</td></tr><tr><td>recall</td><td>▁</td></tr></table><br/></div><div class=\"wandb-col\"><h3>Run summary:</h3><br/><table class=\"wandb\"><tr><td>accuracy</td><td>0.43293</td></tr><tr><td>f1_score</td><td>0.41927</td></tr><tr><td>precision</td><td>0.41268</td></tr><tr><td>recall</td><td>0.43293</td></tr></table><br/></div></div>"
      ],
      "text/plain": [
       "<IPython.core.display.HTML object>"
      ]
     },
     "metadata": {},
     "output_type": "display_data"
    },
    {
     "data": {
      "text/html": [
       " View run <strong style=\"color:#cdcd00\">vital-sweep-25</strong> at: <a href='https://wandb.ai/urik-voevidka-ukrainian-catholic-university/ui-classification-experiments/runs/5151by7v' target=\"_blank\">https://wandb.ai/urik-voevidka-ukrainian-catholic-university/ui-classification-experiments/runs/5151by7v</a><br> View project at: <a href='https://wandb.ai/urik-voevidka-ukrainian-catholic-university/ui-classification-experiments' target=\"_blank\">https://wandb.ai/urik-voevidka-ukrainian-catholic-university/ui-classification-experiments</a><br>Synced 5 W&B file(s), 0 media file(s), 0 artifact file(s) and 0 other file(s)"
      ],
      "text/plain": [
       "<IPython.core.display.HTML object>"
      ]
     },
     "metadata": {},
     "output_type": "display_data"
    },
    {
     "data": {
      "text/html": [
       "Find logs at: <code>./wandb/run-20250223_152908-5151by7v/logs</code>"
      ],
      "text/plain": [
       "<IPython.core.display.HTML object>"
      ]
     },
     "metadata": {},
     "output_type": "display_data"
    }
   ],
   "source": [
    "wandb.agent(sweep_id, train, count=25)"
   ]
  },
  {
   "cell_type": "code",
   "execution_count": 13,
   "metadata": {},
   "outputs": [
    {
     "ename": "NameError",
     "evalue": "name 'model' is not defined",
     "output_type": "error",
     "traceback": [
      "\u001b[0;31m---------------------------------------------------------------------------\u001b[0m",
      "\u001b[0;31mNameError\u001b[0m                                 Traceback (most recent call last)",
      "Cell \u001b[0;32mIn[13], line 1\u001b[0m\n\u001b[0;32m----> 1\u001b[0m y_pred \u001b[38;5;241m=\u001b[39m \u001b[43mmodel\u001b[49m\u001b[38;5;241m.\u001b[39mpredict(X_test)\n\u001b[1;32m      2\u001b[0m predictions \u001b[38;5;241m=\u001b[39m [\u001b[38;5;28mround\u001b[39m(value) \u001b[38;5;28;01mfor\u001b[39;00m value \u001b[38;5;129;01min\u001b[39;00m y_pred]\n\u001b[1;32m      3\u001b[0m classes \u001b[38;5;241m=\u001b[39m [\u001b[38;5;124m\"\u001b[39m\u001b[38;5;124mclean-ui\u001b[39m\u001b[38;5;124m\"\u001b[39m, \u001b[38;5;124m\"\u001b[39m\u001b[38;5;124mto-crop\u001b[39m\u001b[38;5;124m\"\u001b[39m, \u001b[38;5;124m\"\u001b[39m\u001b[38;5;124munnecessary\u001b[39m\u001b[38;5;124m\"\u001b[39m]\n",
      "\u001b[0;31mNameError\u001b[0m: name 'model' is not defined"
     ]
    }
   ],
   "source": [
    "y_pred = model.predict(X_test)\n",
    "predictions = [round(value) for value in y_pred]\n",
    "classes = [\"clean-ui\", \"to-crop\", \"unnecessary\"]"
   ]
  },
  {
   "cell_type": "code",
   "execution_count": 14,
   "metadata": {},
   "outputs": [
    {
     "name": "stdout",
     "output_type": "stream",
     "text": [
      "Classification Report:\n"
     ]
    },
    {
     "ename": "NameError",
     "evalue": "name 'y_pred' is not defined",
     "output_type": "error",
     "traceback": [
      "\u001b[0;31m---------------------------------------------------------------------------\u001b[0m",
      "\u001b[0;31mNameError\u001b[0m                                 Traceback (most recent call last)",
      "Cell \u001b[0;32mIn[14], line 2\u001b[0m\n\u001b[1;32m      1\u001b[0m \u001b[38;5;28mprint\u001b[39m(\u001b[38;5;124m\"\u001b[39m\u001b[38;5;124mClassification Report:\u001b[39m\u001b[38;5;124m\"\u001b[39m)\n\u001b[0;32m----> 2\u001b[0m \u001b[38;5;28mprint\u001b[39m(classification_report(y_test, \u001b[43my_pred\u001b[49m, target_names\u001b[38;5;241m=\u001b[39mclasses))\n",
      "\u001b[0;31mNameError\u001b[0m: name 'y_pred' is not defined"
     ]
    }
   ],
   "source": [
    "print(\"Classification Report:\")\n",
    "print(classification_report(y_test, y_pred, target_names=classes))"
   ]
  },
  {
   "cell_type": "code",
   "execution_count": null,
   "metadata": {},
   "outputs": [],
   "source": []
  }
 ],
 "metadata": {
  "kernelspec": {
   "display_name": "torch",
   "language": "python",
   "name": "python3"
  },
  "language_info": {
   "codemirror_mode": {
    "name": "ipython",
    "version": 3
   },
   "file_extension": ".py",
   "mimetype": "text/x-python",
   "name": "python",
   "nbconvert_exporter": "python",
   "pygments_lexer": "ipython3",
   "version": "3.12.7"
  }
 },
 "nbformat": 4,
 "nbformat_minor": 2
}
