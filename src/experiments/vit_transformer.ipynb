{
  "nbformat": 4,
  "nbformat_minor": 0,
  "metadata": {
    "colab": {
      "provenance": [],
      "gpuType": "T4"
    },
    "kernelspec": {
      "name": "python3",
      "display_name": "Python 3"
    },
    "language_info": {
      "name": "python"
    },
    "accelerator": "GPU"
  },
  "cells": [
    {
      "cell_type": "code",
      "execution_count": 2,
      "metadata": {
        "colab": {
          "base_uri": "https://localhost:8080/"
        },
        "id": "bw-VkG44_gxc",
        "outputId": "9ce9b658-2889-4314-cfb3-3a50e0ae8d99"
      },
      "outputs": [
        {
          "output_type": "stream",
          "name": "stdout",
          "text": [
            "Mounted at /content/drive\n"
          ]
        }
      ],
      "source": [
        "from google.colab import drive\n",
        "drive.mount('/content/drive')"
      ]
    },
    {
      "cell_type": "code",
      "source": [
        "!unzip -d /content/data /content/drive/MyDrive/classified_photos.zip"
      ],
      "metadata": {
        "id": "96qh_ddd_4Tl"
      },
      "execution_count": null,
      "outputs": []
    },
    {
      "cell_type": "code",
      "source": [
        "!pip install wandb transformers torch torchvision scikit-learn"
      ],
      "metadata": {
        "id": "HTLIPaX9C929"
      },
      "execution_count": null,
      "outputs": []
    },
    {
      "cell_type": "code",
      "source": [
        "import torch\n",
        "import pandas as pd\n",
        "import wandb\n",
        "import random\n",
        "from torchvision import transforms\n",
        "from torchvision.models import resnet50\n",
        "from torchvision.models import ResNet50_Weights\n",
        "import os\n",
        "import sys\n",
        "# sys.path.append(os.path.abspath(\"..\"))\n",
        "# from models.ui_dataset import UIDataset\n",
        "from torch.utils.data import random_split, DataLoader\n",
        "from transformers import ViTImageProcessor,ViTForImageClassification, TrainingArguments, Trainer\n",
        "import numpy as np\n",
        "from sklearn.metrics import accuracy_score\n",
        "from sklearn.metrics import classification_report, confusion_matrix, ConfusionMatrixDisplay\n",
        "from sklearn.metrics import accuracy_score, precision_recall_fscore_support\n"
      ],
      "metadata": {
        "id": "2Y-FEASHCLmq"
      },
      "execution_count": 72,
      "outputs": []
    },
    {
      "cell_type": "code",
      "source": [
        "import torch\n",
        "from torch.utils.data import Dataset\n",
        "import os\n",
        "from PIL import Image\n",
        "\n",
        "class UIDataset(Dataset):\n",
        "    def __init__(self, root_dir, processor=None):\n",
        "        self.root_dir = root_dir\n",
        "        self.processor = processor\n",
        "        self.image_paths = []\n",
        "        self.label_to_index = {}  # Dictionary to store label encoding\n",
        "        self.index_to_label = {}  # (Optional) Reverse mapping for decoding\n",
        "\n",
        "        # Collect unique labels\n",
        "        unique_labels = sorted([label for label in os.listdir(self.root_dir) if os.path.isdir(os.path.join(self.root_dir, label))])\n",
        "\n",
        "        # Create a mapping from label names to integers\n",
        "        self.label_to_index = {label: idx for idx, label in enumerate(unique_labels)}\n",
        "        self.index_to_label = {idx: label for label, idx in self.label_to_index.items()}  # Reverse mapping (optional)\n",
        "\n",
        "        # Store image paths and corresponding encoded labels\n",
        "        for label in unique_labels:\n",
        "            subdir_path = os.path.join(self.root_dir, label)\n",
        "            for filename in os.listdir(subdir_path):\n",
        "                if filename.lower().endswith(('.png', '.jpg', '.jpeg', '.bmp', '.gif', '.tiff', '.webp')):\n",
        "                    file_path = os.path.join(subdir_path, filename)\n",
        "                    self.image_paths.append((file_path, self.label_to_index[label]))  # Store encoded label\n",
        "\n",
        "    def __len__(self):\n",
        "        return len(self.image_paths)\n",
        "\n",
        "    def __getitem__(self, index):\n",
        "        file_path, label = self.image_paths[index]  # label is now an integer\n",
        "\n",
        "        image = Image.open(file_path).convert(\"RGB\")\n",
        "\n",
        "        if self.processor:\n",
        "            inputs = self.processor(images=image, return_tensors=\"pt\")\n",
        "            image_tensor = inputs[\"pixel_values\"].squeeze(0)\n",
        "\n",
        "        return image_tensor, label  # Label is now an integer\n"
      ],
      "metadata": {
        "id": "9tUnxugREPQm"
      },
      "execution_count": 50,
      "outputs": []
    },
    {
      "cell_type": "code",
      "source": [
        "wandb.init(\n",
        "    project=\"ui-classification-experiments\",\n",
        "    config={\n",
        "        \"learning_rate\": 0.02,\n",
        "        \"architecture\": \"VIT Transformer\",\n",
        "        \"dataset\": \"DesktopUI\",\n",
        "        \"epochs\": 10,\n",
        "    }\n",
        ")"
      ],
      "metadata": {
        "colab": {
          "base_uri": "https://localhost:8080/",
          "height": 454
        },
        "id": "W-_ZmM54DB2c",
        "outputId": "87176a7f-a39b-451f-bc08-a53bfc406110"
      },
      "execution_count": 51,
      "outputs": [
        {
          "output_type": "display_data",
          "data": {
            "text/plain": [
              "<IPython.core.display.HTML object>"
            ],
            "text/html": [
              "Changes to your `wandb` environment variables will be ignored because your `wandb` session has already started. For more information on how to modify your settings with `wandb.init()` arguments, please refer to <a href='https://wandb.me/wandb-init' target=\"_blank\">the W&B docs</a>."
            ]
          },
          "metadata": {}
        },
        {
          "output_type": "execute_result",
          "data": {
            "text/html": [
              "<button onClick=\"this.nextSibling.style.display='block';this.style.display='none';\">Display W&B run</button><iframe src='https://wandb.ai/urik-voevidka-ukrainian-catholic-university/ui-classification-experiments/runs/jm8x3ri5?jupyter=true' style='border:none;width:100%;height:420px;display:none;'></iframe>"
            ],
            "text/plain": [
              "<wandb.sdk.wandb_run.Run at 0x79fe29f91a90>"
            ]
          },
          "metadata": {},
          "execution_count": 51
        }
      ]
    },
    {
      "cell_type": "code",
      "source": [
        "!export WANDB_API_KEY=\"7e54b169f751025afccd3ef14aacaf584f797cb1\""
      ],
      "metadata": {
        "id": "fI7fCn5sDDUG"
      },
      "execution_count": 52,
      "outputs": []
    },
    {
      "cell_type": "code",
      "source": [
        "os.environ[\"WANDB_PROJECT\"] = \"ui-classification-experiments\"\n",
        "os.environ[\"WANDB_LOG_MODEL\"] = \"checkpoint\""
      ],
      "metadata": {
        "id": "6yrZYIr7DEOP"
      },
      "execution_count": 53,
      "outputs": []
    },
    {
      "cell_type": "code",
      "source": [
        "model_name_or_path = 'google/vit-base-patch16-224-in21k'\n",
        "processor = ViTImageProcessor.from_pretrained(model_name_or_path)"
      ],
      "metadata": {
        "id": "umcweVhzDF8I"
      },
      "execution_count": 54,
      "outputs": []
    },
    {
      "cell_type": "code",
      "source": [
        "labels = [\"clean-ui\", \"ui-to-crop\", \"unnecessary\"]"
      ],
      "metadata": {
        "id": "0kWWY5pGDHCX"
      },
      "execution_count": 55,
      "outputs": []
    },
    {
      "cell_type": "code",
      "source": [
        "dataset_path = \"/content/data/classified_photos_blip_xgboost\""
      ],
      "metadata": {
        "id": "DUQOLex_EEUO"
      },
      "execution_count": 56,
      "outputs": []
    },
    {
      "cell_type": "code",
      "source": [
        "model_name_or_path = 'google/vit-base-patch16-224-in21k'\n",
        "processor = ViTImageProcessor.from_pretrained(model_name_or_path)"
      ],
      "metadata": {
        "id": "BSgdAipQEpCD"
      },
      "execution_count": 57,
      "outputs": []
    },
    {
      "cell_type": "code",
      "source": [
        "ui_dataset_all = UIDataset(root_dir=dataset_path, processor=processor)\n",
        "\n",
        "ui_train_size = int(len(ui_dataset_all) * 0.6)\n",
        "ui_val_size = int(len(ui_dataset_all) * 0.2)\n",
        "\n",
        "train_dataset, val_dataset, test_dataset = random_split(ui_dataset_all, [ui_train_size, ui_val_size, len(ui_dataset_all) - ui_val_size - ui_train_size])"
      ],
      "metadata": {
        "id": "z9XZgB-VEIvo"
      },
      "execution_count": 58,
      "outputs": []
    },
    {
      "cell_type": "code",
      "source": [
        "train_dataloader = DataLoader(train_dataset, batch_size=32, shuffle=True)\n",
        "val_dataloader = DataLoader(val_dataset, batch_size=32, shuffle=True)\n",
        "test_dataloader = DataLoader(test_dataset, batch_size=32, shuffle=True)"
      ],
      "metadata": {
        "id": "ZvGEsHvlELce"
      },
      "execution_count": 59,
      "outputs": []
    },
    {
      "cell_type": "code",
      "source": [
        "model = ViTForImageClassification.from_pretrained(\n",
        "    model_name_or_path,\n",
        "    num_labels=len(labels),\n",
        "    id2label={str(i): c for i, c in enumerate(labels)},\n",
        "    label2id={c: str(i) for i, c in enumerate(labels)}\n",
        ")"
      ],
      "metadata": {
        "colab": {
          "base_uri": "https://localhost:8080/"
        },
        "id": "9YAmy47VEv34",
        "outputId": "7d6f6094-f15b-49c8-931d-163260ee0f46"
      },
      "execution_count": 60,
      "outputs": [
        {
          "output_type": "stream",
          "name": "stderr",
          "text": [
            "Some weights of ViTForImageClassification were not initialized from the model checkpoint at google/vit-base-patch16-224-in21k and are newly initialized: ['classifier.bias', 'classifier.weight']\n",
            "You should probably TRAIN this model on a down-stream task to be able to use it for predictions and inference.\n"
          ]
        }
      ]
    },
    {
      "cell_type": "code",
      "source": [
        "def collate_fn(batch):\n",
        "    images, labels = zip(*batch)\n",
        "    return {\n",
        "        'pixel_values': torch.stack(images),\n",
        "        'labels': torch.tensor([int(label) for label in labels])\n",
        "    }"
      ],
      "metadata": {
        "id": "-fJNQCPnExBl"
      },
      "execution_count": 66,
      "outputs": []
    },
    {
      "cell_type": "code",
      "source": [
        "\n",
        "def compute_metrics(eval_pred):\n",
        "    predictions, labels = eval_pred\n",
        "    predictions = np.argmax(predictions, axis=1)\n",
        "\n",
        "    accuracy = accuracy_score(labels, predictions)\n",
        "    precision, recall, f1, _ = precision_recall_fscore_support(labels, predictions, average=\"weighted\")\n",
        "\n",
        "    return {\n",
        "        \"accuracy\": accuracy,\n",
        "        \"precision\": precision,\n",
        "        \"recall\": recall,\n",
        "        \"f1_score\": f1\n",
        "    }\n"
      ],
      "metadata": {
        "id": "bhoAbf0SEyBq"
      },
      "execution_count": 73,
      "outputs": []
    },
    {
      "cell_type": "code",
      "source": [
        "training_args = TrainingArguments(\n",
        "    output_dir=\"./vit-base-beans\",\n",
        "    per_device_train_batch_size=16,\n",
        "    evaluation_strategy=\"steps\",\n",
        "    num_train_epochs=10,\n",
        "    save_steps=100,\n",
        "    eval_steps=100,\n",
        "    logging_steps=10,\n",
        "    learning_rate=2e-4,\n",
        "    save_total_limit=2,\n",
        "    remove_unused_columns=False,\n",
        "    push_to_hub=False,\n",
        "    load_best_model_at_end=True,\n",
        "    report_to=\"wandb\",\n",
        "    fp16=True\n",
        ")\n"
      ],
      "metadata": {
        "colab": {
          "base_uri": "https://localhost:8080/"
        },
        "id": "1F-WYLygEzCK",
        "outputId": "07b74e42-d04e-48f9-94b3-d8940e128d3a"
      },
      "execution_count": 75,
      "outputs": [
        {
          "output_type": "stream",
          "name": "stderr",
          "text": [
            "/usr/local/lib/python3.11/dist-packages/transformers/training_args.py:1575: FutureWarning: `evaluation_strategy` is deprecated and will be removed in version 4.46 of 🤗 Transformers. Use `eval_strategy` instead\n",
            "  warnings.warn(\n"
          ]
        }
      ]
    },
    {
      "cell_type": "code",
      "source": [
        "trainer = Trainer(\n",
        "    model=model,\n",
        "    args=training_args,\n",
        "    data_collator=collate_fn,\n",
        "    compute_metrics=compute_metrics,\n",
        "    train_dataset=train_dataset,\n",
        "    eval_dataset=val_dataset,\n",
        "    tokenizer=processor,\n",
        ")"
      ],
      "metadata": {
        "colab": {
          "base_uri": "https://localhost:8080/"
        },
        "id": "Ud6djzWREz-4",
        "outputId": "de7ab6d3-27c2-4d65-bf4f-bef9358dadf1"
      },
      "execution_count": 76,
      "outputs": [
        {
          "output_type": "stream",
          "name": "stderr",
          "text": [
            "<ipython-input-76-ab3f5d9411bf>:1: FutureWarning: `tokenizer` is deprecated and will be removed in version 5.0.0 for `Trainer.__init__`. Use `processing_class` instead.\n",
            "  trainer = Trainer(\n"
          ]
        }
      ]
    },
    {
      "cell_type": "code",
      "source": [
        "train_results = trainer.train()\n",
        "trainer.save_model()\n",
        "trainer.log_metrics(\"train\", train_results.metrics)\n",
        "trainer.save_metrics(\"train\", train_results.metrics)\n",
        "trainer.save_state()"
      ],
      "metadata": {
        "colab": {
          "base_uri": "https://localhost:8080/",
          "height": 1000
        },
        "id": "I85DWriZE_ZI",
        "outputId": "94f72aed-37fd-40bc-caac-cb309ed80cc8"
      },
      "execution_count": 77,
      "outputs": [
        {
          "output_type": "display_data",
          "data": {
            "text/plain": [
              "<IPython.core.display.HTML object>"
            ],
            "text/html": [
              "\n",
              "    <div>\n",
              "      \n",
              "      <progress value='1560' max='1560' style='width:300px; height:20px; vertical-align: middle;'></progress>\n",
              "      [1560/1560 51:36, Epoch 10/10]\n",
              "    </div>\n",
              "    <table border=\"1\" class=\"dataframe\">\n",
              "  <thead>\n",
              " <tr style=\"text-align: left;\">\n",
              "      <th>Step</th>\n",
              "      <th>Training Loss</th>\n",
              "      <th>Validation Loss</th>\n",
              "      <th>Accuracy</th>\n",
              "      <th>Precision</th>\n",
              "      <th>Recall</th>\n",
              "      <th>F1 Score</th>\n",
              "    </tr>\n",
              "  </thead>\n",
              "  <tbody>\n",
              "    <tr>\n",
              "      <td>100</td>\n",
              "      <td>0.373400</td>\n",
              "      <td>0.481041</td>\n",
              "      <td>0.834741</td>\n",
              "      <td>0.835451</td>\n",
              "      <td>0.834741</td>\n",
              "      <td>0.834599</td>\n",
              "    </tr>\n",
              "    <tr>\n",
              "      <td>200</td>\n",
              "      <td>0.185900</td>\n",
              "      <td>0.404243</td>\n",
              "      <td>0.880579</td>\n",
              "      <td>0.880571</td>\n",
              "      <td>0.880579</td>\n",
              "      <td>0.880489</td>\n",
              "    </tr>\n",
              "    <tr>\n",
              "      <td>300</td>\n",
              "      <td>0.200900</td>\n",
              "      <td>0.364972</td>\n",
              "      <td>0.864897</td>\n",
              "      <td>0.865849</td>\n",
              "      <td>0.864897</td>\n",
              "      <td>0.864658</td>\n",
              "    </tr>\n",
              "    <tr>\n",
              "      <td>400</td>\n",
              "      <td>0.138300</td>\n",
              "      <td>0.458759</td>\n",
              "      <td>0.858866</td>\n",
              "      <td>0.861446</td>\n",
              "      <td>0.858866</td>\n",
              "      <td>0.858949</td>\n",
              "    </tr>\n",
              "    <tr>\n",
              "      <td>500</td>\n",
              "      <td>0.055200</td>\n",
              "      <td>0.610033</td>\n",
              "      <td>0.852835</td>\n",
              "      <td>0.858238</td>\n",
              "      <td>0.852835</td>\n",
              "      <td>0.852610</td>\n",
              "    </tr>\n",
              "    <tr>\n",
              "      <td>600</td>\n",
              "      <td>0.098800</td>\n",
              "      <td>0.465402</td>\n",
              "      <td>0.891435</td>\n",
              "      <td>0.891230</td>\n",
              "      <td>0.891435</td>\n",
              "      <td>0.891039</td>\n",
              "    </tr>\n",
              "    <tr>\n",
              "      <td>700</td>\n",
              "      <td>0.011500</td>\n",
              "      <td>0.496726</td>\n",
              "      <td>0.874548</td>\n",
              "      <td>0.874928</td>\n",
              "      <td>0.874548</td>\n",
              "      <td>0.873562</td>\n",
              "    </tr>\n",
              "    <tr>\n",
              "      <td>800</td>\n",
              "      <td>0.009100</td>\n",
              "      <td>0.494349</td>\n",
              "      <td>0.890229</td>\n",
              "      <td>0.890017</td>\n",
              "      <td>0.890229</td>\n",
              "      <td>0.889937</td>\n",
              "    </tr>\n",
              "    <tr>\n",
              "      <td>900</td>\n",
              "      <td>0.034000</td>\n",
              "      <td>0.508053</td>\n",
              "      <td>0.892642</td>\n",
              "      <td>0.893233</td>\n",
              "      <td>0.892642</td>\n",
              "      <td>0.892211</td>\n",
              "    </tr>\n",
              "    <tr>\n",
              "      <td>1000</td>\n",
              "      <td>0.013800</td>\n",
              "      <td>0.505846</td>\n",
              "      <td>0.885404</td>\n",
              "      <td>0.885924</td>\n",
              "      <td>0.885404</td>\n",
              "      <td>0.885148</td>\n",
              "    </tr>\n",
              "    <tr>\n",
              "      <td>1100</td>\n",
              "      <td>0.014400</td>\n",
              "      <td>0.480712</td>\n",
              "      <td>0.897467</td>\n",
              "      <td>0.898162</td>\n",
              "      <td>0.897467</td>\n",
              "      <td>0.897156</td>\n",
              "    </tr>\n",
              "    <tr>\n",
              "      <td>1200</td>\n",
              "      <td>0.008100</td>\n",
              "      <td>0.561875</td>\n",
              "      <td>0.890229</td>\n",
              "      <td>0.893434</td>\n",
              "      <td>0.890229</td>\n",
              "      <td>0.889754</td>\n",
              "    </tr>\n",
              "    <tr>\n",
              "      <td>1300</td>\n",
              "      <td>0.008800</td>\n",
              "      <td>0.516217</td>\n",
              "      <td>0.899879</td>\n",
              "      <td>0.901081</td>\n",
              "      <td>0.899879</td>\n",
              "      <td>0.899572</td>\n",
              "    </tr>\n",
              "    <tr>\n",
              "      <td>1400</td>\n",
              "      <td>0.015900</td>\n",
              "      <td>0.521710</td>\n",
              "      <td>0.898673</td>\n",
              "      <td>0.899493</td>\n",
              "      <td>0.898673</td>\n",
              "      <td>0.898382</td>\n",
              "    </tr>\n",
              "    <tr>\n",
              "      <td>1500</td>\n",
              "      <td>0.025000</td>\n",
              "      <td>0.541631</td>\n",
              "      <td>0.898673</td>\n",
              "      <td>0.900237</td>\n",
              "      <td>0.898673</td>\n",
              "      <td>0.898269</td>\n",
              "    </tr>\n",
              "  </tbody>\n",
              "</table><p>"
            ]
          },
          "metadata": {}
        },
        {
          "output_type": "stream",
          "name": "stderr",
          "text": [
            "/usr/local/lib/python3.11/dist-packages/PIL/Image.py:1045: UserWarning: Palette images with Transparency expressed in bytes should be converted to RGBA images\n",
            "  warnings.warn(\n",
            "\u001b[34m\u001b[1mwandb\u001b[0m: Adding directory to artifact (./vit-base-beans/checkpoint-100)... Done. 6.8s\n",
            "/usr/local/lib/python3.11/dist-packages/PIL/Image.py:1045: UserWarning: Palette images with Transparency expressed in bytes should be converted to RGBA images\n",
            "  warnings.warn(\n",
            "\u001b[34m\u001b[1mwandb\u001b[0m: Adding directory to artifact (./vit-base-beans/checkpoint-200)... Done. 8.0s\n",
            "/usr/local/lib/python3.11/dist-packages/PIL/Image.py:1045: UserWarning: Palette images with Transparency expressed in bytes should be converted to RGBA images\n",
            "  warnings.warn(\n",
            "\u001b[34m\u001b[1mwandb\u001b[0m: Adding directory to artifact (./vit-base-beans/checkpoint-300)... Done. 5.9s\n",
            "/usr/local/lib/python3.11/dist-packages/PIL/Image.py:1045: UserWarning: Palette images with Transparency expressed in bytes should be converted to RGBA images\n",
            "  warnings.warn(\n",
            "\u001b[34m\u001b[1mwandb\u001b[0m: Adding directory to artifact (./vit-base-beans/checkpoint-400)... Done. 5.5s\n",
            "/usr/local/lib/python3.11/dist-packages/PIL/Image.py:1045: UserWarning: Palette images with Transparency expressed in bytes should be converted to RGBA images\n",
            "  warnings.warn(\n",
            "\u001b[34m\u001b[1mwandb\u001b[0m: Adding directory to artifact (./vit-base-beans/checkpoint-500)... Done. 27.8s\n",
            "/usr/local/lib/python3.11/dist-packages/PIL/Image.py:1045: UserWarning: Palette images with Transparency expressed in bytes should be converted to RGBA images\n",
            "  warnings.warn(\n",
            "\u001b[34m\u001b[1mwandb\u001b[0m: Adding directory to artifact (./vit-base-beans/checkpoint-600)... Done. 14.6s\n",
            "/usr/local/lib/python3.11/dist-packages/PIL/Image.py:1045: UserWarning: Palette images with Transparency expressed in bytes should be converted to RGBA images\n",
            "  warnings.warn(\n",
            "\u001b[34m\u001b[1mwandb\u001b[0m: Adding directory to artifact (./vit-base-beans/checkpoint-700)... Done. 5.2s\n",
            "/usr/local/lib/python3.11/dist-packages/PIL/Image.py:1045: UserWarning: Palette images with Transparency expressed in bytes should be converted to RGBA images\n",
            "  warnings.warn(\n",
            "\u001b[34m\u001b[1mwandb\u001b[0m: Adding directory to artifact (./vit-base-beans/checkpoint-800)... Done. 8.8s\n",
            "/usr/local/lib/python3.11/dist-packages/PIL/Image.py:1045: UserWarning: Palette images with Transparency expressed in bytes should be converted to RGBA images\n",
            "  warnings.warn(\n",
            "\u001b[34m\u001b[1mwandb\u001b[0m: Adding directory to artifact (./vit-base-beans/checkpoint-900)... Done. 6.5s\n",
            "/usr/local/lib/python3.11/dist-packages/PIL/Image.py:1045: UserWarning: Palette images with Transparency expressed in bytes should be converted to RGBA images\n",
            "  warnings.warn(\n",
            "\u001b[34m\u001b[1mwandb\u001b[0m: Adding directory to artifact (./vit-base-beans/checkpoint-1000)... Done. 14.0s\n",
            "/usr/local/lib/python3.11/dist-packages/PIL/Image.py:1045: UserWarning: Palette images with Transparency expressed in bytes should be converted to RGBA images\n",
            "  warnings.warn(\n",
            "\u001b[34m\u001b[1mwandb\u001b[0m: Adding directory to artifact (./vit-base-beans/checkpoint-1100)... Done. 7.0s\n",
            "/usr/local/lib/python3.11/dist-packages/PIL/Image.py:1045: UserWarning: Palette images with Transparency expressed in bytes should be converted to RGBA images\n",
            "  warnings.warn(\n",
            "\u001b[34m\u001b[1mwandb\u001b[0m: Adding directory to artifact (./vit-base-beans/checkpoint-1200)... Done. 6.8s\n",
            "/usr/local/lib/python3.11/dist-packages/PIL/Image.py:1045: UserWarning: Palette images with Transparency expressed in bytes should be converted to RGBA images\n",
            "  warnings.warn(\n",
            "\u001b[34m\u001b[1mwandb\u001b[0m: Adding directory to artifact (./vit-base-beans/checkpoint-1300)... Done. 6.0s\n",
            "/usr/local/lib/python3.11/dist-packages/PIL/Image.py:1045: UserWarning: Palette images with Transparency expressed in bytes should be converted to RGBA images\n",
            "  warnings.warn(\n",
            "\u001b[34m\u001b[1mwandb\u001b[0m: Adding directory to artifact (./vit-base-beans/checkpoint-1400)... Done. 6.1s\n",
            "/usr/local/lib/python3.11/dist-packages/PIL/Image.py:1045: UserWarning: Palette images with Transparency expressed in bytes should be converted to RGBA images\n",
            "  warnings.warn(\n",
            "\u001b[34m\u001b[1mwandb\u001b[0m: Adding directory to artifact (./vit-base-beans/checkpoint-1500)... Done. 10.1s\n",
            "/usr/local/lib/python3.11/dist-packages/PIL/Image.py:1045: UserWarning: Palette images with Transparency expressed in bytes should be converted to RGBA images\n",
            "  warnings.warn(\n",
            "\u001b[34m\u001b[1mwandb\u001b[0m: Adding directory to artifact (./vit-base-beans/checkpoint-1560)... Done. 12.2s\n"
          ]
        },
        {
          "output_type": "stream",
          "name": "stdout",
          "text": [
            "***** train metrics *****\n",
            "  epoch                    =         10.0\n",
            "  total_flos               = 1796328377GF\n",
            "  train_loss               =        0.087\n",
            "  train_runtime            =   0:51:31.45\n",
            "  train_samples_per_second =        8.051\n",
            "  train_steps_per_second   =        0.505\n"
          ]
        }
      ]
    },
    {
      "cell_type": "code",
      "source": [
        "metrics = trainer.evaluate(val_dataset)\n",
        "trainer.log_metrics(\"eval\", metrics)\n",
        "trainer.save_metrics(\"eval\", metrics)"
      ],
      "metadata": {
        "colab": {
          "base_uri": "https://localhost:8080/",
          "height": 251
        },
        "id": "EtFNns3PFBLf",
        "outputId": "64b883f4-5ffd-438a-8dd9-2d8155099570"
      },
      "execution_count": 79,
      "outputs": [
        {
          "output_type": "display_data",
          "data": {
            "text/plain": [
              "<IPython.core.display.HTML object>"
            ],
            "text/html": [
              "\n",
              "    <div>\n",
              "      \n",
              "      <progress value='104' max='104' style='width:300px; height:20px; vertical-align: middle;'></progress>\n",
              "      [104/104 01:00]\n",
              "    </div>\n",
              "    "
            ]
          },
          "metadata": {}
        },
        {
          "output_type": "stream",
          "name": "stderr",
          "text": [
            "/usr/local/lib/python3.11/dist-packages/PIL/Image.py:1045: UserWarning: Palette images with Transparency expressed in bytes should be converted to RGBA images\n",
            "  warnings.warn(\n"
          ]
        },
        {
          "output_type": "stream",
          "name": "stdout",
          "text": [
            "***** eval metrics *****\n",
            "  epoch                   =       10.0\n",
            "  eval_accuracy           =     0.8649\n",
            "  eval_f1_score           =     0.8647\n",
            "  eval_loss               =      0.365\n",
            "  eval_precision          =     0.8658\n",
            "  eval_recall             =     0.8649\n",
            "  eval_runtime            = 0:01:03.98\n",
            "  eval_samples_per_second =     12.956\n",
            "  eval_steps_per_second   =      1.625\n"
          ]
        }
      ]
    },
    {
      "cell_type": "code",
      "source": [],
      "metadata": {
        "id": "F0a5MID8dvCT"
      },
      "execution_count": null,
      "outputs": []
    }
  ]
}